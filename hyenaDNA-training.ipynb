{
 "cells": [
  {
   "cell_type": "markdown",
   "id": "f0dfbb7c-2280-4b01-949a-91238a892d0b",
   "metadata": {},
   "source": [
    "### 0. Install dependencies"
   ]
  },
  {
   "cell_type": "code",
   "execution_count": 228,
   "id": "82308943-5300-4cc0-856c-879e1a6f24fe",
   "metadata": {},
   "outputs": [
    {
     "name": "stdout",
     "output_type": "stream",
     "text": [
      "Note: you may need to restart the kernel to use updated packages.\n",
      "\u001b[31mERROR: pip's dependency resolver does not currently take into account all the packages that are installed. This behaviour is the source of the following dependency conflicts.\n",
      "aiobotocore 2.7.0 requires botocore<1.31.65,>=1.31.16, but you have botocore 1.34.81 which is incompatible.\u001b[0m\u001b[31m\n",
      "\u001b[0mNote: you may need to restart the kernel to use updated packages.\n"
     ]
    }
   ],
   "source": [
    "%pip install -q --upgrade pip\n",
    "%pip install -q --upgrade sagemaker boto3 awscli boto3 ipywidgets"
   ]
  },
  {
   "cell_type": "code",
   "execution_count": 27,
   "id": "f3e8d899-38ef-4e5b-b798-782d97c6144e",
   "metadata": {
    "tags": []
   },
   "outputs": [],
   "source": [
    "import json\n",
    "from pathlib import Path\n",
    "import os\n",
    "from time import strftime\n",
    "from functools import partial\n",
    "import importlib\n",
    "\n",
    "import utilities as u\n",
    "\n",
    "import boto3\n",
    "import sagemaker\n",
    "from sagemaker.experiments.run import Run\n",
    "from sagemaker.inputs import TrainingInput\n",
    "from sagemaker.pytorch import PyTorch"
   ]
  },
  {
   "cell_type": "code",
   "execution_count": 2,
   "id": "cc08ea8e-787f-42ae-bdba-4f3d8ba9c044",
   "metadata": {
    "tags": []
   },
   "outputs": [
    {
     "data": {
      "text/plain": [
       "'2.214.0'"
      ]
     },
     "execution_count": 2,
     "metadata": {},
     "output_type": "execute_result"
    }
   ],
   "source": [
    "sagemaker.__version__"
   ]
  },
  {
   "cell_type": "code",
   "execution_count": 17,
   "id": "46afa5b6-7d8e-4d4e-9be7-bedaf774694b",
   "metadata": {
    "tags": []
   },
   "outputs": [
    {
     "name": "stderr",
     "output_type": "stream",
     "text": [
      "INFO:botocore.credentials:Found credentials from IAM Role: BaseNotebookInstanceEc2InstanceRole\n"
     ]
    },
    {
     "name": "stdout",
     "output_type": "stream",
     "text": [
      "Assumed SageMaker role is arn:aws:iam::111918798052:role/Admin\n"
     ]
    }
   ],
   "source": [
    "boto_session = boto3.session.Session()\n",
    "sagemaker_session = sagemaker.session.Session(boto_session)\n",
    "\n",
    "REGION_NAME = sagemaker_session.boto_region_name\n",
    "S3_BUCKET = sagemaker_session.default_bucket()\n",
    "\n",
    "EXPERIMENT_NAME = \"hyenaDNA-pretraining-v2\"\n",
    "\n",
    "SAGEMAKER_EXECUTION_ROLE = sagemaker.session.get_execution_role(sagemaker_session)\n",
    "print(f\"Assumed SageMaker role is {SAGEMAKER_EXECUTION_ROLE}\")"
   ]
  },
  {
   "cell_type": "markdown",
   "id": "87cd25e8-4256-49b5-97ef-b98ed7f0657e",
   "metadata": {},
   "source": [
    "### 1. Read the data from AWS HealthOmics"
   ]
  },
  {
   "cell_type": "code",
   "execution_count": 4,
   "id": "b0bebb2c-f925-4532-8c03-60195f26d657",
   "metadata": {
    "tags": []
   },
   "outputs": [],
   "source": [
    "seq_store_id = \"4308389581\"\n",
    "!aws omics get-sequence-store --id {seq_store_id} > /tmp/seq-store.json"
   ]
  },
  {
   "cell_type": "code",
   "execution_count": 12,
   "id": "fb730083-8bdf-4ffe-a4df-f85d9b14a018",
   "metadata": {
    "tags": []
   },
   "outputs": [
    {
     "data": {
      "text/plain": [
       "('s3://111918798052-4308389-m7r4grkrg7nkpmf5swnjwf1iqsdieuse1b-s3alias/111918798052/sequenceStore/4308389581/',\n",
       " 'arn:aws:s3:us-east-1:559620149354:accesspoint/111918798052-4308389581',\n",
       " 'arn:aws:kms:us-east-1:559620149354:key/ef42c6a8-5692-4a6c-9a66-a2d1058a9a41')"
      ]
     },
     "execution_count": 12,
     "metadata": {},
     "output_type": "execute_result"
    }
   ],
   "source": [
    "seq_store_info = json.loads(Path(\"/tmp/seq-store.json\").read_text())\n",
    "s3_uri = seq_store_info[\"s3Access\"][\"s3Uri\"]\n",
    "s3_arn = seq_store_info[\"s3Access\"][\"s3AccessPointArn\"]\n",
    "key_arn = seq_store_info[\"sseConfig\"][\"keyArn\"]\n",
    "s3_uri, s3_arn, key_arn"
   ]
  },
  {
   "cell_type": "markdown",
   "id": "6120bb71-a43e-4e15-bc36-800ae4c320ed",
   "metadata": {},
   "source": [
    "For this notebook to access the objects in the above S3 access point, `s3uri`, you must add a policy\n",
    "to this notebook's execution role (`SAGEMAKER_EXECUTION_ROLE`). The output of the following cell is the policy that\n",
    "you should attach to this role:"
   ]
  },
  {
   "cell_type": "code",
   "execution_count": 15,
   "id": "63c953ee-7029-4562-b008-76b8f7594e81",
   "metadata": {
    "tags": []
   },
   "outputs": [
    {
     "name": "stdout",
     "output_type": "stream",
     "text": [
      "{\n",
      "  \"Version\": \"2012-10-17\",\n",
      "  \"Statement\": [\n",
      "    {\n",
      "      \"Sid\": \"S3DirectAccess\",\n",
      "      \"Effect\": \"Allow\",\n",
      "      \"Action\": [\n",
      "        \"s3:GetObject\",\n",
      "        \"s3:ListBucket\"\n",
      "      ],\n",
      "      \"Resource\": \"*\",\n",
      "      \"Condition\": {\n",
      "        \"StringEquals\": {\n",
      "          \"s3:DataAccessPointArn\": \"arn:aws:s3:us-east-1:559620149354:accesspoint/111918798052-4308389581\"\n",
      "        }\n",
      "      }\n",
      "    },\n",
      "    {\n",
      "      \"Sid\": \"DefaultSequenceStoreKMSDecrypt\",\n",
      "      \"Effect\": \"Allow\",\n",
      "      \"Action\": \"kms:Decrypt\",\n",
      "      \"Resource\": \"arn:aws:kms:us-east-1:559620149354:key/ef42c6a8-5692-4a6c-9a66-a2d1058a9a41\"\n",
      "    }\n",
      "  ]\n",
      "}\n"
     ]
    }
   ],
   "source": [
    "print(json.dumps({\n",
    "    \"Version\": \"2012-10-17\",\n",
    "    \"Statement\": [\n",
    "        { \n",
    "            \"Sid\": \"S3DirectAccess\",\n",
    "            \"Effect\": \"Allow\",\n",
    "            \"Action\": [ \n",
    "                \"s3:GetObject\",\n",
    "                \"s3:ListBucket\"\n",
    "            ], \n",
    "            \"Resource\": \"*\",\n",
    "            \"Condition\": {\n",
    "                \"StringEquals\": {\n",
    "                    \"s3:DataAccessPointArn\": s3_arn\n",
    "                } \n",
    "            }\n",
    "        },\n",
    "        { \n",
    "            \"Sid\": \"DefaultSequenceStoreKMSDecrypt\",\n",
    "            \"Effect\": \"Allow\",\n",
    "            \"Action\": \"kms:Decrypt\",\n",
    "            \"Resource\": key_arn\n",
    "        }\n",
    "    ] \n",
    "}, indent=2))"
   ]
  },
  {
   "cell_type": "markdown",
   "id": "5a4f09ee-167c-409f-8242-7cbf98672968",
   "metadata": {},
   "source": [
    "#### 1.1 Load the data from S3 to the local disc"
   ]
  },
  {
   "cell_type": "code",
   "execution_count": 54,
   "id": "11d3a09d-e518-4c0d-a8cd-ff26b05ea7fc",
   "metadata": {
    "tags": []
   },
   "outputs": [
    {
     "name": "stdout",
     "output_type": "stream",
     "text": [
      "download: s3://111918798052-4308389-m7r4grkrg7nkpmf5swnjwf1iqsdieuse1b-s3alias/111918798052/sequenceStore/4308389581/readSet/2677481661/chr8.fq.gz to ../../../tmp/data/mouse/2677481661/chr8.fq.gz\n",
      "download: s3://111918798052-4308389-m7r4grkrg7nkpmf5swnjwf1iqsdieuse1b-s3alias/111918798052/sequenceStore/4308389581/readSet/2063114856/chr16.fq.gz to ../../../tmp/data/mouse/2063114856/chr16.fq.gz\n",
      "download: s3://111918798052-4308389-m7r4grkrg7nkpmf5swnjwf1iqsdieuse1b-s3alias/111918798052/sequenceStore/4308389581/readSet/2043193651/chr17.fq.gz to ../../../tmp/data/mouse/2043193651/chr17.fq.gz\n",
      "download: s3://111918798052-4308389-m7r4grkrg7nkpmf5swnjwf1iqsdieuse1b-s3alias/111918798052/sequenceStore/4308389581/readSet/1040759226/chr12.fq.gz to ../../../tmp/data/mouse/1040759226/chr12.fq.gz\n",
      "download: s3://111918798052-4308389-m7r4grkrg7nkpmf5swnjwf1iqsdieuse1b-s3alias/111918798052/sequenceStore/4308389581/readSet/4019662486/chr5.fq.gz to ../../../tmp/data/mouse/4019662486/chr5.fq.gz\n",
      "download: s3://111918798052-4308389-m7r4grkrg7nkpmf5swnjwf1iqsdieuse1b-s3alias/111918798052/sequenceStore/4308389581/readSet/4164737562/chr9.fq.gz to ../../../tmp/data/mouse/4164737562/chr9.fq.gz\n",
      "download: s3://111918798052-4308389-m7r4grkrg7nkpmf5swnjwf1iqsdieuse1b-s3alias/111918798052/sequenceStore/4308389581/readSet/4291333584/chr10.fq.gz to ../../../tmp/data/mouse/4291333584/chr10.fq.gz\n",
      "download: s3://111918798052-4308389-m7r4grkrg7nkpmf5swnjwf1iqsdieuse1b-s3alias/111918798052/sequenceStore/4308389581/readSet/4399289471/chr1.fq.gz to ../../../tmp/data/mouse/4399289471/chr1.fq.gz\n",
      "download: s3://111918798052-4308389-m7r4grkrg7nkpmf5swnjwf1iqsdieuse1b-s3alias/111918798052/sequenceStore/4308389581/readSet/5719009676/chr4.fq.gz to ../../../tmp/data/mouse/5719009676/chr4.fq.gz\n",
      "download: s3://111918798052-4308389-m7r4grkrg7nkpmf5swnjwf1iqsdieuse1b-s3alias/111918798052/sequenceStore/4308389581/readSet/4552296085/chr11.fq.gz to ../../../tmp/data/mouse/4552296085/chr11.fq.gz\n",
      "download: s3://111918798052-4308389-m7r4grkrg7nkpmf5swnjwf1iqsdieuse1b-s3alias/111918798052/sequenceStore/4308389581/readSet/4815912818/chrX.fq.gz to ../../../tmp/data/mouse/4815912818/chrX.fq.gz\n",
      "download: s3://111918798052-4308389-m7r4grkrg7nkpmf5swnjwf1iqsdieuse1b-s3alias/111918798052/sequenceStore/4308389581/readSet/5628991692/chr19.fq.gz to ../../../tmp/data/mouse/5628991692/chr19.fq.gz\n",
      "download: s3://111918798052-4308389-m7r4grkrg7nkpmf5swnjwf1iqsdieuse1b-s3alias/111918798052/sequenceStore/4308389581/readSet/6611795136/chr18.fq.gz to ../../../tmp/data/mouse/6611795136/chr18.fq.gz\n",
      "download: s3://111918798052-4308389-m7r4grkrg7nkpmf5swnjwf1iqsdieuse1b-s3alias/111918798052/sequenceStore/4308389581/readSet/6849506425/chr2.fq.gz to ../../../tmp/data/mouse/6849506425/chr2.fq.gz\n",
      "download: s3://111918798052-4308389-m7r4grkrg7nkpmf5swnjwf1iqsdieuse1b-s3alias/111918798052/sequenceStore/4308389581/readSet/7048177625/chr3.fq.gz to ../../../tmp/data/mouse/7048177625/chr3.fq.gz\n",
      "download: s3://111918798052-4308389-m7r4grkrg7nkpmf5swnjwf1iqsdieuse1b-s3alias/111918798052/sequenceStore/4308389581/readSet/5832638637/chr14.fq.gz to ../../../tmp/data/mouse/5832638637/chr14.fq.gz\n",
      "download: s3://111918798052-4308389-m7r4grkrg7nkpmf5swnjwf1iqsdieuse1b-s3alias/111918798052/sequenceStore/4308389581/readSet/7039739896/chr13.fq.gz to ../../../tmp/data/mouse/7039739896/chr13.fq.gz\n",
      "download: s3://111918798052-4308389-m7r4grkrg7nkpmf5swnjwf1iqsdieuse1b-s3alias/111918798052/sequenceStore/4308389581/readSet/8963750725/chr15.fq.gz to ../../../tmp/data/mouse/8963750725/chr15.fq.gz\n",
      "download: s3://111918798052-4308389-m7r4grkrg7nkpmf5swnjwf1iqsdieuse1b-s3alias/111918798052/sequenceStore/4308389581/readSet/8761700955/chr7.fq.gz to ../../../tmp/data/mouse/8761700955/chr7.fq.gz\n",
      "download: s3://111918798052-4308389-m7r4grkrg7nkpmf5swnjwf1iqsdieuse1b-s3alias/111918798052/sequenceStore/4308389581/readSet/9274193512/chr6.fq.gz to ../../../tmp/data/mouse/9274193512/chr6.fq.gz\n"
     ]
    }
   ],
   "source": [
    "data_dir = Path(\"/tmp/data/mouse\")\n",
    "!aws s3 cp --recursive {s3_uri}readSet/ {str(data_dir)}"
   ]
  },
  {
   "cell_type": "markdown",
   "id": "6a2147dc-1d22-48dd-be39-18578895912e",
   "metadata": {
    "tags": []
   },
   "source": [
    "#### 1.2 Uncompress the files"
   ]
  },
  {
   "cell_type": "code",
   "execution_count": 55,
   "id": "cc128743-c478-4d92-9b75-59ef8b45c490",
   "metadata": {
    "tags": []
   },
   "outputs": [
    {
     "name": "stdout",
     "output_type": "stream",
     "text": [
      "/tmp/data/mouse/1040759226/chr12.fq.gz -> /tmp/data/mouse/1040759226/chr12.fq\n",
      "Deleted /tmp/data/mouse/1040759226/chr12.fq.gz\n",
      "/tmp/data/mouse/2043193651/chr17.fq.gz -> /tmp/data/mouse/2043193651/chr17.fq\n",
      "Deleted /tmp/data/mouse/2043193651/chr17.fq.gz\n",
      "/tmp/data/mouse/2677481661/chr8.fq.gz -> /tmp/data/mouse/2677481661/chr8.fq\n",
      "Deleted /tmp/data/mouse/2677481661/chr8.fq.gz\n",
      "/tmp/data/mouse/2063114856/chr16.fq.gz -> /tmp/data/mouse/2063114856/chr16.fq\n",
      "Deleted /tmp/data/mouse/2063114856/chr16.fq.gz\n",
      "/tmp/data/mouse/4019662486/chr5.fq.gz -> /tmp/data/mouse/4019662486/chr5.fq\n",
      "Deleted /tmp/data/mouse/4019662486/chr5.fq.gz\n",
      "/tmp/data/mouse/4164737562/chr9.fq.gz -> /tmp/data/mouse/4164737562/chr9.fq\n",
      "Deleted /tmp/data/mouse/4164737562/chr9.fq.gz\n",
      "/tmp/data/mouse/4291333584/chr10.fq.gz -> /tmp/data/mouse/4291333584/chr10.fq\n",
      "Deleted /tmp/data/mouse/4291333584/chr10.fq.gz\n",
      "/tmp/data/mouse/4399289471/chr1.fq.gz -> /tmp/data/mouse/4399289471/chr1.fq\n",
      "Deleted /tmp/data/mouse/4399289471/chr1.fq.gz\n",
      "/tmp/data/mouse/5719009676/chr4.fq.gz -> /tmp/data/mouse/5719009676/chr4.fq\n",
      "Deleted /tmp/data/mouse/5719009676/chr4.fq.gz\n",
      "/tmp/data/mouse/4552296085/chr11.fq.gz -> /tmp/data/mouse/4552296085/chr11.fq\n",
      "Deleted /tmp/data/mouse/4552296085/chr11.fq.gz\n",
      "/tmp/data/mouse/4815912818/chrX.fq.gz -> /tmp/data/mouse/4815912818/chrX.fq\n",
      "Deleted /tmp/data/mouse/4815912818/chrX.fq.gz\n",
      "/tmp/data/mouse/5628991692/chr19.fq.gz -> /tmp/data/mouse/5628991692/chr19.fq\n",
      "Deleted /tmp/data/mouse/5628991692/chr19.fq.gz\n",
      "/tmp/data/mouse/6611795136/chr18.fq.gz -> /tmp/data/mouse/6611795136/chr18.fq\n",
      "Deleted /tmp/data/mouse/6611795136/chr18.fq.gz\n",
      "/tmp/data/mouse/7039739896/chr13.fq.gz -> /tmp/data/mouse/7039739896/chr13.fq\n",
      "Deleted /tmp/data/mouse/7039739896/chr13.fq.gz\n",
      "/tmp/data/mouse/6849506425/chr2.fq.gz -> /tmp/data/mouse/6849506425/chr2.fq\n",
      "Deleted /tmp/data/mouse/6849506425/chr2.fq.gz\n",
      "/tmp/data/mouse/5832638637/chr14.fq.gz -> /tmp/data/mouse/5832638637/chr14.fq\n",
      "Deleted /tmp/data/mouse/5832638637/chr14.fq.gz\n",
      "/tmp/data/mouse/7048177625/chr3.fq.gz -> /tmp/data/mouse/7048177625/chr3.fq\n",
      "Deleted /tmp/data/mouse/7048177625/chr3.fq.gz\n",
      "/tmp/data/mouse/8963750725/chr15.fq.gz -> /tmp/data/mouse/8963750725/chr15.fq\n",
      "Deleted /tmp/data/mouse/8963750725/chr15.fq.gz\n",
      "/tmp/data/mouse/8761700955/chr7.fq.gz -> /tmp/data/mouse/8761700955/chr7.fq\n",
      "Deleted /tmp/data/mouse/8761700955/chr7.fq.gz\n",
      "/tmp/data/mouse/9274193512/chr6.fq.gz -> /tmp/data/mouse/9274193512/chr6.fq\n",
      "Deleted /tmp/data/mouse/9274193512/chr6.fq.gz\n",
      "Done\n"
     ]
    }
   ],
   "source": [
    "fastq_files = u.convert_directory(data_dir, suffix=\".fq.gz\",\n",
    "                                  convertor=partial(u.gunzip_file,\n",
    "                                                    suffix=\".gz\"),\n",
    "                                  delete_orig_file=True)"
   ]
  },
  {
   "cell_type": "markdown",
   "id": "12e252fc-cc2b-4474-8404-444027392e22",
   "metadata": {
    "tags": []
   },
   "source": [
    "#### 1.3 Convert each FASTQ into an equivalent FASTA"
   ]
  },
  {
   "cell_type": "code",
   "execution_count": 56,
   "id": "2930a3a5-6283-475c-9282-fdc567992590",
   "metadata": {
    "tags": []
   },
   "outputs": [
    {
     "name": "stdout",
     "output_type": "stream",
     "text": [
      "/tmp/data/mouse/1040759226/chr12.fq -> /tmp/data/mouse/1040759226/chr12.fa\n",
      "Deleted /tmp/data/mouse/1040759226/chr12.fq\n",
      "/tmp/data/mouse/2043193651/chr17.fq -> /tmp/data/mouse/2043193651/chr17.fa\n",
      "Deleted /tmp/data/mouse/2043193651/chr17.fq\n",
      "/tmp/data/mouse/2677481661/chr8.fq -> /tmp/data/mouse/2677481661/chr8.fa\n",
      "Deleted /tmp/data/mouse/2677481661/chr8.fq\n",
      "/tmp/data/mouse/2063114856/chr16.fq -> /tmp/data/mouse/2063114856/chr16.fa\n",
      "Deleted /tmp/data/mouse/2063114856/chr16.fq\n",
      "/tmp/data/mouse/4019662486/chr5.fq -> /tmp/data/mouse/4019662486/chr5.fa\n",
      "Deleted /tmp/data/mouse/4019662486/chr5.fq\n",
      "/tmp/data/mouse/4164737562/chr9.fq -> /tmp/data/mouse/4164737562/chr9.fa\n",
      "Deleted /tmp/data/mouse/4164737562/chr9.fq\n",
      "/tmp/data/mouse/4291333584/chr10.fq -> /tmp/data/mouse/4291333584/chr10.fa\n",
      "Deleted /tmp/data/mouse/4291333584/chr10.fq\n",
      "/tmp/data/mouse/4399289471/chr1.fq -> /tmp/data/mouse/4399289471/chr1.fa\n",
      "Deleted /tmp/data/mouse/4399289471/chr1.fq\n",
      "/tmp/data/mouse/5719009676/chr4.fq -> /tmp/data/mouse/5719009676/chr4.fa\n",
      "Deleted /tmp/data/mouse/5719009676/chr4.fq\n",
      "/tmp/data/mouse/4552296085/chr11.fq -> /tmp/data/mouse/4552296085/chr11.fa\n",
      "Deleted /tmp/data/mouse/4552296085/chr11.fq\n",
      "/tmp/data/mouse/4815912818/chrX.fq -> /tmp/data/mouse/4815912818/chrX.fa\n",
      "Deleted /tmp/data/mouse/4815912818/chrX.fq\n",
      "/tmp/data/mouse/5628991692/chr19.fq -> /tmp/data/mouse/5628991692/chr19.fa\n",
      "Deleted /tmp/data/mouse/5628991692/chr19.fq\n",
      "/tmp/data/mouse/6611795136/chr18.fq -> /tmp/data/mouse/6611795136/chr18.fa\n",
      "Deleted /tmp/data/mouse/6611795136/chr18.fq\n",
      "/tmp/data/mouse/7039739896/chr13.fq -> /tmp/data/mouse/7039739896/chr13.fa\n",
      "Deleted /tmp/data/mouse/7039739896/chr13.fq\n",
      "/tmp/data/mouse/6849506425/chr2.fq -> /tmp/data/mouse/6849506425/chr2.fa\n",
      "Deleted /tmp/data/mouse/6849506425/chr2.fq\n",
      "/tmp/data/mouse/5832638637/chr14.fq -> /tmp/data/mouse/5832638637/chr14.fa\n",
      "Deleted /tmp/data/mouse/5832638637/chr14.fq\n",
      "/tmp/data/mouse/7048177625/chr3.fq -> /tmp/data/mouse/7048177625/chr3.fa\n",
      "Deleted /tmp/data/mouse/7048177625/chr3.fq\n",
      "/tmp/data/mouse/8963750725/chr15.fq -> /tmp/data/mouse/8963750725/chr15.fa\n",
      "Deleted /tmp/data/mouse/8963750725/chr15.fq\n",
      "/tmp/data/mouse/8761700955/chr7.fq -> /tmp/data/mouse/8761700955/chr7.fa\n",
      "Deleted /tmp/data/mouse/8761700955/chr7.fq\n",
      "/tmp/data/mouse/9274193512/chr6.fq -> /tmp/data/mouse/9274193512/chr6.fa\n",
      "Deleted /tmp/data/mouse/9274193512/chr6.fq\n",
      "Done\n"
     ]
    }
   ],
   "source": [
    "importlib.reload(u)\n",
    "fasta_files = u.convert_directory(data_dir, suffix=\".fq\",\n",
    "                                  convertor=u.convert_fastq_to_fasta,\n",
    "                                  delete_orig_file=True)"
   ]
  },
  {
   "cell_type": "markdown",
   "id": "dfeadcec-beab-40ae-ab4b-df3d80aaebee",
   "metadata": {
    "tags": []
   },
   "source": [
    "#### 1.4 Re-jigger the directory hierachy to match what HyenaDNA needs"
   ]
  },
  {
   "cell_type": "code",
   "execution_count": 57,
   "id": "87f65d3f-f552-4382-8199-285770dad83c",
   "metadata": {
    "tags": []
   },
   "outputs": [
    {
     "name": "stdout",
     "output_type": "stream",
     "text": [
      "Moved /tmp/data/mouse/1040759226/chr12.fa to /tmp/data/mouse/chr12.fa\n",
      "Moved /tmp/data/mouse/2043193651/chr17.fa to /tmp/data/mouse/chr17.fa\n",
      "Moved /tmp/data/mouse/2677481661/chr8.fa to /tmp/data/mouse/chr8.fa\n",
      "Moved /tmp/data/mouse/2063114856/chr16.fa to /tmp/data/mouse/chr16.fa\n",
      "Moved /tmp/data/mouse/4019662486/chr5.fa to /tmp/data/mouse/chr5.fa\n",
      "Moved /tmp/data/mouse/4164737562/chr9.fa to /tmp/data/mouse/chr9.fa\n",
      "Moved /tmp/data/mouse/4291333584/chr10.fa to /tmp/data/mouse/chr10.fa\n",
      "Moved /tmp/data/mouse/4399289471/chr1.fa to /tmp/data/mouse/chr1.fa\n",
      "Moved /tmp/data/mouse/5719009676/chr4.fa to /tmp/data/mouse/chr4.fa\n",
      "Moved /tmp/data/mouse/4552296085/chr11.fa to /tmp/data/mouse/chr11.fa\n",
      "Moved /tmp/data/mouse/4815912818/chrX.fa to /tmp/data/mouse/chrX.fa\n",
      "Moved /tmp/data/mouse/5628991692/chr19.fa to /tmp/data/mouse/chr19.fa\n",
      "Moved /tmp/data/mouse/6611795136/chr18.fa to /tmp/data/mouse/chr18.fa\n",
      "Moved /tmp/data/mouse/7039739896/chr13.fa to /tmp/data/mouse/chr13.fa\n",
      "Moved /tmp/data/mouse/6849506425/chr2.fa to /tmp/data/mouse/chr2.fa\n",
      "Moved /tmp/data/mouse/5832638637/chr14.fa to /tmp/data/mouse/chr14.fa\n",
      "Moved /tmp/data/mouse/7048177625/chr3.fa to /tmp/data/mouse/chr3.fa\n",
      "Moved /tmp/data/mouse/8963750725/chr15.fa to /tmp/data/mouse/chr15.fa\n",
      "Moved /tmp/data/mouse/8761700955/chr7.fa to /tmp/data/mouse/chr7.fa\n",
      "Moved /tmp/data/mouse/9274193512/chr6.fa to /tmp/data/mouse/chr6.fa\n"
     ]
    }
   ],
   "source": [
    "# Remove the readSet dir segments\n",
    "for child in data_dir.rglob(\"**/*\"):\n",
    "    if child.is_file():\n",
    "        path = str(child).split(\"/\")\n",
    "        new_path = path[:-2] + path[-1:]\n",
    "        target = child.rename(Path(\"/\".join(new_path)))\n",
    "        print(f\"Moved {child} to {target}\")"
   ]
  },
  {
   "cell_type": "markdown",
   "id": "6ab4d0b7-0eb9-4757-aa89-aec2ca107115",
   "metadata": {},
   "source": [
    "### 2. Training\n",
    "\n"
   ]
  },
  {
   "cell_type": "markdown",
   "id": "c7a68d1b-edb1-49ee-acae-076bdecff096",
   "metadata": {},
   "source": [
    "### 2.1 Define the training container "
   ]
  },
  {
   "cell_type": "code",
   "execution_count": 253,
   "id": "e7e3deae-0de2-499e-a60a-c76aaef138ec",
   "metadata": {},
   "outputs": [
    {
     "data": {
      "text/plain": [
       "'763104351884.dkr.ecr.us-east-1.amazonaws.com/pytorch-training:2.2.0-gpu-py310-cu121-ubuntu20.04-sagemaker'"
      ]
     },
     "execution_count": 253,
     "metadata": {},
     "output_type": "execute_result"
    }
   ],
   "source": [
    "pytorch_image_uri = f\"763104351884.dkr.ecr.{REGION_NAME}.amazonaws.com/pytorch-training:2.2.0-gpu-py310-cu121-ubuntu20.04-sagemaker\"\n",
    "pytorch_image_uri"
   ]
  },
  {
   "cell_type": "markdown",
   "id": "c52a3e14-2cab-472a-96d9-808c39c4f8c8",
   "metadata": {},
   "source": [
    "#### 2.2 Define the training job parameters"
   ]
  },
  {
   "cell_type": "code",
   "execution_count": 401,
   "id": "cfe0c7f6-0a53-483a-80ae-793ad58d7ee5",
   "metadata": {},
   "outputs": [],
   "source": [
    "MODEL_ID = 'LongSafari/hyenadna-small-32k-seqlen-hf'\n",
    "TRAINING_JOB_NAME = 'hyenaDNA-pretraining'\n",
    "\n",
    "# Additional training parameters\n",
    "hyperparameters = {\n",
    "    \"species\" : \"mouse\",\n",
    "    \"epochs\": 150,\n",
    "    \"model_checkpoint\": MODEL_ID,\n",
    "    \"max_length\": 32_000,\n",
    "    \"batch_size\": 4, \n",
    "    \"learning_rate\": 6e-4,\n",
    "    \"weight_decay\" : 0.1,\n",
    "    \"log_level\" : \"INFO\",\n",
    "    \"log_interval\" : 100\n",
    "}\n"
   ]
  },
  {
   "cell_type": "markdown",
   "id": "3178423a-828b-4101-b540-5efe22b5e223",
   "metadata": {},
   "source": [
    "#### 2.3 Define Metrics to track\n"
   ]
  },
  {
   "cell_type": "code",
   "execution_count": 460,
   "id": "4ad98da5-1d11-4eb4-8718-2e4cb4834872",
   "metadata": {},
   "outputs": [],
   "source": [
    "metric_definitions = [\n",
    "    {\"Name\": \"epoch\", \"Regex\": \"Epoch: ([0-9.]*)\"},\n",
    "    {\"Name\": \"step\", \"Regex\": \"Step: ([0-9.]*)\"},\n",
    "    {\"Name\": \"train_loss\", \"Regex\": \"Train Loss: ([0-9.e-]*)\"},\n",
    "    {\"Name\": \"train_perplexity\", \"Regex\": \"Train Perplexity: ([0-9.e-]*)\"},\n",
    "    {\"Name\": \"eval_loss\", \"Regex\": \"Eval Average Loss: ([0-9.e-]*)\"},\n",
    "    {\"Name\": \"eval_perplexity\", \"Regex\": \"Eval Perplexity: ([0-9.e-]*)\"}\n",
    "]"
   ]
  },
  {
   "cell_type": "markdown",
   "id": "82c9636d-1707-42ee-aa77-3f63c095285c",
   "metadata": {},
   "source": [
    "#### 2.4 Define the tensorboard configurations to track the training results"
   ]
  },
  {
   "cell_type": "code",
   "execution_count": 403,
   "id": "d22067bf-c6b5-478d-b8ca-65a0bd487768",
   "metadata": {},
   "outputs": [],
   "source": [
    "from sagemaker.debugger import TensorBoardOutputConfig\n",
    "\n",
    "LOG_DIR=\"/opt/ml/output/tensorboard\"\n",
    "\n",
    "output_path = os.path.join(\n",
    "    \"s3://\", S3_BUCKET, \"sagemaker-output\", \"training\", TRAINING_JOB_NAME\n",
    ")\n",
    "\n",
    "tensorboard_output_config = TensorBoardOutputConfig(\n",
    "    s3_output_path=os.path.join(output_path, 'tensorboard'),\n",
    "    container_local_output_path=LOG_DIR\n",
    ")"
   ]
  },
  {
   "cell_type": "markdown",
   "id": "af18fb5e-e1cf-447b-84fa-eb80b347c9e1",
   "metadata": {},
   "source": [
    "#### 2.4 Define Estimator"
   ]
  },
  {
   "cell_type": "code",
   "execution_count": 404,
   "id": "dcd8126d-605c-40c6-bce1-a68602f80e82",
   "metadata": {},
   "outputs": [],
   "source": [
    "hyenaDNA_estimator = PyTorch(\n",
    "    base_job_name=TRAINING_JOB_NAME,\n",
    "    entry_point=\"train_hf_accelerate.py\",\n",
    "    source_dir=\"scripts/\",\n",
    "    instance_type=\"ml.g5.12xlarge\",\n",
    "    instance_count=1,\n",
    "    image_uri=pytorch_image_uri,\n",
    "    role=SAGEMAKER_EXECUTION_ROLE,\n",
    "    hyperparameters=hyperparameters,\n",
    "    metric_definitions=metric_definitions,\n",
    "    sagemaker_session=sagemaker_session,\n",
    "    distribution={\"torch_distributed\": {\"enabled\": True}},\n",
    "    tags=[{\"Key\": \"project\", \"Value\": \"genomics-model-pretraining\"}],\n",
    "    keep_alive_period_in_seconds=1800,\n",
    "    tensorboard_output_config=tensorboard_output_config,\n",
    ")\n"
   ]
  },
  {
   "cell_type": "markdown",
   "id": "ea04af1c-82ce-44ca-bce7-76d9776c6d95",
   "metadata": {},
   "source": [
    "#### 2.5 Start Training with Distributed Data Parallel"
   ]
  },
  {
   "cell_type": "code",
   "execution_count": 405,
   "id": "f2b5544d-cffb-4a1a-bbe5-5d260c31bf2d",
   "metadata": {},
   "outputs": [
    {
     "name": "stderr",
     "output_type": "stream",
     "text": [
      "INFO:sagemaker:Creating training-job with name: hyenaDNA-pretraining-2024-04-11-01-11-51-388\n"
     ]
    }
   ],
   "source": [
    "with Run(\n",
    "    experiment_name=EXPERIMENT_NAME,\n",
    "    sagemaker_session=sagemaker_session,\n",
    ") as run:\n",
    "    hyenaDNA_estimator.fit(\n",
    "        {\n",
    "            \"data\": TrainingInput(\n",
    "                s3_data=data_uri, input_mode=\"File\"\n",
    "            ),\n",
    "        },\n",
    "        wait=False,\n",
    "    )\n"
   ]
  },
  {
   "cell_type": "code",
   "execution_count": 461,
   "id": "5efe1b4b-f7d5-402c-93ed-0844a64fd581",
   "metadata": {},
   "outputs": [
    {
     "data": {
      "text/plain": [
       "'hyenaDNA-pretraining-2024-04-11-01-11-51-388'"
      ]
     },
     "execution_count": 461,
     "metadata": {},
     "output_type": "execute_result"
    }
   ],
   "source": [
    "training_job_name = hyenaDNA_estimator.latest_training_job.name\n",
    "training_job_name"
   ]
  },
  {
   "cell_type": "markdown",
   "id": "59941ec0-9bb4-44f6-994d-eaa77b2adb10",
   "metadata": {},
   "source": [
    "### 5. Training Results "
   ]
  },
  {
   "cell_type": "markdown",
   "id": "9c6e66b6-92ce-4f8c-bc75-e884ee71b98a",
   "metadata": {},
   "source": [
    "* In our training process we had pushed the training resulsts to Tensorboard. You can see them using SageMaker tensorboad application. Execuate following cell to get link to the the tensorboard application"
   ]
  },
  {
   "cell_type": "code",
   "execution_count": 462,
   "id": "e743bb7b-6791-45fe-b678-4c9bee380e14",
   "metadata": {},
   "outputs": [
    {
     "name": "stderr",
     "output_type": "stream",
     "text": [
      "WARNING:sagemaker.interactive_apps.base_interactive_app:A presigned domain URL was generated. This is sensitive and should not be shared with others.\n"
     ]
    },
    {
     "data": {
      "text/plain": [
       "'https://studio-d-xgpxwyumgsdh.studio.us-east-1.sagemaker.aws/auth?token=eyJhbGciOiJIUzI1NiJ9.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.O_gqU_jziurfXLGz1ZveCVkFcBLBAszCqyXDLCvBL1A&redirect=TensorBoard&state=L3RlbnNvcmJvYXJkL2RlZmF1bHQvZGF0YS9wbHVnaW4vc2FnZW1ha2VyX2RhdGFfbWFuYWdlci9hZGRfZm9sZGVyX29yX2pvYj9SZWRpcmVjdD1UcnVlJk5hbWU9aHllbmFETkEtcHJldHJhaW5pbmctMjAyNC0wNC0xMS0wMS0xMS01MS0zODg='"
      ]
     },
     "execution_count": 462,
     "metadata": {},
     "output_type": "execute_result"
    }
   ],
   "source": [
    "from sagemaker.interactive_apps.tensorboard import TensorBoardApp\n",
    "\n",
    "user_profile = \"shamika\"\n",
    "\n",
    "with open(\"/opt/ml/metadata/resource-metadata.json\", \"r\") as f:\n",
    "    app_metadata = json.loads(f.read())\n",
    "    sm_user_profile_name = app_metadata[\"SpaceName\"]\n",
    "    sm_domain_id = app_metadata[\"DomainId\"]\n",
    "\n",
    "tb_app = TensorBoardApp(REGION_NAME)\n",
    "tb_app.get_app_url(\n",
    "    training_job_name=training_job_name,\n",
    "    create_presigned_domain_url=True,           \n",
    "    domain_id=sm_domain_id,                 \n",
    "    user_profile_name=user_profile, \n",
    "    open_in_default_web_browser=False,\n",
    "    optional_create_presigned_url_kwargs={} \n",
    ")"
   ]
  },
  {
   "cell_type": "markdown",
   "id": "8c23d90b-f961-4f82-aa0c-46f7a6124c3a",
   "metadata": {},
   "source": [
    "### 6. Deploy trained model to an realtime endpoint"
   ]
  },
  {
   "cell_type": "code",
   "execution_count": 321,
   "id": "93e65ac9-4ebf-4866-8578-8d8706fe1036",
   "metadata": {},
   "outputs": [
    {
     "name": "stdout",
     "output_type": "stream",
     "text": [
      "\n",
      "2024-04-06 17:23:11 Starting - Starting the training job\n",
      "2024-04-06 17:23:11 Pending - Preparing the instances for training\n",
      "2024-04-06 17:23:11 Downloading - Downloading the training image\n",
      "2024-04-06 17:23:11 Training - Training image download completed. Training in progress.\n",
      "2024-04-06 17:23:11 Uploading - Uploading generated training model\n",
      "2024-04-06 17:23:11 Completed - Instances not retained as a result of warmpool resource limits being exceeded\n"
     ]
    },
    {
     "data": {
      "text/plain": [
       "'s3://sagemaker-us-east-1-111918798052/hyenaDNA-pretraining-2024-04-06-06-23-26-412/output/model.tar.gz'"
      ]
     },
     "execution_count": 321,
     "metadata": {},
     "output_type": "execute_result"
    }
   ],
   "source": [
    "from sagemaker.pytorch.model import PyTorchModel\n",
    "from sagemaker.serializers import JSONSerializer\n",
    "from sagemaker.estimator import Estimator\n",
    "\n",
    "#training_job_name = \"hyenaDNA-pretraining-2024-04-06-06-23-26-412\"\n",
    "attached_estimator = Estimator.attach(training_job_name)\n",
    "\n",
    "model_data = attached_estimator.model_data\n",
    "model_data"
   ]
  },
  {
   "cell_type": "code",
   "execution_count": 473,
   "id": "7f72c1f3-f658-4009-8fdd-c7e4d8bf548d",
   "metadata": {},
   "outputs": [],
   "source": [
    "# Deploy the model to create a real-time endpoint\n",
    "endpoint_name = 'hyenaDNA-mouse-pretrained-ep'  \n",
    "pytorch_deployment_uri = f\"763104351884.dkr.ecr.{REGION}.amazonaws.com/pytorch-inference:2.2.0-gpu-py310-cu118-ubuntu20.04-sagemaker\"\n",
    "\n",
    "hyenaDNAModel = PyTorchModel(\n",
    "    model_data=model_data,\n",
    "    role=SAGEMAKER_EXECUTION_ROLE,\n",
    "    image_uri=pytorch_deployment_uri,\n",
    "    entry_point=\"inference.py\",\n",
    "    source_dir=\"scripts/\",\n",
    "    sagemaker_session=sagemaker_session,\n",
    "    name=endpoint_name,\n",
    "    env = {\n",
    "        'MMS_MAX_REQUEST_SIZE': '2000000000',\n",
    "        'MMS_MAX_RESPONSE_SIZE': '2000000000',\n",
    "        'MMS_DEFAULT_RESPONSE_TIMEOUT': '900',\n",
    "        'TS_MAX_RESPONSE_SIZE':'2000000000',\n",
    "        'TS_MAX_REQUEST_SIZE':'2000000000',\n",
    "    }\n",
    ")"
   ]
  },
  {
   "cell_type": "code",
   "execution_count": 479,
   "id": "4808b94a-3079-40c9-bbe1-3fa596250803",
   "metadata": {
    "scrolled": true
   },
   "outputs": [
    {
     "name": "stderr",
     "output_type": "stream",
     "text": [
      "INFO:sagemaker:Repacking model artifact (s3://sagemaker-us-east-1-111918798052/hyenaDNA-pretraining-2024-04-06-06-23-26-412/output/model.tar.gz), script artifact (scripts/), and dependencies ([]) into single tar.gz file located at s3://sagemaker-us-east-1-111918798052/hyenaDNA-mouse-pretrained-ep-v8/model.tar.gz. This may take some time depending on model size...\n",
      "INFO:sagemaker:Creating model with name: hyenaDNA-mouse-pretrained-ep-v8\n",
      "INFO:sagemaker:Creating endpoint-config with name hyenaDNA-mouse-pretrained-real-ep-v8\n",
      "INFO:sagemaker:Creating endpoint with name hyenaDNA-mouse-pretrained-real-ep-v8\n"
     ]
    },
    {
     "name": "stdout",
     "output_type": "stream",
     "text": [
      "-----------!"
     ]
    }
   ],
   "source": [
    "real_time_endpoint_name = \"hyenaDNA-mouse-pretrained-real-ep-v8\"\n",
    "env = {\n",
    "    'SAGEMAKER_MODEL_SERVER_TIMEOUT':'7200', \n",
    "    'TS_MAX_RESPONSE_SIZE':'2000000000',\n",
    "    'TS_MAX_REQUEST_SIZE':'2000000000',\n",
    "    'MMS_MAX_RESPONSE_SIZE':'2000000000',\n",
    "    'MMS_MAX_REQUEST_SIZE':'2000000000'\n",
    "}\n",
    "\n",
    "# deploy the endpoint endpoint\n",
    "realtime_predictor = hyenaDNAModel.deploy(\n",
    "    initial_instance_count=1,\n",
    "    instance_type=\"ml.g5.8xlarge\",\n",
    "    endpoint_name=real_time_endpoint_name,\n",
    "    env=env,\n",
    ")"
   ]
  },
  {
   "cell_type": "markdown",
   "id": "477dc76d-980c-4a21-8be7-0feba1ecf108",
   "metadata": {},
   "source": [
    "### 7. Test the realtime endpoint\n",
    "\n"
   ]
  },
  {
   "cell_type": "code",
   "execution_count": null,
   "id": "ecdd3233-f291-46e6-8818-138178857abd",
   "metadata": {},
   "outputs": [],
   "source": [
    "import json\n",
    "\n",
    "data = [sample_genome_data[0]\n",
    "realtime_predictor.serializer = JSONSerializer()\n",
    "realtime_predictor.deserializer = JSONDeserializer()\n",
    "realtime_predictor.predict(data=data)"
   ]
  },
  {
   "cell_type": "markdown",
   "id": "7b53aedd-ce70-4e15-8ccd-7c0a08fecc24",
   "metadata": {},
   "source": [
    "#### 7. Cleanup\n",
    "\n"
   ]
  },
  {
   "cell_type": "code",
   "execution_count": null,
   "id": "44c9045b-1e15-41c9-85dc-775233388ac2",
   "metadata": {},
   "outputs": [],
   "source": [
    "realtime_predictor.delete_endpoint()"
   ]
  }
 ],
 "metadata": {
  "kernelspec": {
   "display_name": "conda_pytorch_p310",
   "language": "python",
   "name": "conda_pytorch_p310"
  },
  "language_info": {
   "codemirror_mode": {
    "name": "ipython",
    "version": 3
   },
   "file_extension": ".py",
   "mimetype": "text/x-python",
   "name": "python",
   "nbconvert_exporter": "python",
   "pygments_lexer": "ipython3",
   "version": "3.10.13"
  }
 },
 "nbformat": 4,
 "nbformat_minor": 5
}
