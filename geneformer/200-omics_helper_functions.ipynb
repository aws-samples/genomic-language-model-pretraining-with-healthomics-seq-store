{
 "cells": [
  {
   "cell_type": "code",
   "execution_count": 36,
   "id": "efe1cb87-02ba-4919-a81f-9f163dd4f3c6",
   "metadata": {},
   "outputs": [],
   "source": [
    "# import dependencies\n",
    "import boto3\n",
    "import botocore.exceptions\n",
    "\n",
    "import json"
   ]
  },
  {
   "cell_type": "code",
   "execution_count": 37,
   "id": "b960b26a-ecc4-417a-9ded-aa2e2672d651",
   "metadata": {
    "tags": []
   },
   "outputs": [],
   "source": [
    "# Get the fully qualified ARN from role name\n",
    "def omics_helper_get_role_arn(role_name):\n",
    "    try:\n",
    "        iam = boto3.resource('iam')\n",
    "        role = iam.Role(role_name)\n",
    "        role.load()  # calls GetRole to load attributes\n",
    "    except ClientError:\n",
    "        print(\"Couldn't get role named %s.\"%role_name)\n",
    "        raise\n",
    "    else:\n",
    "        return role.arn"
   ]
  },
  {
   "cell_type": "code",
   "execution_count": 38,
   "id": "92676f0c-1a22-473c-b8d2-de200f1eba6b",
   "metadata": {},
   "outputs": [],
   "source": [
    "def omics_helper_delete_policy(policy_name: str):\n",
    "    \"\"\"\n",
    "    recreates a policy\n",
    "    if policy is attached to roles, it is firstly detached.\n",
    "    if policy has additional versions ot the default, additional versions are deleted\n",
    "    \"\"\"\n",
    "    try:\n",
    "        # format policy ARN based on policy name\n",
    "        sts_client = boto3.client('sts')\n",
    "        account_id = sts_client.get_caller_identity()['Account']\n",
    "        policy_arn = f'arn:aws:iam::{account_id}:policy/{policy_name}'\n",
    "        \n",
    "        iam_client = boto3.client('iam')\n",
    "       \n",
    "        # try to get policy\n",
    "        policy_exists = True\n",
    "        try:\n",
    "            iam_client.get_policy(PolicyArn=policy_arn)\n",
    "        except botocore.exceptions.ClientError as get_policy_ex:\n",
    "                if get_policy_ex.response[\"Error\"][\"Code\"] == \"NoSuchEntity\":\n",
    "                    policy_exists = False\n",
    "                else:\n",
    "                    raise\n",
    "                    \n",
    "        # if policy exists, delete it            \n",
    "        if policy_exists:\n",
    "            # get policy versions and delete all non-default versions. \n",
    "            # Default version is deleted when policy itself is deleted.\n",
    "            policy_versions_response = iam_client.list_policy_versions(PolicyArn=policy_arn)\n",
    "            versions = policy_versions_response['Versions']\n",
    "            for version in versions:\n",
    "                version_id = version['VersionId']\n",
    "                is_default = version['IsDefaultVersion']\n",
    "                if not is_default:\n",
    "                    iam_client.delete_policy_version(PolicyArn=policy_arn, VersionId=version_id)\n",
    "\n",
    "            # detach all roles from policy (requirement for policy deletion)\n",
    "            policy_entities = iam_client.list_entities_for_policy(PolicyArn=policy_arn, EntityFilter='Role')\n",
    "            attached_roles = policy_entities['PolicyRoles']\n",
    "            role_names = [role['RoleName'] for role in attached_roles]\n",
    "            for role_name in role_names:\n",
    "                iam_client.detach_role_policy(RoleName=role_name, PolicyArn=policy_arn)\n",
    "                \n",
    "            #  delete policy. If it does not exist, handle error internally and continue\n",
    "            iam_client.delete_policy(PolicyArn=policy_arn)\n",
    "    \n",
    "    except botocore.exceptions.ClientError:\n",
    "        print(\"Could not delete policy %s.\"%policy_name)\n",
    "        raise"
   ]
  },
  {
   "cell_type": "code",
   "execution_count": 39,
   "id": "c7481a58-1c8d-4a5a-b4b5-ec0e8453ba24",
   "metadata": {
    "tags": []
   },
   "outputs": [],
   "source": [
    "def omics_helper_recreate_policy(policy_name: str, policy_rights):\n",
    "    \"\"\"\n",
    "    recreates a policy\n",
    "    if policy is attached to roles, it is firstly detached.\n",
    "    if policy has additional versions ot the default, additional versions are deleted\n",
    "    \"\"\"\n",
    "    try:\n",
    "        # format policy ARN based on policy name\n",
    "        sts_client = boto3.client('sts')\n",
    "        account_id = sts_client.get_caller_identity()['Account']\n",
    "        policy_arn = f'arn:aws:iam::{account_id}:policy/{policy_name}'\n",
    "                \n",
    "        iam_client = boto3.client('iam')\n",
    "       \n",
    "        # delete policy\n",
    "        omics_helper_delete_policy(policy_name)\n",
    "        \n",
    "        # create policy\n",
    "        create_policy_response = iam_client.create_policy(PolicyName=policy_name, PolicyDocument=json.dumps(policy_rights))\n",
    "        \n",
    "        return create_policy_response\n",
    "    \n",
    "    except botocore.exceptions.ClientError:\n",
    "        print(\"Couldn't re create policy named %s.\"%policy_name)\n",
    "        raise"
   ]
  },
  {
   "cell_type": "code",
   "execution_count": 40,
   "id": "aef4e3e2-08d7-4529-9528-ed1e5ea152db",
   "metadata": {
    "tags": []
   },
   "outputs": [],
   "source": [
    "def omics_helper_recreate_role(role_name: str, trust_policy):\n",
    "    try:\n",
    "        # format policy ARN based on policy name\n",
    "        sts_client = boto3.client('sts')\n",
    "        account_id = sts_client.get_caller_identity()['Account']\n",
    "        \n",
    "        #  delete role. If it does not exist, handle error internally and continue\n",
    "        try:\n",
    "            iam_client = boto3.client('iam')\n",
    "            \n",
    "            # delete any attached policies\n",
    "            response = iam_client.list_attached_role_policies(RoleName=role_name)\n",
    "            for policy in response['AttachedPolicies']:\n",
    "                omics_helper_delete_policy(policy[\"PolicyName\"])\n",
    "            \n",
    "            # delete role\n",
    "            iam_client.delete_role(RoleName=role_name)\n",
    "            \n",
    "        except botocore.exceptions.ClientError as delete_ex:\n",
    "            if delete_ex.response[\"Error\"][\"Code\"] != \"NoSuchEntity\":\n",
    "                raise\n",
    "        \n",
    "        # create role\n",
    "        role = iam_client.create_role(RoleName=role_name, AssumeRolePolicyDocument=json.dumps(trust_policy))\n",
    "        return role\n",
    "    \n",
    "    except botocore.exceptions.ClientError:\n",
    "        print(\"Couldn't re create role named %s.\"%role_name)\n",
    "        raise"
   ]
  },
  {
   "cell_type": "code",
   "execution_count": 41,
   "id": "11f17956-4476-4269-85d9-a06fe8180749",
   "metadata": {
    "tags": []
   },
   "outputs": [],
   "source": [
    "def omics_helper_pretty_print(obj):\n",
    "    \n",
    "    # remove response metadata, if any\n",
    "    if isinstance(obj, dict):\n",
    "        if 'ResponseMetadata' in obj:\n",
    "             del obj['ResponseMetadata']\n",
    "    # return in json format\n",
    "    return print(json.dumps(obj, indent=2 , default=str))"
   ]
  }
 ],
 "metadata": {
  "kernelspec": {
   "display_name": "conda_python3",
   "language": "python",
   "name": "conda_python3"
  },
  "language_info": {
   "codemirror_mode": {
    "name": "ipython",
    "version": 3
   },
   "file_extension": ".py",
   "mimetype": "text/x-python",
   "name": "python",
   "nbconvert_exporter": "python",
   "pygments_lexer": "ipython3",
   "version": "3.10.14"
  }
 },
 "nbformat": 4,
 "nbformat_minor": 5
}
