{
 "cells": [
  {
   "cell_type": "markdown",
   "id": "746d8cf3-8ea9-4d5b-adca-aec70f3395ae",
   "metadata": {},
   "source": [
    "### Notebook adapted from https://github.com/aws-samples/amazon-omics-tutorials/tree/main/notebooks on 2024-09-18"
   ]
  },
  {
   "cell_type": "markdown",
   "id": "01679a33",
   "metadata": {
    "tags": []
   },
   "source": [
    "# Running R2R (Ready to Run) scRNA-Seq processing with STARsolo workflow"
   ]
  },
  {
   "cell_type": "markdown",
   "id": "b821f826-2975-4933-b357-f3b7342e7247",
   "metadata": {},
   "source": [
    "The scRNAseq with STARsolo workflow is based on the nf-core/scrnseq pipeline. \n"
   ]
  },
  {
   "cell_type": "markdown",
   "id": "3fac434a",
   "metadata": {},
   "source": [
    "![scRNA seq data flow](./images/scrnaseq_dataflow.jpg)"
   ]
  },
  {
   "cell_type": "markdown",
   "id": "14a9daac",
   "metadata": {},
   "source": [
    "![R2R scRNA STARsolo](./images/r2r_scrnastarsolo.png)"
   ]
  },
  {
   "cell_type": "markdown",
   "id": "3ad7f943-1c9b-4500-af95-e6d545ef8606",
   "metadata": {},
   "source": [
    "This workflow uses STARsolo to analyze droplet single cell RNA sequencing data, and it takes raw FASTQ reads files, and performs the following operations:\n",
    "\n",
    "- Error correction and demultiplexing of cell barcodes using the default 10x whitelist\n",
    "- Mapping the reads to the reference genome using the standard STAR spliced read alignment algorithm\n",
    "- Error correction and collapsing (deduplication) of Unique Molecular Identifiers (UMIa)\n",
    "- Quantification of per-cell gene expression by counting the number of reads per gene\n",
    "- Quantification of other transcriptomic features"
   ]
  },
  {
   "cell_type": "markdown",
   "id": "0d3fd7f6",
   "metadata": {},
   "source": [
    "## Prerequisites\n",
    "### Python requirements\n",
    "* Python >= 3.8\n",
    "* Packages:\n",
    "  * boto3 >= 1.26.19\n",
    "  * botocore >= 1.29.19\n",
    "\n",
    "### AWS requirements\n",
    "\n",
    "#### AWS CLI\n",
    "You will need the AWS CLI installed and configured in your environment. Supported AWS CLI versions are:\n",
    "\n",
    "* AWS CLI v2 >= 2.9.3 (Recommended)\n",
    "* AWS CLI v1 >= 1.27.19\n",
    "\n",
    "#### Output buckets\n",
    "You will need a bucket **in the same region** you are running this tutorial in, to store workflow outputs."
   ]
  },
  {
   "cell_type": "markdown",
   "id": "f86339cd-c9ab-4512-80e0-fe55da1fe130",
   "metadata": {},
   "source": [
    "## Policy setup\n",
    "This notebook runs under the role that was created or selected during notebook creation.<br>\n",
    "By executing the following code snippet you can crosscheck the role name."
   ]
  },
  {
   "cell_type": "code",
   "execution_count": 4,
   "id": "cb63b334-d212-4ae2-bb6d-694680bbdad8",
   "metadata": {
    "tags": []
   },
   "outputs": [
    {
     "data": {
      "text/plain": [
       "'arn:aws:sts::851725420776:assumed-role/AmazonSageMakerServiceCatalogProductsUseRole/SageMaker'"
      ]
     },
     "execution_count": 4,
     "metadata": {},
     "output_type": "execute_result"
    }
   ],
   "source": [
    "import boto3\n",
    "boto3.client('sts').get_caller_identity()['Arn']"
   ]
  },
  {
   "cell_type": "markdown",
   "id": "d4adc94b-c990-4ca7-80f2-321d90a1572f",
   "metadata": {},
   "source": [
    "We need to enrich this role with policy permissions, so that actions executed in upcoming statements do not fail.<br>\n",
    "Here is a sample policy that can to be added to the role. It must be noted that this is a sample policy, for the needs of this project.\n",
    "\n",
    "In a production environment, the actual policy should follow the principle of least privileges."
   ]
  },
  {
   "cell_type": "code",
   "execution_count": null,
   "id": "aeb33b7c-dbf9-4b2f-8f62-bf9c40feab7f",
   "metadata": {},
   "outputs": [],
   "source": [
    "{\n",
    "    \"Version\": \"2012-10-17\",\n",
    "    \"Statement\": [\n",
    "        {\n",
    "            \"Sid\": \"VisualEditor0\",\n",
    "            \"Effect\": \"Allow\",\n",
    "            \"Action\": [\n",
    "                \"iam:GetPolicy\",\n",
    "                \"iam:CreatePolicy\",\n",
    "                \"iam:DeletePolicy\",\n",
    "                \"iam:ListPolicyVersions\",\n",
    "                \"iam:ListEntitiesForPolicy\",\n",
    "                \"iam:CreateRole\",\n",
    "                \"iam:DeleteRole\",\n",
    "                \"iam:DeletePolicyVersion\",\n",
    "                \"iam:AttachRolePolicy\",\n",
    "                \"iam:DetachRolePolicy\",\n",
    "                \"iam:ListAttachedRolePolicies\",\n",
    "                \"iam:PassRole\",\n",
    "                \"omics:*\"\n",
    "            ],\n",
    "            \"Resource\": \"*\"\n",
    "        }\n",
    "    ]\n",
    "}"
   ]
  },
  {
   "cell_type": "markdown",
   "id": "b25326f3",
   "metadata": {},
   "source": [
    "## Environment setup"
   ]
  },
  {
   "cell_type": "markdown",
   "id": "2a1b66f3-5f44-4ad2-bdd2-6bfb369ab55f",
   "metadata": {},
   "source": [
    "Reset environment, in case you are re-running this tutorial.<br> "
   ]
  },
  {
   "cell_type": "code",
   "execution_count": 5,
   "id": "d09d8022-36e0-4875-85f8-4119a9971998",
   "metadata": {
    "tags": []
   },
   "outputs": [],
   "source": [
    "%reset -f"
   ]
  },
  {
   "cell_type": "markdown",
   "id": "32cb1cfe-d380-4776-ac8c-efc6565c293a",
   "metadata": {},
   "source": [
    "Load helper functions from helper notebook."
   ]
  },
  {
   "cell_type": "code",
   "execution_count": 6,
   "id": "09071355-fdf0-4236-a0f1-e74107c76483",
   "metadata": {
    "tags": []
   },
   "outputs": [],
   "source": [
    "%run 200-omics_helper_functions.ipynb"
   ]
  },
  {
   "cell_type": "markdown",
   "id": "0175894a-469c-4733-9ec5-29ed2c3fff3e",
   "metadata": {},
   "source": [
    "Import libraries"
   ]
  },
  {
   "cell_type": "code",
   "execution_count": 7,
   "id": "788ade24",
   "metadata": {
    "tags": []
   },
   "outputs": [],
   "source": [
    "import boto3\n",
    "from urllib.parse import urlparse"
   ]
  },
  {
   "cell_type": "markdown",
   "id": "b878b01a",
   "metadata": {},
   "source": [
    "## Create a service IAM role\n",
    "To use Amazon Omics, you need to create an IAM role that grants the Omics service permissions to access resources in your account. We'll do this below using the IAM client.\n",
    "\n",
    "> **Note**: this step is fully automated from the Omics Workflows Console when you create a run"
   ]
  },
  {
   "cell_type": "code",
   "execution_count": 8,
   "id": "d5a7b7ac",
   "metadata": {
    "tags": []
   },
   "outputs": [],
   "source": [
    "omics_role_name = 'omics-r2r-tutorial-service-role'\n",
    "omics_role_trust_policy =  {\n",
    "        \"Version\": \"2012-10-17\",\n",
    "        \"Statement\": [{\n",
    "            \"Principal\": {\n",
    "                \"Service\": \"omics.amazonaws.com\"\n",
    "            },\n",
    "            \"Effect\": \"Allow\",\n",
    "            \"Action\": \"sts:AssumeRole\"\n",
    "        }]\n",
    "    }\n",
    "\n",
    "# delete role (if it exists) and create a new one\n",
    "omics_role = omics_helper_recreate_role(omics_role_name, omics_role_trust_policy)"
   ]
  },
  {
   "cell_type": "code",
   "execution_count": 9,
   "id": "4af5c76c-92b9-4fee-8f0b-d95d93439210",
   "metadata": {
    "tags": []
   },
   "outputs": [
    {
     "data": {
      "text/plain": [
       "{'Role': {'Path': '/',\n",
       "  'RoleName': 'omics-r2r-tutorial-service-role',\n",
       "  'RoleId': 'AROA4MTWKRDUHMQUTRLMG',\n",
       "  'Arn': 'arn:aws:iam::851725420776:role/omics-r2r-tutorial-service-role',\n",
       "  'CreateDate': datetime.datetime(2024, 9, 27, 19, 8, 56, tzinfo=tzlocal()),\n",
       "  'AssumeRolePolicyDocument': {'Version': '2012-10-17',\n",
       "   'Statement': [{'Principal': {'Service': 'omics.amazonaws.com'},\n",
       "     'Effect': 'Allow',\n",
       "     'Action': 'sts:AssumeRole'}]}},\n",
       " 'ResponseMetadata': {'RequestId': '4543c371-7091-42c9-a5c9-ed015560427a',\n",
       "  'HTTPStatusCode': 200,\n",
       "  'HTTPHeaders': {'date': 'Fri, 27 Sep 2024 19:08:55 GMT',\n",
       "   'x-amzn-requestid': '4543c371-7091-42c9-a5c9-ed015560427a',\n",
       "   'content-type': 'text/xml',\n",
       "   'content-length': '815'},\n",
       "  'RetryAttempts': 0}}"
      ]
     },
     "execution_count": 9,
     "metadata": {},
     "output_type": "execute_result"
    }
   ],
   "source": [
    "omics_role"
   ]
  },
  {
   "cell_type": "markdown",
   "id": "ee9b0e33",
   "metadata": {},
   "source": [
    "After creating the role, we next need to add policies to grant permissions. In this case, we are allowing read/write access to all S3 buckets in the account. This is fine for this tutorial, but in a real world setting you will want to scope this down to only the necessary resources. We are also adding a permissions to create CloudWatch Logs which is where any outputs sent to `STDOUT` or `STDERR` are collected."
   ]
  },
  {
   "cell_type": "code",
   "execution_count": 10,
   "id": "fccbdeec",
   "metadata": {
    "tags": []
   },
   "outputs": [
    {
     "data": {
      "text/plain": [
       "{'ResponseMetadata': {'RequestId': '4c1ff52b-48b9-4830-9bae-69f9594214a1',\n",
       "  'HTTPStatusCode': 200,\n",
       "  'HTTPHeaders': {'date': 'Fri, 27 Sep 2024 19:09:04 GMT',\n",
       "   'x-amzn-requestid': '4c1ff52b-48b9-4830-9bae-69f9594214a1',\n",
       "   'content-type': 'text/xml',\n",
       "   'content-length': '212'},\n",
       "  'RetryAttempts': 0}}"
      ]
     },
     "execution_count": 10,
     "metadata": {},
     "output_type": "execute_result"
    }
   ],
   "source": [
    "s3_policy_name = f\"omics-r2r-tutorial-s3-access-policy\"\n",
    "s3_policy_permissions = {\n",
    "        \"Version\": \"2012-10-17\",\n",
    "        \"Statement\": [\n",
    "            {\n",
    "                \"Effect\": \"Allow\",\n",
    "                \"Action\": [\n",
    "                    \"s3:PutObject\",\n",
    "                    \"s3:Get*\",\n",
    "                    \"s3:List*\",\n",
    "                ],\n",
    "                \"Resource\": [\n",
    "                    \"arn:aws:s3:::*/*\"\n",
    "                ]\n",
    "            }\n",
    "        ]\n",
    "    }\n",
    "\n",
    "AWS_ACCOUNT_ID = boto3.client('sts').get_caller_identity()['Account']\n",
    "\n",
    "logs_policy_name = f\"omics-r2r-tutorial-logs-access-policy\"\n",
    "logs_policy_permissions = {\n",
    "        \"Version\": \"2012-10-17\",\n",
    "        \"Statement\": [\n",
    "            {\n",
    "                \"Effect\": \"Allow\",\n",
    "                \"Action\": [\n",
    "                    \"logs:CreateLogGroup\"\n",
    "                ],\n",
    "                \"Resource\": [\n",
    "                    f\"arn:aws:logs:*:{AWS_ACCOUNT_ID}:log-group:/aws/omics/WorkflowLog:*\"\n",
    "                ]\n",
    "            },\n",
    "            {\n",
    "                \"Effect\": \"Allow\",\n",
    "                \"Action\": [\n",
    "                    \"logs:DescribeLogStreams\",\n",
    "                    \"logs:CreateLogStream\",\n",
    "                    \"logs:PutLogEvents\",\n",
    "                ],\n",
    "                \"Resource\": [\n",
    "                    f\"arn:aws:logs:*:{AWS_ACCOUNT_ID}:log-group:/aws/omics/WorkflowLog:log-stream:*\"\n",
    "                ]\n",
    "            }\n",
    "        ]\n",
    "    }\n",
    "\n",
    "s3_policy = omics_helper_recreate_policy(s3_policy_name, s3_policy_permissions)\n",
    "logs_policy = omics_helper_recreate_policy(logs_policy_name, logs_policy_permissions)\n",
    "\n",
    "# attach policies to role\n",
    "iam_client = boto3.client(\"iam\")\n",
    "iam_client.attach_role_policy(RoleName=omics_role['Role']['RoleName'], PolicyArn=s3_policy['Policy']['Arn'])\n",
    "iam_client.attach_role_policy(RoleName=omics_role['Role']['RoleName'], PolicyArn=logs_policy['Policy']['Arn'])"
   ]
  },
  {
   "cell_type": "markdown",
   "id": "a1db3648",
   "metadata": {},
   "source": [
    "## Selecting the StarSolo workflow"
   ]
  },
  {
   "cell_type": "code",
   "execution_count": 11,
   "id": "a176e697-8ee9-4f92-81ae-c2de4a827f61",
   "metadata": {
    "tags": []
   },
   "outputs": [
    {
     "name": "stdout",
     "output_type": "stream",
     "text": [
      "{\n",
      "  \"arn\": \"arn:aws:omics:us-west-2::workflow/2174942\",\n",
      "  \"id\": \"2174942\",\n",
      "  \"name\": \"scRNAseq with STARsolo\",\n",
      "  \"status\": \"ACTIVE\",\n",
      "  \"type\": \"READY2RUN\",\n",
      "  \"creationTime\": \"2023-05-15 00:00:00+00:00\",\n",
      "  \"metadata\": {\n",
      "    \"licensed\": \"false\",\n",
      "    \"publisher\": \"nf-core\",\n",
      "    \"estimatedDuration\": \"150\",\n",
      "    \"version\": \"1.0\"\n",
      "  }\n",
      "}\n"
     ]
    }
   ],
   "source": [
    "omics_client = boto3.client('omics')\n",
    "\n",
    "r2r_workflows = omics_client.list_workflows(type=\"READY2RUN\")\n",
    "r2r_workflows_items = r2r_workflows['items']\n",
    "\n",
    "workflow = [r2r_workflow_item for r2r_workflow_item in r2r_workflows_items if r2r_workflow_item[\"id\"] == \"2174942\" ][0]\n",
    "omics_helper_pretty_print(workflow)"
   ]
  },
  {
   "cell_type": "markdown",
   "id": "d23207af-90a4-4b97-b1c1-04a3a7cbdd14",
   "metadata": {},
   "source": [
    "We get the full details of the specific workflow, in order to examine its parameter template."
   ]
  },
  {
   "cell_type": "code",
   "execution_count": 12,
   "id": "11fa14f5-82d4-4790-859e-683d7acce796",
   "metadata": {
    "tags": []
   },
   "outputs": [
    {
     "name": "stdout",
     "output_type": "stream",
     "text": [
      "{\n",
      "  \"samplename\": {\n",
      "    \"description\": \"A string representing the name of the sample.\"\n",
      "  },\n",
      "  \"input\": {\n",
      "    \"description\": \"An array of maps, with each element containing two fields: fastq_1 and fastq_2. fastq_1 points to the S3 or Omics Storage URI containing the forward read of paired-end sequencing. fastq_2 points to the S3 or Omics Storage URI containing the reverse read of paired-end sequencing.\"\n",
      "  },\n",
      "  \"protocol\": {\n",
      "    \"description\": \"A string representing the 10X Protocol used (case sensitive): 10XV2, 10XV3.\"\n",
      "  }\n",
      "}\n"
     ]
    }
   ],
   "source": [
    "workflow_details_parameterTemplate = omics_client.get_workflow(id=workflow['id'], type=\"READY2RUN\")['parameterTemplate']\n",
    "omics_helper_pretty_print(workflow_details_parameterTemplate)"
   ]
  },
  {
   "cell_type": "markdown",
   "id": "35661270-b333-4a3e-b9cd-05443674111b",
   "metadata": {},
   "source": [
    "The specific workflow has three parameters, the description of which is shown in the output.<br>\n",
    "We can now run the workflow, as any other workflow through the Amazon Omics."
   ]
  },
  {
   "cell_type": "markdown",
   "id": "0eb3a3e8-f922-4788-afe7-d5c0fa5d8518",
   "metadata": {},
   "source": [
    "## Executing the StarSolo workflow\n",
    "Prior to run execution, we get the current region, in which this notebook is operating. <br>\n",
    "We will use region name to compose the regional S3 bucket that holds input test data for the specific workflow."
   ]
  },
  {
   "cell_type": "code",
   "execution_count": 8,
   "id": "90dcc958-669f-4235-beb7-3eb7e2970972",
   "metadata": {
    "tags": []
   },
   "outputs": [
    {
     "name": "stdout",
     "output_type": "stream",
     "text": [
      "us-west-2\n"
     ]
    }
   ],
   "source": [
    "region_name = boto3.Session().region_name\n",
    "print(region_name)"
   ]
  },
  {
   "cell_type": "code",
   "execution_count": 9,
   "id": "2df6865b",
   "metadata": {
    "tags": []
   },
   "outputs": [
    {
     "name": "stdout",
     "output_type": "stream",
     "text": [
      "running workflow 2174942, starting run 2542738\n",
      "run 2542738 is running\n",
      "Waiter RunCompleted failed: Max attempts exceeded. Previously accepted state: For expression \"status\" we matched expected path: \"RUNNING\"\n"
     ]
    }
   ],
   "source": [
    "sample_name = \"20k_NSCLC_DTC\"\n",
    "input_fastq1_path_uri = f\"s3://omics-{region_name}/sample-inputs/2174942/20k_NSCLC_DTC_3p_nextgem_gex_S4_L001_R1_001.fastq.gz\"\n",
    "input_fastq2_path_uri = f\"s3://omics-{region_name}/sample-inputs/2174942/20k_NSCLC_DTC_3p_nextgem_gex_S4_L001_R2_001.fastq.gz\"\n",
    "protocol = \"10XV3\"\n",
    "\n",
    "output_uri = \"s3://ready2runtestoutput/run_results\"\n",
    "\n",
    "run = omics_client.start_run(\n",
    "    workflowId=workflow['id'],\n",
    "    workflowType='READY2RUN',\n",
    "    name=\"2174942 R2R workflow run\",\n",
    "    roleArn=omics_role['Role']['Arn'],\n",
    "    parameters={\n",
    "        \"samplename\": sample_name,\n",
    "        \"input\": [{'fastq_1': input_fastq1_path_uri,\n",
    "                    'fastq_2': input_fastq2_path_uri}],\n",
    "        \"protocol\": protocol\n",
    "    },\n",
    "    outputUri=output_uri,\n",
    ")\n",
    "\n",
    "print(f\"running workflow {workflow['id']}, starting run {run['id']}\")"
   ]
  },
  {
   "cell_type": "code",
   "execution_count": null,
   "id": "240fc452",
   "metadata": {},
   "outputs": [],
   "source": [
    "try:\n",
    "    waiter = omics_client.get_waiter('run_running')\n",
    "    waiter.wait(id=run['id'], WaiterConfig={'Delay': 30, 'MaxAttempts': 60})\n",
    "\n",
    "    print(f\"run {run['id']} is running\")\n",
    "\n",
    "    waiter = omics_client.get_waiter('run_completed')\n",
    "    waiter.wait(id=run['id'], WaiterConfig={'Delay': 60, 'MaxAttempts': 60*2})\n",
    "\n",
    "    print(f\"run {run['id']} completed\")\n",
    "except botocore.exceptions.WaiterError as e:\n",
    "    print(e)"
   ]
  },
  {
   "cell_type": "markdown",
   "id": "6b888cf2",
   "metadata": {},
   "source": [
    "Once the run completes we can verify its status by getting its details:"
   ]
  },
  {
   "cell_type": "code",
   "execution_count": 10,
   "id": "1aaa3b99",
   "metadata": {
    "tags": []
   },
   "outputs": [
    {
     "name": "stdout",
     "output_type": "stream",
     "text": [
      "{\n",
      "  \"arn\": \"arn:aws:omics:us-west-2:851725420776:run/2542738\",\n",
      "  \"id\": \"2542738\",\n",
      "  \"status\": \"COMPLETED\",\n",
      "  \"workflowId\": \"2174942\",\n",
      "  \"workflowType\": \"READY2RUN\",\n",
      "  \"roleArn\": \"arn:aws:iam::851725420776:role/omics-r2r-tutorial-service-role\",\n",
      "  \"name\": \"2174942 R2R workflow run\",\n",
      "  \"parameters\": {\n",
      "    \"samplename\": \"20k_NSCLC_DTC\",\n",
      "    \"input\": [\n",
      "      {\n",
      "        \"fastq_2\": \"s3://omics-us-west-2/sample-inputs/2174942/20k_NSCLC_DTC_3p_nextgem_gex_S4_L001_R2_001.fastq.gz\",\n",
      "        \"fastq_1\": \"s3://omics-us-west-2/sample-inputs/2174942/20k_NSCLC_DTC_3p_nextgem_gex_S4_L001_R1_001.fastq.gz\"\n",
      "      }\n",
      "    ],\n",
      "    \"protocol\": \"10XV3\"\n",
      "  },\n",
      "  \"storageCapacity\": 1200,\n",
      "  \"outputUri\": \"s3://ready2runtestoutput/run_results\",\n",
      "  \"startedBy\": \"arn:aws:sts::851725420776:assumed-role/AmazonSageMakerServiceCatalogProductsUseRole/SageMaker\",\n",
      "  \"creationTime\": \"2024-09-23 21:07:49.401680+00:00\",\n",
      "  \"startTime\": \"2024-09-23 21:17:48.440000+00:00\",\n",
      "  \"stopTime\": \"2024-09-23 22:51:04.002240+00:00\",\n",
      "  \"tags\": {},\n",
      "  \"logLocation\": {\n",
      "    \"runLogStream\": \"arn:aws:logs:us-west-2:851725420776:log-group:/aws/omics/WorkflowLog:log-stream:run/2542738\"\n",
      "  },\n",
      "  \"uuid\": \"42c9105b-2310-8d79-f2fa-ff505a976cdd\",\n",
      "  \"runOutputUri\": \"s3://ready2runtestoutput/run_results/2542738\",\n",
      "  \"storageType\": \"STATIC\",\n",
      "  \"workflowOwnerId\": \"\"\n",
      "}\n"
     ]
    }
   ],
   "source": [
    "omics_helper_pretty_print(omics_client.get_run(id=run['id']))"
   ]
  },
  {
   "cell_type": "markdown",
   "id": "fc4ba10a",
   "metadata": {},
   "source": [
    "## Validating output of the workflow\n",
    "We can verify that the correct output was generated by listing the `outputUri` for the workflow run:"
   ]
  },
  {
   "cell_type": "code",
   "execution_count": 23,
   "id": "7d9ecf4c-c161-42c6-b82b-e05f8416961d",
   "metadata": {
    "tags": []
   },
   "outputs": [],
   "source": [
    "run_id = \"2542738\""
   ]
  },
  {
   "cell_type": "code",
   "execution_count": 24,
   "id": "0d813f10",
   "metadata": {
    "tags": []
   },
   "outputs": [
    {
     "data": {
      "text/plain": [
       "[{'Key': 'run_results/2542738/',\n",
       "  'LastModified': datetime.datetime(2024, 9, 23, 21, 7, 50, tzinfo=tzlocal()),\n",
       "  'ETag': '\"d41d8cd98f00b204e9800998ecf8427e\"',\n",
       "  'ChecksumAlgorithm': ['SHA256'],\n",
       "  'Size': 0,\n",
       "  'StorageClass': 'STANDARD'},\n",
       " {'Key': 'run_results/2542738/logs/engine.log',\n",
       "  'LastModified': datetime.datetime(2024, 9, 23, 22, 45, 28, tzinfo=tzlocal()),\n",
       "  'ETag': '\"423f123b68b362f71bb7fb1a613f8820\"',\n",
       "  'ChecksumAlgorithm': ['CRC32'],\n",
       "  'Size': 49220,\n",
       "  'StorageClass': 'STANDARD'},\n",
       " {'Key': 'run_results/2542738/pubdir/fastqc/20k_NSCLC_DTC_1_fastqc.html',\n",
       "  'LastModified': datetime.datetime(2024, 9, 23, 22, 43, 38, tzinfo=tzlocal()),\n",
       "  'ETag': '\"3f8bcacbc2897f401bd4d7c1fae39ca4\"',\n",
       "  'ChecksumAlgorithm': ['CRC32'],\n",
       "  'Size': 511452,\n",
       "  'StorageClass': 'STANDARD'},\n",
       " {'Key': 'run_results/2542738/pubdir/fastqc/20k_NSCLC_DTC_1_fastqc.zip',\n",
       "  'LastModified': datetime.datetime(2024, 9, 23, 22, 43, 38, tzinfo=tzlocal()),\n",
       "  'ETag': '\"c40f6a649503093f76295021a61a4263\"',\n",
       "  'ChecksumAlgorithm': ['CRC32'],\n",
       "  'Size': 635408,\n",
       "  'StorageClass': 'STANDARD'},\n",
       " {'Key': 'run_results/2542738/pubdir/fastqc/20k_NSCLC_DTC_2_fastqc.html',\n",
       "  'LastModified': datetime.datetime(2024, 9, 23, 22, 43, 38, tzinfo=tzlocal()),\n",
       "  'ETag': '\"354d9886e82ed7546482767c71713e2d\"',\n",
       "  'ChecksumAlgorithm': ['CRC32'],\n",
       "  'Size': 634919,\n",
       "  'StorageClass': 'STANDARD'},\n",
       " {'Key': 'run_results/2542738/pubdir/fastqc/20k_NSCLC_DTC_2_fastqc.zip',\n",
       "  'LastModified': datetime.datetime(2024, 9, 23, 22, 43, 38, tzinfo=tzlocal()),\n",
       "  'ETag': '\"e13800b990cb0ed7be002f98bcec3350\"',\n",
       "  'ChecksumAlgorithm': ['CRC32'],\n",
       "  'Size': 960259,\n",
       "  'StorageClass': 'STANDARD'},\n",
       " {'Key': 'run_results/2542738/pubdir/multiqc/multiqc_data/mqc_fastqc_per_base_n_content_plot_1.txt',\n",
       "  'LastModified': datetime.datetime(2024, 9, 23, 22, 43, 38, tzinfo=tzlocal()),\n",
       "  'ETag': '\"9ee253a36cc1990e7bf44a22e07f6006\"',\n",
       "  'ChecksumAlgorithm': ['CRC32'],\n",
       "  'Size': 1561,\n",
       "  'StorageClass': 'STANDARD'},\n",
       " {'Key': 'run_results/2542738/pubdir/multiqc/multiqc_data/mqc_fastqc_per_base_sequence_quality_plot_1.txt',\n",
       "  'LastModified': datetime.datetime(2024, 9, 23, 22, 43, 38, tzinfo=tzlocal()),\n",
       "  'ETag': '\"7278faf908ab0a4eb53b4a6971220f95\"',\n",
       "  'ChecksumAlgorithm': ['CRC32'],\n",
       "  'Size': 1668,\n",
       "  'StorageClass': 'STANDARD'},\n",
       " {'Key': 'run_results/2542738/pubdir/multiqc/multiqc_data/mqc_fastqc_per_sequence_gc_content_plot_Counts.txt',\n",
       "  'LastModified': datetime.datetime(2024, 9, 23, 22, 43, 38, tzinfo=tzlocal()),\n",
       "  'ETag': '\"3662aabfff623bb44f0fda2522661151\"',\n",
       "  'ChecksumAlgorithm': ['CRC32'],\n",
       "  'Size': 2304,\n",
       "  'StorageClass': 'STANDARD'},\n",
       " {'Key': 'run_results/2542738/pubdir/multiqc/multiqc_data/mqc_fastqc_per_sequence_gc_content_plot_Percentages.txt',\n",
       "  'LastModified': datetime.datetime(2024, 9, 23, 22, 43, 38, tzinfo=tzlocal()),\n",
       "  'ETag': '\"3535363a89eaa925925e184bfdcd56c3\"',\n",
       "  'ChecksumAlgorithm': ['CRC32'],\n",
       "  'Size': 4552,\n",
       "  'StorageClass': 'STANDARD'},\n",
       " {'Key': 'run_results/2542738/pubdir/multiqc/multiqc_data/mqc_fastqc_per_sequence_quality_scores_plot_1.txt',\n",
       "  'LastModified': datetime.datetime(2024, 9, 23, 22, 43, 38, tzinfo=tzlocal()),\n",
       "  'ETag': '\"5d0f876c973dc19d2bfad602e06a8ffd\"',\n",
       "  'ChecksumAlgorithm': ['CRC32'],\n",
       "  'Size': 784,\n",
       "  'StorageClass': 'STANDARD'},\n",
       " {'Key': 'run_results/2542738/pubdir/multiqc/multiqc_data/mqc_fastqc_sequence_counts_plot_1.txt',\n",
       "  'LastModified': datetime.datetime(2024, 9, 23, 22, 43, 38, tzinfo=tzlocal()),\n",
       "  'ETag': '\"681ef472114005ef431bb8b0e7857b77\"',\n",
       "  'ChecksumAlgorithm': ['CRC32'],\n",
       "  'Size': 112,\n",
       "  'StorageClass': 'STANDARD'},\n",
       " {'Key': 'run_results/2542738/pubdir/multiqc/multiqc_data/mqc_fastqc_sequence_duplication_levels_plot_1.txt',\n",
       "  'LastModified': datetime.datetime(2024, 9, 23, 22, 43, 38, tzinfo=tzlocal()),\n",
       "  'ETag': '\"38192353ae913c0353c5acb4377a05ac\"',\n",
       "  'ChecksumAlgorithm': ['CRC32'],\n",
       "  'Size': 435,\n",
       "  'StorageClass': 'STANDARD'},\n",
       " {'Key': 'run_results/2542738/pubdir/multiqc/multiqc_data/multiqc.log',\n",
       "  'LastModified': datetime.datetime(2024, 9, 23, 22, 43, 38, tzinfo=tzlocal()),\n",
       "  'ETag': '\"2bef61d33ffcf6938ed6288c685b65db\"',\n",
       "  'ChecksumAlgorithm': ['CRC32'],\n",
       "  'Size': 9007,\n",
       "  'StorageClass': 'STANDARD'},\n",
       " {'Key': 'run_results/2542738/pubdir/multiqc/multiqc_data/multiqc_citations.txt',\n",
       "  'LastModified': datetime.datetime(2024, 9, 23, 22, 43, 38, tzinfo=tzlocal()),\n",
       "  'ETag': '\"4c806e63a283ec1b7e78cdae3a923d4f\"',\n",
       "  'ChecksumAlgorithm': ['CRC32'],\n",
       "  'Size': 62,\n",
       "  'StorageClass': 'STANDARD'},\n",
       " {'Key': 'run_results/2542738/pubdir/multiqc/multiqc_data/multiqc_data.json',\n",
       "  'LastModified': datetime.datetime(2024, 9, 23, 22, 43, 38, tzinfo=tzlocal()),\n",
       "  'ETag': '\"ccf44ddb19bbeec424ddad4291272d82\"',\n",
       "  'ChecksumAlgorithm': ['CRC32'],\n",
       "  'Size': 114857,\n",
       "  'StorageClass': 'STANDARD'},\n",
       " {'Key': 'run_results/2542738/pubdir/multiqc/multiqc_data/multiqc_fastqc.txt',\n",
       "  'LastModified': datetime.datetime(2024, 9, 23, 22, 43, 38, tzinfo=tzlocal()),\n",
       "  'ETag': '\"7bedf5ce6752c1b06237665dc801fd45\"',\n",
       "  'ChecksumAlgorithm': ['CRC32'],\n",
       "  'Size': 803,\n",
       "  'StorageClass': 'STANDARD'},\n",
       " {'Key': 'run_results/2542738/pubdir/multiqc/multiqc_data/multiqc_general_stats.txt',\n",
       "  'LastModified': datetime.datetime(2024, 9, 23, 22, 43, 38, tzinfo=tzlocal()),\n",
       "  'ETag': '\"022e31e49040cd0e51ccc1e721e5f3ba\"',\n",
       "  'ChecksumAlgorithm': ['CRC32'],\n",
       "  'Size': 439,\n",
       "  'StorageClass': 'STANDARD'},\n",
       " {'Key': 'run_results/2542738/pubdir/multiqc/multiqc_data/multiqc_snippy.txt',\n",
       "  'LastModified': datetime.datetime(2024, 9, 23, 22, 43, 38, tzinfo=tzlocal()),\n",
       "  'ETag': '\"54bce4167f88fe7534c6f922e84243b9\"',\n",
       "  'ChecksumAlgorithm': ['CRC32'],\n",
       "  'Size': 90,\n",
       "  'StorageClass': 'STANDARD'},\n",
       " {'Key': 'run_results/2542738/pubdir/multiqc/multiqc_data/multiqc_sources.txt',\n",
       "  'LastModified': datetime.datetime(2024, 9, 23, 22, 43, 38, tzinfo=tzlocal()),\n",
       "  'ETag': '\"fe03e4384fcd4a1f59c485f2d3fb5fc0\"',\n",
       "  'ChecksumAlgorithm': ['CRC32'],\n",
       "  'Size': 358,\n",
       "  'StorageClass': 'STANDARD'},\n",
       " {'Key': 'run_results/2542738/pubdir/multiqc/multiqc_plots/pdf/mqc_fastqc_per_base_n_content_plot_1.pdf',\n",
       "  'LastModified': datetime.datetime(2024, 9, 23, 22, 43, 38, tzinfo=tzlocal()),\n",
       "  'ETag': '\"1ac4a7747f2c7fe1e398119d102029b4\"',\n",
       "  'ChecksumAlgorithm': ['CRC32'],\n",
       "  'Size': 16356,\n",
       "  'StorageClass': 'STANDARD'},\n",
       " {'Key': 'run_results/2542738/pubdir/multiqc/multiqc_plots/pdf/mqc_fastqc_per_base_sequence_quality_plot_1.pdf',\n",
       "  'LastModified': datetime.datetime(2024, 9, 23, 22, 43, 38, tzinfo=tzlocal()),\n",
       "  'ETag': '\"694aa5517af52853079868a802e706d5\"',\n",
       "  'ChecksumAlgorithm': ['CRC32'],\n",
       "  'Size': 16110,\n",
       "  'StorageClass': 'STANDARD'},\n",
       " {'Key': 'run_results/2542738/pubdir/multiqc/multiqc_plots/pdf/mqc_fastqc_per_sequence_gc_content_plot_Counts.pdf',\n",
       "  'LastModified': datetime.datetime(2024, 9, 23, 22, 43, 38, tzinfo=tzlocal()),\n",
       "  'ETag': '\"8516e0e937766b55d7ab7ae9a0a03e64\"',\n",
       "  'ChecksumAlgorithm': ['CRC32'],\n",
       "  'Size': 15300,\n",
       "  'StorageClass': 'STANDARD'},\n",
       " {'Key': 'run_results/2542738/pubdir/multiqc/multiqc_plots/pdf/mqc_fastqc_per_sequence_gc_content_plot_Percentages.pdf',\n",
       "  'LastModified': datetime.datetime(2024, 9, 23, 22, 43, 38, tzinfo=tzlocal()),\n",
       "  'ETag': '\"70a42d556264f7a6fa8ddbc54a2a5d3d\"',\n",
       "  'ChecksumAlgorithm': ['CRC32'],\n",
       "  'Size': 15815,\n",
       "  'StorageClass': 'STANDARD'},\n",
       " {'Key': 'run_results/2542738/pubdir/multiqc/multiqc_plots/pdf/mqc_fastqc_per_sequence_quality_scores_plot_1.pdf',\n",
       "  'LastModified': datetime.datetime(2024, 9, 23, 22, 43, 38, tzinfo=tzlocal()),\n",
       "  'ETag': '\"bea38d33e123306ee6d687ab519fb162\"',\n",
       "  'ChecksumAlgorithm': ['CRC32'],\n",
       "  'Size': 14737,\n",
       "  'StorageClass': 'STANDARD'},\n",
       " {'Key': 'run_results/2542738/pubdir/multiqc/multiqc_plots/pdf/mqc_fastqc_sequence_counts_plot_1.pdf',\n",
       "  'LastModified': datetime.datetime(2024, 9, 23, 22, 43, 38, tzinfo=tzlocal()),\n",
       "  'ETag': '\"fe4053f4ed244d1c0eb5f3118efabddc\"',\n",
       "  'ChecksumAlgorithm': ['CRC32'],\n",
       "  'Size': 14528,\n",
       "  'StorageClass': 'STANDARD'},\n",
       " {'Key': 'run_results/2542738/pubdir/multiqc/multiqc_plots/pdf/mqc_fastqc_sequence_counts_plot_1_pc.pdf',\n",
       "  'LastModified': datetime.datetime(2024, 9, 23, 22, 43, 38, tzinfo=tzlocal()),\n",
       "  'ETag': '\"34ec2738113dddb84d5e18602fba89d6\"',\n",
       "  'ChecksumAlgorithm': ['CRC32'],\n",
       "  'Size': 14837,\n",
       "  'StorageClass': 'STANDARD'},\n",
       " {'Key': 'run_results/2542738/pubdir/multiqc/multiqc_plots/pdf/mqc_fastqc_sequence_duplication_levels_plot_1.pdf',\n",
       "  'LastModified': datetime.datetime(2024, 9, 23, 22, 43, 38, tzinfo=tzlocal()),\n",
       "  'ETag': '\"73118f25c3db06ebfac2a5a9a59f3404\"',\n",
       "  'ChecksumAlgorithm': ['CRC32'],\n",
       "  'Size': 16430,\n",
       "  'StorageClass': 'STANDARD'},\n",
       " {'Key': 'run_results/2542738/pubdir/multiqc/multiqc_plots/png/mqc_fastqc_per_base_n_content_plot_1.png',\n",
       "  'LastModified': datetime.datetime(2024, 9, 23, 22, 43, 38, tzinfo=tzlocal()),\n",
       "  'ETag': '\"55205fb4c989210b405f86a0c7d1873d\"',\n",
       "  'ChecksumAlgorithm': ['CRC32'],\n",
       "  'Size': 15921,\n",
       "  'StorageClass': 'STANDARD'},\n",
       " {'Key': 'run_results/2542738/pubdir/multiqc/multiqc_plots/png/mqc_fastqc_per_base_sequence_quality_plot_1.png',\n",
       "  'LastModified': datetime.datetime(2024, 9, 23, 22, 43, 38, tzinfo=tzlocal()),\n",
       "  'ETag': '\"59ed04cf4686c33ffef1a833a855fd2e\"',\n",
       "  'ChecksumAlgorithm': ['CRC32'],\n",
       "  'Size': 19986,\n",
       "  'StorageClass': 'STANDARD'},\n",
       " {'Key': 'run_results/2542738/pubdir/multiqc/multiqc_plots/png/mqc_fastqc_per_sequence_gc_content_plot_Counts.png',\n",
       "  'LastModified': datetime.datetime(2024, 9, 23, 22, 43, 38, tzinfo=tzlocal()),\n",
       "  'ETag': '\"af35b2bab6f53cd310a48185c5793763\"',\n",
       "  'ChecksumAlgorithm': ['CRC32'],\n",
       "  'Size': 33401,\n",
       "  'StorageClass': 'STANDARD'},\n",
       " {'Key': 'run_results/2542738/pubdir/multiqc/multiqc_plots/png/mqc_fastqc_per_sequence_gc_content_plot_Percentages.png',\n",
       "  'LastModified': datetime.datetime(2024, 9, 23, 22, 43, 38, tzinfo=tzlocal()),\n",
       "  'ETag': '\"ad33222cb3644ae9e930df317840e4c3\"',\n",
       "  'ChecksumAlgorithm': ['CRC32'],\n",
       "  'Size': 38257,\n",
       "  'StorageClass': 'STANDARD'},\n",
       " {'Key': 'run_results/2542738/pubdir/multiqc/multiqc_plots/png/mqc_fastqc_per_sequence_quality_scores_plot_1.png',\n",
       "  'LastModified': datetime.datetime(2024, 9, 23, 22, 43, 38, tzinfo=tzlocal()),\n",
       "  'ETag': '\"6292c43b092b822ce9f4d96b592a8875\"',\n",
       "  'ChecksumAlgorithm': ['CRC32'],\n",
       "  'Size': 30120,\n",
       "  'StorageClass': 'STANDARD'},\n",
       " {'Key': 'run_results/2542738/pubdir/multiqc/multiqc_plots/png/mqc_fastqc_sequence_counts_plot_1.png',\n",
       "  'LastModified': datetime.datetime(2024, 9, 23, 22, 43, 38, tzinfo=tzlocal()),\n",
       "  'ETag': '\"0ff980df6c92566fd34fd06ecaca2737\"',\n",
       "  'ChecksumAlgorithm': ['CRC32'],\n",
       "  'Size': 11029,\n",
       "  'StorageClass': 'STANDARD'},\n",
       " {'Key': 'run_results/2542738/pubdir/multiqc/multiqc_plots/png/mqc_fastqc_sequence_counts_plot_1_pc.png',\n",
       "  'LastModified': datetime.datetime(2024, 9, 23, 22, 43, 38, tzinfo=tzlocal()),\n",
       "  'ETag': '\"a3998e12e9c243179879e0820fe2bd07\"',\n",
       "  'ChecksumAlgorithm': ['CRC32'],\n",
       "  'Size': 10928,\n",
       "  'StorageClass': 'STANDARD'},\n",
       " {'Key': 'run_results/2542738/pubdir/multiqc/multiqc_plots/png/mqc_fastqc_sequence_duplication_levels_plot_1.png',\n",
       "  'LastModified': datetime.datetime(2024, 9, 23, 22, 43, 38, tzinfo=tzlocal()),\n",
       "  'ETag': '\"09c59e12d19bf290d5ca6f8decf001c5\"',\n",
       "  'ChecksumAlgorithm': ['CRC32'],\n",
       "  'Size': 30704,\n",
       "  'StorageClass': 'STANDARD'},\n",
       " {'Key': 'run_results/2542738/pubdir/multiqc/multiqc_plots/svg/mqc_fastqc_per_base_n_content_plot_1.svg',\n",
       "  'LastModified': datetime.datetime(2024, 9, 23, 22, 43, 38, tzinfo=tzlocal()),\n",
       "  'ETag': '\"2aab26aae82ed78557b9e9c9829fdd5f\"',\n",
       "  'ChecksumAlgorithm': ['CRC32'],\n",
       "  'Size': 30589,\n",
       "  'StorageClass': 'STANDARD'},\n",
       " {'Key': 'run_results/2542738/pubdir/multiqc/multiqc_plots/svg/mqc_fastqc_per_base_sequence_quality_plot_1.svg',\n",
       "  'LastModified': datetime.datetime(2024, 9, 23, 22, 43, 38, tzinfo=tzlocal()),\n",
       "  'ETag': '\"e0661f50af54cfa149b3a236e6e002fd\"',\n",
       "  'ChecksumAlgorithm': ['CRC32'],\n",
       "  'Size': 29984,\n",
       "  'StorageClass': 'STANDARD'},\n",
       " {'Key': 'run_results/2542738/pubdir/multiqc/multiqc_plots/svg/mqc_fastqc_per_sequence_gc_content_plot_Counts.svg',\n",
       "  'LastModified': datetime.datetime(2024, 9, 23, 22, 43, 38, tzinfo=tzlocal()),\n",
       "  'ETag': '\"1ec4f6c4d8d21fa6ec02fbc1352558c1\"',\n",
       "  'ChecksumAlgorithm': ['CRC32'],\n",
       "  'Size': 32439,\n",
       "  'StorageClass': 'STANDARD'},\n",
       " {'Key': 'run_results/2542738/pubdir/multiqc/multiqc_plots/svg/mqc_fastqc_per_sequence_gc_content_plot_Percentages.svg',\n",
       "  'LastModified': datetime.datetime(2024, 9, 23, 22, 43, 38, tzinfo=tzlocal()),\n",
       "  'ETag': '\"857287055a152ff0861a077948ae1344\"',\n",
       "  'ChecksumAlgorithm': ['CRC32'],\n",
       "  'Size': 30731,\n",
       "  'StorageClass': 'STANDARD'},\n",
       " {'Key': 'run_results/2542738/pubdir/multiqc/multiqc_plots/svg/mqc_fastqc_per_sequence_quality_scores_plot_1.svg',\n",
       "  'LastModified': datetime.datetime(2024, 9, 23, 22, 43, 38, tzinfo=tzlocal()),\n",
       "  'ETag': '\"dd5ef7c81fecaaa45659639d9f4ce7f4\"',\n",
       "  'ChecksumAlgorithm': ['CRC32'],\n",
       "  'Size': 28967,\n",
       "  'StorageClass': 'STANDARD'},\n",
       " {'Key': 'run_results/2542738/pubdir/multiqc/multiqc_plots/svg/mqc_fastqc_sequence_counts_plot_1.svg',\n",
       "  'LastModified': datetime.datetime(2024, 9, 23, 22, 43, 38, tzinfo=tzlocal()),\n",
       "  'ETag': '\"5ba1d55c295e7377812e29aa3802aee4\"',\n",
       "  'ChecksumAlgorithm': ['CRC32'],\n",
       "  'Size': 26577,\n",
       "  'StorageClass': 'STANDARD'},\n",
       " {'Key': 'run_results/2542738/pubdir/multiqc/multiqc_plots/svg/mqc_fastqc_sequence_counts_plot_1_pc.svg',\n",
       "  'LastModified': datetime.datetime(2024, 9, 23, 22, 43, 38, tzinfo=tzlocal()),\n",
       "  'ETag': '\"87f3a05acd850074c4e5c0860b886b7e\"',\n",
       "  'ChecksumAlgorithm': ['CRC32'],\n",
       "  'Size': 27083,\n",
       "  'StorageClass': 'STANDARD'},\n",
       " {'Key': 'run_results/2542738/pubdir/multiqc/multiqc_plots/svg/mqc_fastqc_sequence_duplication_levels_plot_1.svg',\n",
       "  'LastModified': datetime.datetime(2024, 9, 23, 22, 43, 38, tzinfo=tzlocal()),\n",
       "  'ETag': '\"3dc4eee6c248ba36220a748d3a0ab511\"',\n",
       "  'ChecksumAlgorithm': ['CRC32'],\n",
       "  'Size': 34225,\n",
       "  'StorageClass': 'STANDARD'},\n",
       " {'Key': 'run_results/2542738/pubdir/multiqc/multiqc_report.html',\n",
       "  'LastModified': datetime.datetime(2024, 9, 23, 22, 43, 38, tzinfo=tzlocal()),\n",
       "  'ETag': '\"7878ad3f13df2383c199a69b8f9e9fcf\"',\n",
       "  'ChecksumAlgorithm': ['CRC32'],\n",
       "  'Size': 1178684,\n",
       "  'StorageClass': 'STANDARD'},\n",
       " {'Key': 'run_results/2542738/pubdir/pipeline_info/software_versions.yml',\n",
       "  'LastModified': datetime.datetime(2024, 9, 23, 22, 43, 38, tzinfo=tzlocal()),\n",
       "  'ETag': '\"8c21be6b80c7fbfe4d9474a1f8eb93df\"',\n",
       "  'ChecksumAlgorithm': ['CRC32'],\n",
       "  'Size': 238,\n",
       "  'StorageClass': 'STANDARD'},\n",
       " {'Key': 'run_results/2542738/pubdir/star/20k_NSCLC_DTC/20k_NSCLC_DTC.Aligned.sortedByCoord.out.bam',\n",
       "  'LastModified': datetime.datetime(2024, 9, 23, 22, 43, 38, tzinfo=tzlocal()),\n",
       "  'ETag': '\"a5edbc734e637e13c15fd80a327fdbaa-657\"',\n",
       "  'ChecksumAlgorithm': ['CRC32'],\n",
       "  'Size': 5503193553,\n",
       "  'StorageClass': 'STANDARD'},\n",
       " {'Key': 'run_results/2542738/pubdir/star/20k_NSCLC_DTC/20k_NSCLC_DTC.Log.final.out',\n",
       "  'LastModified': datetime.datetime(2024, 9, 23, 22, 43, 38, tzinfo=tzlocal()),\n",
       "  'ETag': '\"969c5bb1673050636fc7d824f61a52f8\"',\n",
       "  'ChecksumAlgorithm': ['CRC32'],\n",
       "  'Size': 2036,\n",
       "  'StorageClass': 'STANDARD'},\n",
       " {'Key': 'run_results/2542738/pubdir/star/20k_NSCLC_DTC/20k_NSCLC_DTC.Log.out',\n",
       "  'LastModified': datetime.datetime(2024, 9, 23, 22, 43, 38, tzinfo=tzlocal()),\n",
       "  'ETag': '\"5d37bb0c2ad68e42557e544c0c31bf96\"',\n",
       "  'ChecksumAlgorithm': ['CRC32'],\n",
       "  'Size': 20939,\n",
       "  'StorageClass': 'STANDARD'},\n",
       " {'Key': 'run_results/2542738/pubdir/star/20k_NSCLC_DTC/20k_NSCLC_DTC.Log.progress.out',\n",
       "  'LastModified': datetime.datetime(2024, 9, 23, 22, 43, 38, tzinfo=tzlocal()),\n",
       "  'ETag': '\"7c9ddd7643cd28397558c53a696da51a\"',\n",
       "  'ChecksumAlgorithm': ['CRC32'],\n",
       "  'Size': 1391,\n",
       "  'StorageClass': 'STANDARD'},\n",
       " {'Key': 'run_results/2542738/pubdir/star/20k_NSCLC_DTC/20k_NSCLC_DTC.SJ.out.tab',\n",
       "  'LastModified': datetime.datetime(2024, 9, 23, 22, 43, 38, tzinfo=tzlocal()),\n",
       "  'ETag': '\"13464212473e0ba689b6a51c03d30627-2\"',\n",
       "  'ChecksumAlgorithm': ['CRC32'],\n",
       "  'Size': 9926474,\n",
       "  'StorageClass': 'STANDARD'},\n",
       " {'Key': 'run_results/2542738/pubdir/star/20k_NSCLC_DTC/20k_NSCLC_DTC.Solo.out/Barcodes.stats',\n",
       "  'LastModified': datetime.datetime(2024, 9, 23, 22, 43, 38, tzinfo=tzlocal()),\n",
       "  'ETag': '\"0f80984e4643f1e93675e25a8747d142\"',\n",
       "  'ChecksumAlgorithm': ['CRC32'],\n",
       "  'Size': 792,\n",
       "  'StorageClass': 'STANDARD'},\n",
       " {'Key': 'run_results/2542738/pubdir/star/20k_NSCLC_DTC/20k_NSCLC_DTC.Solo.out/Gene/Features.stats',\n",
       "  'LastModified': datetime.datetime(2024, 9, 23, 22, 43, 38, tzinfo=tzlocal()),\n",
       "  'ETag': '\"af38460c6b112f55c252d5ce4039cd64\"',\n",
       "  'ChecksumAlgorithm': ['CRC32'],\n",
       "  'Size': 726,\n",
       "  'StorageClass': 'STANDARD'},\n",
       " {'Key': 'run_results/2542738/pubdir/star/20k_NSCLC_DTC/20k_NSCLC_DTC.Solo.out/Gene/Summary.csv',\n",
       "  'LastModified': datetime.datetime(2024, 9, 23, 22, 43, 38, tzinfo=tzlocal()),\n",
       "  'ETag': '\"b29d4d2150ee74b05a0d732e780049a7\"',\n",
       "  'ChecksumAlgorithm': ['CRC32'],\n",
       "  'Size': 654,\n",
       "  'StorageClass': 'STANDARD'},\n",
       " {'Key': 'run_results/2542738/pubdir/star/20k_NSCLC_DTC/20k_NSCLC_DTC.Solo.out/Gene/UMIperCellSorted.txt',\n",
       "  'LastModified': datetime.datetime(2024, 9, 23, 22, 43, 38, tzinfo=tzlocal()),\n",
       "  'ETag': '\"cf4e6fe52d02d801f3b303c1f028b788\"',\n",
       "  'ChecksumAlgorithm': ['CRC32'],\n",
       "  'Size': 1773580,\n",
       "  'StorageClass': 'STANDARD'},\n",
       " {'Key': 'run_results/2542738/pubdir/star/20k_NSCLC_DTC/20k_NSCLC_DTC.Solo.out/Gene/filtered/barcodes.tsv.gz',\n",
       "  'LastModified': datetime.datetime(2024, 9, 23, 22, 43, 38, tzinfo=tzlocal()),\n",
       "  'ETag': '\"e898f6176146c70270a6dd22097262d1\"',\n",
       "  'ChecksumAlgorithm': ['CRC32'],\n",
       "  'Size': 30147,\n",
       "  'StorageClass': 'STANDARD'},\n",
       " {'Key': 'run_results/2542738/pubdir/star/20k_NSCLC_DTC/20k_NSCLC_DTC.Solo.out/Gene/filtered/features.tsv.gz',\n",
       "  'LastModified': datetime.datetime(2024, 9, 23, 22, 43, 38, tzinfo=tzlocal()),\n",
       "  'ETag': '\"7a68f4a4cafb57b0f5bd13375fefb62d\"',\n",
       "  'ChecksumAlgorithm': ['CRC32'],\n",
       "  'Size': 491297,\n",
       "  'StorageClass': 'STANDARD'},\n",
       " {'Key': 'run_results/2542738/pubdir/star/20k_NSCLC_DTC/20k_NSCLC_DTC.Solo.out/Gene/filtered/matrix.mtx.gz',\n",
       "  'LastModified': datetime.datetime(2024, 9, 23, 22, 43, 38, tzinfo=tzlocal()),\n",
       "  'ETag': '\"3c6f4e65a90cfb412a4f3b2bcb742d82-6\"',\n",
       "  'ChecksumAlgorithm': ['CRC32'],\n",
       "  'Size': 42831781,\n",
       "  'StorageClass': 'STANDARD'},\n",
       " {'Key': 'run_results/2542738/pubdir/star/20k_NSCLC_DTC/20k_NSCLC_DTC.Solo.out/Gene/raw/barcodes.tsv.gz',\n",
       "  'LastModified': datetime.datetime(2024, 9, 23, 22, 43, 38, tzinfo=tzlocal()),\n",
       "  'ETag': '\"c1dfa099f80a5c386d8c318c0796b9f1-3\"',\n",
       "  'ChecksumAlgorithm': ['CRC32'],\n",
       "  'Size': 18350144,\n",
       "  'StorageClass': 'STANDARD'},\n",
       " {'Key': 'run_results/2542738/pubdir/star/20k_NSCLC_DTC/20k_NSCLC_DTC.Solo.out/Gene/raw/features.tsv.gz',\n",
       "  'LastModified': datetime.datetime(2024, 9, 23, 22, 43, 38, tzinfo=tzlocal()),\n",
       "  'ETag': '\"aea48a1485f9800a523f7de04ad2248c\"',\n",
       "  'ChecksumAlgorithm': ['CRC32'],\n",
       "  'Size': 491297,\n",
       "  'StorageClass': 'STANDARD'},\n",
       " {'Key': 'run_results/2542738/pubdir/star/20k_NSCLC_DTC/20k_NSCLC_DTC.Solo.out/Gene/raw/matrix.mtx.gz',\n",
       "  'LastModified': datetime.datetime(2024, 9, 23, 22, 43, 38, tzinfo=tzlocal()),\n",
       "  'ETag': '\"e36e643f70d269b5ce27c04c6c804be3-10\"',\n",
       "  'ChecksumAlgorithm': ['CRC32'],\n",
       "  'Size': 77374285,\n",
       "  'StorageClass': 'STANDARD'},\n",
       " {'Key': 'run_results/2542738/pubdir/star/20k_NSCLC_DTC/versions.yml',\n",
       "  'LastModified': datetime.datetime(2024, 9, 23, 22, 43, 38, tzinfo=tzlocal()),\n",
       "  'ETag': '\"57baca9b0ff7080e32967be0d89fad17\"',\n",
       "  'ChecksumAlgorithm': ['CRC32'],\n",
       "  'Size': 66,\n",
       "  'StorageClass': 'STANDARD'},\n",
       " {'Key': 'run_results/2542738/pubdir/star/genome_generate/star/Genome',\n",
       "  'LastModified': datetime.datetime(2024, 9, 23, 22, 43, 38, tzinfo=tzlocal()),\n",
       "  'ETag': '\"c27f1b082b86c4b1f509f1cdc7a17c47-384\"',\n",
       "  'ChecksumAlgorithm': ['CRC32'],\n",
       "  'Size': 3218069996,\n",
       "  'StorageClass': 'STANDARD'},\n",
       " {'Key': 'run_results/2542738/pubdir/star/genome_generate/star/Log.out',\n",
       "  'LastModified': datetime.datetime(2024, 9, 23, 22, 43, 38, tzinfo=tzlocal()),\n",
       "  'ETag': '\"a42ca87f7483a5e9f8e603bfbfd20eac\"',\n",
       "  'ChecksumAlgorithm': ['CRC32'],\n",
       "  'Size': 28270,\n",
       "  'StorageClass': 'STANDARD'},\n",
       " {'Key': 'run_results/2542738/pubdir/star/genome_generate/star/SA',\n",
       "  'LastModified': datetime.datetime(2024, 9, 23, 22, 43, 38, tzinfo=tzlocal()),\n",
       "  'ETag': '\"fc8ea41f69cf7957c45ae09e6c134d40-2976\"',\n",
       "  'ChecksumAlgorithm': ['CRC32'],\n",
       "  'Size': 24957353581,\n",
       "  'StorageClass': 'STANDARD'},\n",
       " {'Key': 'run_results/2542738/pubdir/star/genome_generate/star/SAindex',\n",
       "  'LastModified': datetime.datetime(2024, 9, 23, 22, 43, 38, tzinfo=tzlocal()),\n",
       "  'ETag': '\"6309dfb2061fa21210caea3ab1a5cc34-187\"',\n",
       "  'ChecksumAlgorithm': ['CRC32'],\n",
       "  'Size': 1565873619,\n",
       "  'StorageClass': 'STANDARD'},\n",
       " {'Key': 'run_results/2542738/pubdir/star/genome_generate/star/chrLength.txt',\n",
       "  'LastModified': datetime.datetime(2024, 9, 23, 22, 43, 38, tzinfo=tzlocal()),\n",
       "  'ETag': '\"d57b2ed04655d661b860b177875421d9\"',\n",
       "  'ChecksumAlgorithm': ['CRC32'],\n",
       "  'Size': 1200,\n",
       "  'StorageClass': 'STANDARD'},\n",
       " {'Key': 'run_results/2542738/pubdir/star/genome_generate/star/chrName.txt',\n",
       "  'LastModified': datetime.datetime(2024, 9, 23, 22, 43, 38, tzinfo=tzlocal()),\n",
       "  'ETag': '\"c93ac05176d615ddec18a1faac7ef355\"',\n",
       "  'ChecksumAlgorithm': ['CRC32'],\n",
       "  'Size': 1923,\n",
       "  'StorageClass': 'STANDARD'},\n",
       " {'Key': 'run_results/2542738/pubdir/star/genome_generate/star/chrNameLength.txt',\n",
       "  'LastModified': datetime.datetime(2024, 9, 23, 22, 43, 38, tzinfo=tzlocal()),\n",
       "  'ETag': '\"5bb25def58f5ab73e05711b51aee01df\"',\n",
       "  'ChecksumAlgorithm': ['CRC32'],\n",
       "  'Size': 3123,\n",
       "  'StorageClass': 'STANDARD'},\n",
       " {'Key': 'run_results/2542738/pubdir/star/genome_generate/star/chrStart.txt',\n",
       "  'LastModified': datetime.datetime(2024, 9, 23, 22, 43, 38, tzinfo=tzlocal()),\n",
       "  'ETag': '\"a117b5f64c14c8349efd5a01b67f89ba\"',\n",
       "  'ChecksumAlgorithm': ['CRC32'],\n",
       "  'Size': 2129,\n",
       "  'StorageClass': 'STANDARD'},\n",
       " {'Key': 'run_results/2542738/pubdir/star/genome_generate/star/exonGeTrInfo.tab',\n",
       "  'LastModified': datetime.datetime(2024, 9, 23, 22, 43, 38, tzinfo=tzlocal()),\n",
       "  'ETag': '\"b301f598108c01966c3b14ccc8d78045-7\"',\n",
       "  'ChecksumAlgorithm': ['CRC32'],\n",
       "  'Size': 55901809,\n",
       "  'StorageClass': 'STANDARD'},\n",
       " {'Key': 'run_results/2542738/pubdir/star/genome_generate/star/exonInfo.tab',\n",
       "  'LastModified': datetime.datetime(2024, 9, 23, 22, 43, 38, tzinfo=tzlocal()),\n",
       "  'ETag': '\"9d8d99101eca6176d494e869d198ce5e-3\"',\n",
       "  'ChecksumAlgorithm': ['CRC32'],\n",
       "  'Size': 22941974,\n",
       "  'StorageClass': 'STANDARD'},\n",
       " {'Key': 'run_results/2542738/pubdir/star/genome_generate/star/geneInfo.tab',\n",
       "  'LastModified': datetime.datetime(2024, 9, 23, 22, 43, 38, tzinfo=tzlocal()),\n",
       "  'ETag': '\"8a52ca8423f1524a38e35a6b58f7ae17\"',\n",
       "  'ChecksumAlgorithm': ['CRC32'],\n",
       "  'Size': 2454531,\n",
       "  'StorageClass': 'STANDARD'},\n",
       " {'Key': 'run_results/2542738/pubdir/star/genome_generate/star/genomeParameters.txt',\n",
       "  'LastModified': datetime.datetime(2024, 9, 23, 22, 43, 38, tzinfo=tzlocal()),\n",
       "  'ETag': '\"3182dd8c0c50b1819598045674c6849d\"',\n",
       "  'ChecksumAlgorithm': ['CRC32'],\n",
       "  'Size': 788,\n",
       "  'StorageClass': 'STANDARD'},\n",
       " {'Key': 'run_results/2542738/pubdir/star/genome_generate/star/sjdbInfo.txt',\n",
       "  'LastModified': datetime.datetime(2024, 9, 23, 22, 43, 38, tzinfo=tzlocal()),\n",
       "  'ETag': '\"259176af2b6865d61a9cd0f631d423a4-2\"',\n",
       "  'ChecksumAlgorithm': ['CRC32'],\n",
       "  'Size': 11573620,\n",
       "  'StorageClass': 'STANDARD'},\n",
       " {'Key': 'run_results/2542738/pubdir/star/genome_generate/star/sjdbList.fromGTF.out.tab',\n",
       "  'LastModified': datetime.datetime(2024, 9, 23, 22, 43, 38, tzinfo=tzlocal()),\n",
       "  'ETag': '\"63afb8183c5b7fcee13ace3e733dbe64-2\"',\n",
       "  'ChecksumAlgorithm': ['CRC32'],\n",
       "  'Size': 11417307,\n",
       "  'StorageClass': 'STANDARD'},\n",
       " {'Key': 'run_results/2542738/pubdir/star/genome_generate/star/sjdbList.out.tab',\n",
       "  'LastModified': datetime.datetime(2024, 9, 23, 22, 43, 38, tzinfo=tzlocal()),\n",
       "  'ETag': '\"f005fe1c1852c27615bd791e49726c95-2\"',\n",
       "  'ChecksumAlgorithm': ['CRC32'],\n",
       "  'Size': 9066768,\n",
       "  'StorageClass': 'STANDARD'},\n",
       " {'Key': 'run_results/2542738/pubdir/star/genome_generate/star/transcriptInfo.tab',\n",
       "  'LastModified': datetime.datetime(2024, 9, 23, 22, 43, 38, tzinfo=tzlocal()),\n",
       "  'ETag': '\"dfce5fe5223806d4bc067468335c6df6-2\"',\n",
       "  'ChecksumAlgorithm': ['CRC32'],\n",
       "  'Size': 16051200,\n",
       "  'StorageClass': 'STANDARD'},\n",
       " {'Key': 'run_results/2542738/pubdir/star/genome_generate/versions.yml',\n",
       "  'LastModified': datetime.datetime(2024, 9, 23, 22, 43, 38, tzinfo=tzlocal()),\n",
       "  'ETag': '\"5d184bf60adc3fb09b2ced447f669797\"',\n",
       "  'ChecksumAlgorithm': ['CRC32'],\n",
       "  'Size': 113,\n",
       "  'StorageClass': 'STANDARD'},\n",
       " {'Key': 'run_results/2542738/pubdir/star/mtx_conversions/20k_NSCLC_DTC_matrix.h5ad',\n",
       "  'LastModified': datetime.datetime(2024, 9, 23, 22, 43, 38, tzinfo=tzlocal()),\n",
       "  'ETag': '\"238284d7c7af4cb4a64099340a67d218-5\"',\n",
       "  'ChecksumAlgorithm': ['CRC32'],\n",
       "  'Size': 34264979,\n",
       "  'StorageClass': 'STANDARD'},\n",
       " {'Key': 'run_results/2542738/pubdir/star/mtx_conversions/20k_NSCLC_DTC_matrix.rds',\n",
       "  'LastModified': datetime.datetime(2024, 9, 23, 22, 43, 38, tzinfo=tzlocal()),\n",
       "  'ETag': '\"07c892ea6427826acdfcb205fe10a99c-8\"',\n",
       "  'ChecksumAlgorithm': ['CRC32'],\n",
       "  'Size': 64814851,\n",
       "  'StorageClass': 'STANDARD'},\n",
       " {'Key': 'run_results/2542738/pubdir/star/mtx_conversions/versions.yml',\n",
       "  'LastModified': datetime.datetime(2024, 9, 23, 22, 43, 38, tzinfo=tzlocal()),\n",
       "  'ETag': '\"852e4a59f12b1c7a3ea87939981b50ba\"',\n",
       "  'ChecksumAlgorithm': ['CRC32'],\n",
       "  'Size': 31,\n",
       "  'StorageClass': 'STANDARD'}]"
      ]
     },
     "execution_count": 24,
     "metadata": {},
     "output_type": "execute_result"
    }
   ],
   "source": [
    "s3uri = urlparse(omics_client.get_run(id=run_id)['outputUri'])\n",
    "boto3.client('s3').list_objects_v2(Bucket=s3uri.netloc, Prefix='/'.join([s3uri.path[1:], \"2542738\"]))['Contents']"
   ]
  },
  {
   "cell_type": "markdown",
   "id": "45a4eecf",
   "metadata": {},
   "source": [
    "Like standard workflows, R2R workflows support all the features of the Amazon Omics Platform. <br>\n",
    "As such, tasks, logs and run groups are fully supported. Here, we showcase how to get list of tasks and corresponding log streams."
   ]
  },
  {
   "cell_type": "code",
   "execution_count": 20,
   "id": "adfa890f",
   "metadata": {
    "tags": []
   },
   "outputs": [
    {
     "name": "stdout",
     "output_type": "stream",
     "text": [
      "[\n",
      "  {\n",
      "    \"taskId\": \"2219876\",\n",
      "    \"status\": \"COMPLETED\",\n",
      "    \"name\": \"NFCORE_SCRNASEQ:SCRNASEQ:MULTIQC\",\n",
      "    \"cpus\": 2,\n",
      "    \"memory\": 7,\n",
      "    \"creationTime\": \"2024-09-23 22:35:29.338300+00:00\",\n",
      "    \"startTime\": \"2024-09-23 22:39:07.334000+00:00\",\n",
      "    \"stopTime\": \"2024-09-23 22:39:40.969000+00:00\",\n",
      "    \"gpus\": 0,\n",
      "    \"instanceType\": \"omics.m.large\"\n",
      "  },\n",
      "  {\n",
      "    \"taskId\": \"9116974\",\n",
      "    \"status\": \"COMPLETED\",\n",
      "    \"name\": \"NFCORE_SCRNASEQ:SCRNASEQ:CUSTOM_DUMPSOFTWAREVERSIONS (1)\",\n",
      "    \"cpus\": 2,\n",
      "    \"memory\": 7,\n",
      "    \"creationTime\": \"2024-09-23 22:27:25.778950+00:00\",\n",
      "    \"startTime\": \"2024-09-23 22:35:13.693000+00:00\",\n",
      "    \"stopTime\": \"2024-09-23 22:35:27.698000+00:00\",\n",
      "    \"gpus\": 0,\n",
      "    \"instanceType\": \"omics.m.large\"\n",
      "  },\n",
      "  {\n",
      "    \"taskId\": \"8063649\",\n",
      "    \"status\": \"COMPLETED\",\n",
      "    \"name\": \"NFCORE_SCRNASEQ:SCRNASEQ:MTX_CONVERSION:MTX_TO_H5AD (20k_NSCLC_DTC)\",\n",
      "    \"cpus\": 8,\n",
      "    \"memory\": 57,\n",
      "    \"creationTime\": \"2024-09-23 22:27:25.662380+00:00\",\n",
      "    \"startTime\": \"2024-09-23 22:32:16.149000+00:00\",\n",
      "    \"stopTime\": \"2024-09-23 22:32:59.729000+00:00\",\n",
      "    \"gpus\": 0,\n",
      "    \"instanceType\": \"omics.r.2xlarge\"\n",
      "  },\n",
      "  {\n",
      "    \"taskId\": \"2534697\",\n",
      "    \"status\": \"COMPLETED\",\n",
      "    \"name\": \"NFCORE_SCRNASEQ:SCRNASEQ:MTX_CONVERSION:MTX_TO_SEURAT (20k_NSCLC_DTC)\",\n",
      "    \"cpus\": 8,\n",
      "    \"memory\": 57,\n",
      "    \"creationTime\": \"2024-09-23 22:27:25.655850+00:00\",\n",
      "    \"startTime\": \"2024-09-23 22:32:31.734000+00:00\",\n",
      "    \"stopTime\": \"2024-09-23 22:33:17.322000+00:00\",\n",
      "    \"gpus\": 0,\n",
      "    \"instanceType\": \"omics.r.2xlarge\"\n",
      "  },\n",
      "  {\n",
      "    \"taskId\": \"8135922\",\n",
      "    \"status\": \"COMPLETED\",\n",
      "    \"name\": \"NFCORE_SCRNASEQ:SCRNASEQ:STARSOLO:STAR_ALIGN (20k_NSCLC_DTC)\",\n",
      "    \"cpus\": 32,\n",
      "    \"memory\": 230,\n",
      "    \"creationTime\": \"2024-09-23 22:00:02.614880+00:00\",\n",
      "    \"startTime\": \"2024-09-23 22:04:26.256000+00:00\",\n",
      "    \"stopTime\": \"2024-09-23 22:27:24.453000+00:00\",\n",
      "    \"gpus\": 0,\n",
      "    \"instanceType\": \"omics.r.8xlarge\"\n",
      "  },\n",
      "  {\n",
      "    \"taskId\": \"1079797\",\n",
      "    \"status\": \"COMPLETED\",\n",
      "    \"name\": \"NFCORE_SCRNASEQ:SCRNASEQ:STARSOLO:STAR_GENOMEGENERATE (Homo_sapiens.GRCh38.dna.primary_assembly.fa)\",\n",
      "    \"cpus\": 32,\n",
      "    \"memory\": 230,\n",
      "    \"creationTime\": \"2024-09-23 21:26:07.575900+00:00\",\n",
      "    \"startTime\": \"2024-09-23 21:30:34.269000+00:00\",\n",
      "    \"stopTime\": \"2024-09-23 22:00:01.341000+00:00\",\n",
      "    \"gpus\": 0,\n",
      "    \"instanceType\": \"omics.r.8xlarge\"\n",
      "  },\n",
      "  {\n",
      "    \"taskId\": \"4327907\",\n",
      "    \"status\": \"COMPLETED\",\n",
      "    \"name\": \"NFCORE_SCRNASEQ:SCRNASEQ:FASTQC_CHECK:FASTQC (20k_NSCLC_DTC)\",\n",
      "    \"cpus\": 8,\n",
      "    \"memory\": 57,\n",
      "    \"creationTime\": \"2024-09-23 21:21:35.065130+00:00\",\n",
      "    \"startTime\": \"2024-09-23 21:26:03.328000+00:00\",\n",
      "    \"stopTime\": \"2024-09-23 21:37:13.114000+00:00\",\n",
      "    \"gpus\": 0,\n",
      "    \"instanceType\": \"omics.r.2xlarge\"\n",
      "  },\n",
      "  {\n",
      "    \"taskId\": \"1378356\",\n",
      "    \"status\": \"COMPLETED\",\n",
      "    \"name\": \"NFCORE_SCRNASEQ:SCRNASEQ:GTF_GENE_FILTER (Homo_sapiens.GRCh38.dna.primary_assembly.fa)\",\n",
      "    \"cpus\": 2,\n",
      "    \"memory\": 14,\n",
      "    \"creationTime\": \"2024-09-23 21:21:16.943560+00:00\",\n",
      "    \"startTime\": \"2024-09-23 21:25:30.317000+00:00\",\n",
      "    \"stopTime\": \"2024-09-23 21:26:06.400000+00:00\",\n",
      "    \"gpus\": 0,\n",
      "    \"instanceType\": \"omics.r.large\"\n",
      "  }\n",
      "]\n"
     ]
    }
   ],
   "source": [
    "tasks = omics_client.list_run_tasks(id=run_id)\n",
    "omics_helper_pretty_print(tasks['items'])"
   ]
  },
  {
   "cell_type": "markdown",
   "id": "85a436fb",
   "metadata": {},
   "source": [
    "and get specific task details with:"
   ]
  },
  {
   "cell_type": "code",
   "execution_count": 21,
   "id": "8abe0bbf",
   "metadata": {
    "tags": []
   },
   "outputs": [
    {
     "name": "stdout",
     "output_type": "stream",
     "text": [
      "{\n",
      "  \"taskId\": \"2219876\",\n",
      "  \"status\": \"COMPLETED\",\n",
      "  \"name\": \"NFCORE_SCRNASEQ:SCRNASEQ:MULTIQC\",\n",
      "  \"cpus\": 2,\n",
      "  \"memory\": 7,\n",
      "  \"creationTime\": \"2024-09-23 22:35:29.338300+00:00\",\n",
      "  \"startTime\": \"2024-09-23 22:39:07.334000+00:00\",\n",
      "  \"stopTime\": \"2024-09-23 22:39:40.969000+00:00\",\n",
      "  \"logStream\": \"arn:aws:logs:us-west-2:851725420776:log-group:/aws/omics/WorkflowLog:log-stream:run/2542738/task/2219876\",\n",
      "  \"gpus\": 0,\n",
      "  \"instanceType\": \"omics.m.large\"\n",
      "}\n"
     ]
    }
   ],
   "source": [
    "task = omics_client.get_run_task(id=run_id, taskId=tasks['items'][0]['taskId'])\n",
    "omics_helper_pretty_print(task)"
   ]
  },
  {
   "cell_type": "markdown",
   "id": "ad0ff9b3",
   "metadata": {},
   "source": [
    "After running the cell above we should see that each task has an associated CloudWatch Logs LogStream. These capture any text generated by the workflow task that has been sent to either `STDOUT` or `STDERR`. These outputs are helpful for debugging any task failures and can be retrieved with:"
   ]
  },
  {
   "cell_type": "code",
   "execution_count": 22,
   "id": "e7ba6e85",
   "metadata": {
    "tags": []
   },
   "outputs": [
    {
     "name": "stdout",
     "output_type": "stream",
     "text": [
      "Task started\n",
      "/// MultiQC 🔍 | v1.13\n",
      "|           multiqc | Search path : /mnt/workflow/5d/805705d365195e69c76efc5365afde\n",
      "|         searching | ━━━━━━━━━━━━━━━━━━━━━━━━━━━━━━━━━━━━━━━━ 100% 12/12\n",
      "|    custom_content | software_versions: Found 1 sample (html)\n",
      "|    custom_content | nf-core-scrnaseq-summary: Found 1 sample (html)\n",
      "|    custom_content | nf-core-scrnaseq-methods-description: Found 1 sample (html)\n",
      "|            snippy | Found 1 reports\n",
      "|          bargraph | Tried to make bar plot, but had no data: snippy_variants\n",
      "|            fastqc | Found 2 reports\n",
      "|           multiqc | Compressing plot data\n",
      "|           multiqc | Report      : multiqc_report.html\n",
      "|           multiqc | Data        : multiqc_data\n",
      "|           multiqc | Plots       : multiqc_plots\n",
      "|           multiqc | MultiQC complete\n",
      "Task succeeded\n"
     ]
    }
   ],
   "source": [
    "events = boto3.client('logs').get_log_events(\n",
    "    logGroupName=\"/aws/omics/WorkflowLog\",\n",
    "    logStreamName=f\"run/{run_id}/task/{task['taskId']}\"\n",
    ")\n",
    "for event in events['events']:\n",
    "    print(event['message'])"
   ]
  },
  {
   "cell_type": "markdown",
   "id": "e666c096",
   "metadata": {},
   "source": [
    "Functionality of Run Groups is not presented here, since it is identical to those in the workflows notebook tutorial"
   ]
  }
 ],
 "metadata": {
  "kernelspec": {
   "display_name": "conda_python3",
   "language": "python",
   "name": "conda_python3"
  },
  "language_info": {
   "codemirror_mode": {
    "name": "ipython",
    "version": 3
   },
   "file_extension": ".py",
   "mimetype": "text/x-python",
   "name": "python",
   "nbconvert_exporter": "python",
   "pygments_lexer": "ipython3",
   "version": "3.10.14"
  },
  "vscode": {
   "interpreter": {
    "hash": "31f2aee4e71d21fbe5cf8b01ff0e069b9275f58929596ceb00d14d90e3e16cd6"
   }
  }
 },
 "nbformat": 4,
 "nbformat_minor": 5
}
