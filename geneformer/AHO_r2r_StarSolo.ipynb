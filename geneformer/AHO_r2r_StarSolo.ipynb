{
 "cells": [
  {
   "cell_type": "code",
   "execution_count": null,
   "id": "f18805d3",
   "metadata": {
    "tags": []
   },
   "outputs": [],
   "source": [
    "%pip install --disable-pip-version-check -qU 'boto3==1.35.16' 'sagemaker==2.231.0'"
   ]
  },
  {
   "cell_type": "markdown",
   "id": "746d8cf3-8ea9-4d5b-adca-aec70f3395ae",
   "metadata": {},
   "source": [
    "### Notebook adapted from https://github.com/aws-samples/amazon-omics-tutorials/tree/main/notebooks on 2024-09-18"
   ]
  },
  {
   "cell_type": "markdown",
   "id": "01679a33",
   "metadata": {
    "tags": []
   },
   "source": [
    "# Running R2R (Ready to Run) scRNA-Seq processing with STARsolo workflow"
   ]
  },
  {
   "cell_type": "markdown",
   "id": "b821f826-2975-4933-b357-f3b7342e7247",
   "metadata": {},
   "source": [
    "The scRNAseq with STARsolo workflow is based on the nf-core/scrnseq pipeline. \n"
   ]
  },
  {
   "cell_type": "markdown",
   "id": "3fac434a",
   "metadata": {},
   "source": [
    "![scRNA seq data flow](./images/scrnaseq_dataflow.jpg)"
   ]
  },
  {
   "cell_type": "markdown",
   "id": "14a9daac",
   "metadata": {},
   "source": [
    "![R2R scRNA STARsolo](./images/r2r_scrnastarsolo.png)"
   ]
  },
  {
   "cell_type": "markdown",
   "id": "3ad7f943-1c9b-4500-af95-e6d545ef8606",
   "metadata": {},
   "source": [
    "This workflow uses STARsolo to analyze droplet single cell RNA sequencing data, and it takes raw FASTQ reads files, and performs the following operations:\n",
    "\n",
    "- Error correction and demultiplexing of cell barcodes using the default 10x whitelist\n",
    "- Mapping the reads to the reference genome using the standard STAR spliced read alignment algorithm\n",
    "- Error correction and collapsing (deduplication) of Unique Molecular Identifiers (UMIa)\n",
    "- Quantification of per-cell gene expression by counting the number of reads per gene\n",
    "- Quantification of other transcriptomic features"
   ]
  },
  {
   "cell_type": "markdown",
   "id": "0d3fd7f6",
   "metadata": {},
   "source": [
    "## Prerequisites\n",
    "### Python requirements\n",
    "* Python >= 3.8\n",
    "* Packages:\n",
    "  * boto3 >= 1.26.19\n",
    "  * botocore >= 1.29.19\n",
    "\n",
    "### AWS requirements\n",
    "\n",
    "#### AWS CLI\n",
    "You will need the AWS CLI installed and configured in your environment. Supported AWS CLI versions are:\n",
    "\n",
    "* AWS CLI v2 >= 2.9.3 (Recommended)\n",
    "* AWS CLI v1 >= 1.27.19\n",
    "\n",
    "#### Output buckets\n",
    "You will need a bucket **in the same region** you are running this tutorial in, to store workflow outputs."
   ]
  },
  {
   "cell_type": "markdown",
   "id": "f86339cd-c9ab-4512-80e0-fe55da1fe130",
   "metadata": {},
   "source": [
    "## Policy setup\n",
    "This notebook runs under the role that was created or selected during notebook creation.<br>\n",
    "By executing the following code snippet you can crosscheck the role name."
   ]
  },
  {
   "cell_type": "code",
   "execution_count": null,
   "id": "cb63b334-d212-4ae2-bb6d-694680bbdad8",
   "metadata": {
    "tags": []
   },
   "outputs": [],
   "source": [
    "import boto3\n",
    "boto3.client('sts').get_caller_identity()['Arn']"
   ]
  },
  {
   "cell_type": "markdown",
   "id": "d4adc94b-c990-4ca7-80f2-321d90a1572f",
   "metadata": {},
   "source": [
    "We need to enrich this role with policy permissions, so that actions executed in upcoming statements do not fail.<br>\n",
    "Here is a sample policy that can to be added to the role. It must be noted that this is a sample policy, for the needs of this project.\n",
    "\n",
    "In a production environment, the actual policy should follow the principle of least privileges."
   ]
  },
  {
   "cell_type": "code",
   "execution_count": null,
   "id": "aeb33b7c-dbf9-4b2f-8f62-bf9c40feab7f",
   "metadata": {
    "tags": []
   },
   "outputs": [],
   "source": [
    "{\n",
    "    \"Version\": \"2012-10-17\",\n",
    "    \"Statement\": [\n",
    "        {\n",
    "            \"Sid\": \"VisualEditor0\",\n",
    "            \"Effect\": \"Allow\",\n",
    "            \"Action\": [\n",
    "                \"iam:GetPolicy\",\n",
    "                \"iam:CreatePolicy\",\n",
    "                \"iam:DeletePolicy\",\n",
    "                \"iam:ListPolicyVersions\",\n",
    "                \"iam:ListEntitiesForPolicy\",\n",
    "                \"iam:CreateRole\",\n",
    "                \"iam:DeleteRole\",\n",
    "                \"iam:DeletePolicyVersion\",\n",
    "                \"iam:AttachRolePolicy\",\n",
    "                \"iam:DetachRolePolicy\",\n",
    "                \"iam:ListAttachedRolePolicies\",\n",
    "                \"iam:PassRole\",\n",
    "                \"omics:*\"\n",
    "            ],\n",
    "            \"Resource\": \"*\"\n",
    "        }\n",
    "    ]\n",
    "}"
   ]
  },
  {
   "cell_type": "markdown",
   "id": "b25326f3",
   "metadata": {},
   "source": [
    "## Environment setup"
   ]
  },
  {
   "cell_type": "markdown",
   "id": "2a1b66f3-5f44-4ad2-bdd2-6bfb369ab55f",
   "metadata": {},
   "source": [
    "Reset environment, in case you are re-running this tutorial.<br> "
   ]
  },
  {
   "cell_type": "code",
   "execution_count": null,
   "id": "d09d8022-36e0-4875-85f8-4119a9971998",
   "metadata": {
    "tags": []
   },
   "outputs": [],
   "source": [
    "%reset -f"
   ]
  },
  {
   "cell_type": "markdown",
   "id": "32cb1cfe-d380-4776-ac8c-efc6565c293a",
   "metadata": {},
   "source": [
    "Load helper functions from helper notebook."
   ]
  },
  {
   "cell_type": "code",
   "execution_count": null,
   "id": "09071355-fdf0-4236-a0f1-e74107c76483",
   "metadata": {
    "tags": []
   },
   "outputs": [],
   "source": [
    "%run 200-omics_helper_functions.ipynb"
   ]
  },
  {
   "cell_type": "markdown",
   "id": "0175894a-469c-4733-9ec5-29ed2c3fff3e",
   "metadata": {},
   "source": [
    "Import libraries"
   ]
  },
  {
   "cell_type": "code",
   "execution_count": null,
   "id": "788ade24",
   "metadata": {
    "tags": []
   },
   "outputs": [],
   "source": [
    "import boto3\n",
    "from urllib.parse import urlparse"
   ]
  },
  {
   "cell_type": "markdown",
   "id": "b878b01a",
   "metadata": {},
   "source": [
    "## Create a service IAM role\n",
    "To use Amazon Omics, you need to create an IAM role that grants the Omics service permissions to access resources in your account. We'll do this below using the IAM client.\n",
    "\n",
    "> **Note**: this step is fully automated from the Omics Workflows Console when you create a run"
   ]
  },
  {
   "cell_type": "code",
   "execution_count": null,
   "id": "d5a7b7ac",
   "metadata": {
    "tags": []
   },
   "outputs": [],
   "source": [
    "omics_role_name = 'omics-r2r-tutorial-service-role'\n",
    "omics_role_trust_policy =  {\n",
    "        \"Version\": \"2012-10-17\",\n",
    "        \"Statement\": [{\n",
    "            \"Principal\": {\n",
    "                \"Service\": \"omics.amazonaws.com\"\n",
    "            },\n",
    "            \"Effect\": \"Allow\",\n",
    "            \"Action\": \"sts:AssumeRole\"\n",
    "        }]\n",
    "    }\n",
    "\n",
    "# delete role (if it exists) and create a new one\n",
    "omics_role = omics_helper_recreate_role(omics_role_name, omics_role_trust_policy)"
   ]
  },
  {
   "cell_type": "code",
   "execution_count": null,
   "id": "4af5c76c-92b9-4fee-8f0b-d95d93439210",
   "metadata": {
    "tags": []
   },
   "outputs": [],
   "source": [
    "omics_role"
   ]
  },
  {
   "cell_type": "markdown",
   "id": "ee9b0e33",
   "metadata": {},
   "source": [
    "After creating the role, we next need to add policies to grant permissions. In this case, we are allowing read/write access to all S3 buckets in the account. This is fine for this tutorial, but in a real world setting you will want to scope this down to only the necessary resources. We are also adding a permissions to create CloudWatch Logs which is where any outputs sent to `STDOUT` or `STDERR` are collected."
   ]
  },
  {
   "cell_type": "code",
   "execution_count": null,
   "id": "fccbdeec",
   "metadata": {
    "tags": []
   },
   "outputs": [],
   "source": [
    "s3_policy_name = f\"omics-r2r-tutorial-s3-access-policy\"\n",
    "s3_policy_permissions = {\n",
    "        \"Version\": \"2012-10-17\",\n",
    "        \"Statement\": [\n",
    "            {\n",
    "                \"Effect\": \"Allow\",\n",
    "                \"Action\": [\n",
    "                    \"s3:PutObject\",\n",
    "                    \"s3:Get*\",\n",
    "                    \"s3:List*\",\n",
    "                ],\n",
    "                \"Resource\": [\n",
    "                    \"arn:aws:s3:::*/*\"\n",
    "                ]\n",
    "            }\n",
    "        ]\n",
    "    }\n",
    "\n",
    "AWS_ACCOUNT_ID = boto3.client('sts').get_caller_identity()['Account']\n",
    "\n",
    "logs_policy_name = f\"omics-r2r-tutorial-logs-access-policy\"\n",
    "logs_policy_permissions = {\n",
    "        \"Version\": \"2012-10-17\",\n",
    "        \"Statement\": [\n",
    "            {\n",
    "                \"Effect\": \"Allow\",\n",
    "                \"Action\": [\n",
    "                    \"logs:CreateLogGroup\"\n",
    "                ],\n",
    "                \"Resource\": [\n",
    "                    f\"arn:aws:logs:*:{AWS_ACCOUNT_ID}:log-group:/aws/omics/WorkflowLog:*\"\n",
    "                ]\n",
    "            },\n",
    "            {\n",
    "                \"Effect\": \"Allow\",\n",
    "                \"Action\": [\n",
    "                    \"logs:DescribeLogStreams\",\n",
    "                    \"logs:CreateLogStream\",\n",
    "                    \"logs:PutLogEvents\",\n",
    "                ],\n",
    "                \"Resource\": [\n",
    "                    f\"arn:aws:logs:*:{AWS_ACCOUNT_ID}:log-group:/aws/omics/WorkflowLog:log-stream:*\"\n",
    "                ]\n",
    "            }\n",
    "        ]\n",
    "    }\n",
    "\n",
    "s3_policy = omics_helper_recreate_policy(s3_policy_name, s3_policy_permissions)\n",
    "logs_policy = omics_helper_recreate_policy(logs_policy_name, logs_policy_permissions)\n",
    "\n",
    "# attach policies to role\n",
    "iam_client = boto3.client(\"iam\")\n",
    "iam_client.attach_role_policy(RoleName=omics_role['Role']['RoleName'], PolicyArn=s3_policy['Policy']['Arn'])\n",
    "iam_client.attach_role_policy(RoleName=omics_role['Role']['RoleName'], PolicyArn=logs_policy['Policy']['Arn'])"
   ]
  },
  {
   "cell_type": "markdown",
   "id": "a1db3648",
   "metadata": {},
   "source": [
    "## Selecting the StarSolo workflow"
   ]
  },
  {
   "cell_type": "code",
   "execution_count": null,
   "id": "a176e697-8ee9-4f92-81ae-c2de4a827f61",
   "metadata": {
    "tags": []
   },
   "outputs": [],
   "source": [
    "omics_client = boto3.client('omics')\n",
    "\n",
    "r2r_workflows = omics_client.list_workflows(type=\"READY2RUN\")\n",
    "r2r_workflows_items = r2r_workflows['items']\n",
    "\n",
    "workflow = [r2r_workflow_item for r2r_workflow_item in r2r_workflows_items if r2r_workflow_item[\"id\"] == \"2174942\" ][0]\n",
    "omics_helper_pretty_print(workflow)"
   ]
  },
  {
   "cell_type": "markdown",
   "id": "d23207af-90a4-4b97-b1c1-04a3a7cbdd14",
   "metadata": {},
   "source": [
    "We get the full details of the specific workflow, in order to examine its parameter template."
   ]
  },
  {
   "cell_type": "code",
   "execution_count": null,
   "id": "11fa14f5-82d4-4790-859e-683d7acce796",
   "metadata": {
    "tags": []
   },
   "outputs": [],
   "source": [
    "workflow_details_parameterTemplate = omics_client.get_workflow(id=workflow['id'], type=\"READY2RUN\")['parameterTemplate']\n",
    "omics_helper_pretty_print(workflow_details_parameterTemplate)"
   ]
  },
  {
   "cell_type": "markdown",
   "id": "35661270-b333-4a3e-b9cd-05443674111b",
   "metadata": {},
   "source": [
    "The specific workflow has three parameters, the description of which is shown in the output.<br>\n",
    "We can now run the workflow, as any other workflow through the Amazon Omics."
   ]
  },
  {
   "cell_type": "markdown",
   "id": "0eb3a3e8-f922-4788-afe7-d5c0fa5d8518",
   "metadata": {},
   "source": [
    "## Executing the StarSolo workflow\n",
    "Prior to run execution, we get the current region, in which this notebook is operating. <br>\n",
    "We will use region name to compose the regional S3 bucket that holds input test data for the specific workflow."
   ]
  },
  {
   "cell_type": "code",
   "execution_count": null,
   "id": "90dcc958-669f-4235-beb7-3eb7e2970972",
   "metadata": {
    "tags": []
   },
   "outputs": [],
   "source": [
    "region_name = boto3.Session().region_name\n",
    "print(region_name)"
   ]
  },
  {
   "cell_type": "markdown",
   "id": "577a6b7f-6af0-4480-8b80-2f4ed6feb209",
   "metadata": {},
   "source": [
    "Before executing the next cell you'll need to create an s3 bucket in the `us-west-2` region and update the `output_uri` variable below to point to it."
   ]
  },
  {
   "cell_type": "code",
   "execution_count": null,
   "id": "2df6865b",
   "metadata": {
    "tags": []
   },
   "outputs": [],
   "source": [
    "sample_name = \"20k_NSCLC_DTC\"\n",
    "input_fastq1_path_uri = f\"s3://omics-{region_name}/sample-inputs/2174942/20k_NSCLC_DTC_3p_nextgem_gex_S4_L001_R1_001.fastq.gz\"\n",
    "input_fastq2_path_uri = f\"s3://omics-{region_name}/sample-inputs/2174942/20k_NSCLC_DTC_3p_nextgem_gex_S4_L001_R2_001.fastq.gz\"\n",
    "protocol = \"10XV3\"\n",
    "\n",
    "output_uri = \"s3://sgh-ready2runtestoutput/run_results\"\n",
    "\n",
    "run = omics_client.start_run(\n",
    "    workflowId=workflow['id'],\n",
    "    workflowType='READY2RUN',\n",
    "    name=\"2174942 R2R workflow run\",\n",
    "    roleArn=omics_role['Role']['Arn'],\n",
    "    parameters={\n",
    "        \"samplename\": sample_name,\n",
    "        \"input\": [{'fastq_1': input_fastq1_path_uri,\n",
    "                    'fastq_2': input_fastq2_path_uri}],\n",
    "        \"protocol\": protocol\n",
    "    },\n",
    "    outputUri=output_uri,\n",
    ")\n",
    "\n",
    "print(f\"running workflow {workflow['id']}, starting run {run['id']}\")"
   ]
  },
  {
   "cell_type": "code",
   "execution_count": null,
   "id": "240fc452",
   "metadata": {
    "tags": []
   },
   "outputs": [],
   "source": [
    "try:\n",
    "    waiter = omics_client.get_waiter('run_running')\n",
    "    waiter.wait(id=run['id'], WaiterConfig={'Delay': 30, 'MaxAttempts': 60})\n",
    "\n",
    "    print(f\"run {run['id']} is running\")\n",
    "\n",
    "    waiter = omics_client.get_waiter('run_completed')\n",
    "    waiter.wait(id=run['id'], WaiterConfig={'Delay': 60, 'MaxAttempts': 60*2})\n",
    "\n",
    "    print(f\"run {run['id']} completed\")\n",
    "except botocore.exceptions.WaiterError as e:\n",
    "    print(e)"
   ]
  },
  {
   "cell_type": "markdown",
   "id": "6b888cf2",
   "metadata": {},
   "source": [
    "Once the run completes we can verify its status by getting its details:"
   ]
  },
  {
   "cell_type": "code",
   "execution_count": null,
   "id": "1aaa3b99",
   "metadata": {
    "tags": []
   },
   "outputs": [],
   "source": [
    "omics_helper_pretty_print(omics_client.get_run(id=run['id']))"
   ]
  },
  {
   "cell_type": "markdown",
   "id": "fc4ba10a",
   "metadata": {},
   "source": [
    "## Validating output of the workflow\n",
    "We can verify that the correct output was generated by listing the `outputUri` for the workflow run:"
   ]
  },
  {
   "cell_type": "code",
   "execution_count": null,
   "id": "0d813f10",
   "metadata": {
    "tags": []
   },
   "outputs": [],
   "source": [
    "s3uri = urlparse(omics_client.get_run(id=run['id'])['outputUri'])\n",
    "boto3.client('s3').list_objects_v2(Bucket=s3uri.netloc,\n",
    "                                   Prefix='/'.join([s3uri.path[1:], run['id']]))['Contents']"
   ]
  },
  {
   "cell_type": "markdown",
   "id": "45a4eecf",
   "metadata": {},
   "source": [
    "Like standard workflows, R2R workflows support all the features of the Amazon Omics Platform. <br>\n",
    "As such, tasks, logs and run groups are fully supported. Here, we showcase how to get list of tasks and corresponding log streams."
   ]
  },
  {
   "cell_type": "code",
   "execution_count": null,
   "id": "adfa890f",
   "metadata": {
    "tags": []
   },
   "outputs": [],
   "source": [
    "tasks = omics_client.list_run_tasks(id=run['id'])\n",
    "omics_helper_pretty_print(tasks['items'])"
   ]
  },
  {
   "cell_type": "markdown",
   "id": "85a436fb",
   "metadata": {},
   "source": [
    "and get specific task details with:"
   ]
  },
  {
   "cell_type": "code",
   "execution_count": null,
   "id": "8abe0bbf",
   "metadata": {
    "tags": []
   },
   "outputs": [],
   "source": [
    "task = omics_client.get_run_task(id=run['id'], taskId=tasks['items'][0]['taskId'])\n",
    "omics_helper_pretty_print(task)"
   ]
  },
  {
   "cell_type": "markdown",
   "id": "ad0ff9b3",
   "metadata": {},
   "source": [
    "After running the cell above we should see that each task has an associated CloudWatch Logs LogStream. These capture any text generated by the workflow task that has been sent to either `STDOUT` or `STDERR`. These outputs are helpful for debugging any task failures and can be retrieved with:"
   ]
  },
  {
   "cell_type": "code",
   "execution_count": null,
   "id": "e7ba6e85",
   "metadata": {
    "tags": []
   },
   "outputs": [],
   "source": [
    "events = boto3.client('logs').get_log_events(\n",
    "    logGroupName=\"/aws/omics/WorkflowLog\",\n",
    "    logStreamName=f\"run/{run['id']}/task/{task['taskId']}\"\n",
    ")\n",
    "for event in events['events']:\n",
    "    print(event['message'])"
   ]
  },
  {
   "cell_type": "markdown",
   "id": "e666c096",
   "metadata": {},
   "source": [
    "Functionality of Run Groups is not presented here, since it is identical to those in the workflows notebook tutorial"
   ]
  }
 ],
 "metadata": {
  "kernelspec": {
   "display_name": "conda_python3",
   "language": "python",
   "name": "conda_python3"
  },
  "language_info": {
   "codemirror_mode": {
    "name": "ipython",
    "version": 3
   },
   "file_extension": ".py",
   "mimetype": "text/x-python",
   "name": "python",
   "nbconvert_exporter": "python",
   "pygments_lexer": "ipython3",
   "version": "3.10.14"
  },
  "vscode": {
   "interpreter": {
    "hash": "31f2aee4e71d21fbe5cf8b01ff0e069b9275f58929596ceb00d14d90e3e16cd6"
   }
  }
 },
 "nbformat": 4,
 "nbformat_minor": 5
}
