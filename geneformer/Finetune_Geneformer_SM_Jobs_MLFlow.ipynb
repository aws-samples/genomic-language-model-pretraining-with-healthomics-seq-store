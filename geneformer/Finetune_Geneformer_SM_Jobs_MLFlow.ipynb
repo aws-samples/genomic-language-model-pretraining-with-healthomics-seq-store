{
 "cells": [
  {
   "cell_type": "markdown",
   "id": "c8dae519-ea14-40a6-9656-c8239a8efa72",
   "metadata": {},
   "source": [
    "# Fine Tune and Benchmark Geneformer (Single cell RNA-Seq foundation model) For Cell Type/Cell State Classification"
   ]
  },
  {
   "cell_type": "markdown",
   "id": "8fd26c05-794e-4326-8c63-9d86a10bf105",
   "metadata": {},
   "source": [
    "# 0. Import Dependencies\n"
   ]
  },
  {
   "cell_type": "code",
   "execution_count": null,
   "id": "1580651d-bda4-413c-89aa-eda4582f785a",
   "metadata": {
    "tags": []
   },
   "outputs": [],
   "source": [
    "%pip install --disable-pip-version-check -q -U 'boto3==1.35.16' 'sagemaker==2.231.0' 'mlflow==2.13.2' 'sagemaker-mlflow==0.1.0'"
   ]
  },
  {
   "cell_type": "code",
   "execution_count": null,
   "id": "d286ce9f-cdab-4f76-92e5-455f12f1ed56",
   "metadata": {
    "tags": []
   },
   "outputs": [],
   "source": [
    "import os\n",
    "from time import gmtime, strftime\n",
    "\n",
    "import sagemaker\n",
    "import boto3\n",
    "import mlflow\n",
    "from sagemaker.processing import (\n",
    "    FrameworkProcessor, ScriptProcessor,\n",
    "    ProcessingInput, ProcessingOutput\n",
    ")\n",
    "from sagemaker.sklearn.estimator import SKLearn\n",
    "from sagemaker.sklearn.processing import SKLearnProcessor\n",
    "from sagemaker.experiments.run import Run\n",
    "from sagemaker.inputs import TrainingInput\n",
    "from sagemaker.pytorch import PyTorch\n",
    "from sagemaker.tuner import (\n",
    "    CategoricalParameter,\n",
    "    ContinuousParameter,\n",
    "    HyperparameterTuner,\n",
    "    IntegerParameter,\n",
    "    HyperbandStrategyConfig,\n",
    "    StrategyConfig\n",
    ")\n",
    "from sagemaker.sklearn.model import SKLearnModel\n",
    "from sagemaker.deserializers import CSVDeserializer\n",
    "from sagemaker.serializers import CSVSerializer\n",
    "from IPython.core.display import display, HTML"
   ]
  },
  {
   "cell_type": "markdown",
   "id": "1d416c2b-8143-49a5-9f5c-a657e665a111",
   "metadata": {},
   "source": [
    "# 1. Preparations"
   ]
  },
  {
   "cell_type": "markdown",
   "id": "f19b81cf-898e-4ef5-98db-f6338300906f",
   "metadata": {},
   "source": [
    "## 1.1 Create Some Necessary Clients"
   ]
  },
  {
   "cell_type": "code",
   "execution_count": null,
   "id": "9f05feca-3c80-40c3-bafd-6d8cbd0548a8",
   "metadata": {
    "tags": []
   },
   "outputs": [],
   "source": [
    "boto_session = boto3.session.Session()\n",
    "region = boto_session.region_name\n",
    "sagemaker_session = sagemaker.session.Session(boto_session)\n",
    "sagemaker_execution_role = sagemaker.session.get_execution_role(sagemaker_session)\n",
    "sagemaker_boto_client = boto_session.client(\"sagemaker\")\n",
    "s3_boto_client = boto_session.client(\"s3\")\n",
    "account_id = boto_session.client(\"sts\").get_caller_identity().get(\"Account\")\n",
    "print(f\"Assumed SageMaker role is {sagemaker_execution_role}\")"
   ]
  },
  {
   "cell_type": "markdown",
   "id": "d02069c8-c62f-4e24-9ace-20f9f574c51e",
   "metadata": {
    "tags": []
   },
   "source": [
    "## 1.2. Specify S3 Bucket and Prefix"
   ]
  },
  {
   "cell_type": "code",
   "execution_count": null,
   "id": "1485a4c7-2a5d-499b-b58e-b625316b858f",
   "metadata": {
    "tags": []
   },
   "outputs": [],
   "source": [
    "S3_BUCKET = sagemaker_session.default_bucket()\n",
    "S3_PREFIX = \"scrnaseq-fm-finetune\"\n",
    "S3_PATH = sagemaker.s3.s3_path_join(S3_BUCKET, S3_PREFIX)\n",
    "print(f\"S3 path is {S3_PATH}\")"
   ]
  },
  {
   "cell_type": "markdown",
   "id": "561c0e2e-8fc7-45da-a3af-0caead6268d7",
   "metadata": {},
   "source": [
    "# 2. Data Preparation with Amazon SageMaker Processing\n"
   ]
  },
  {
   "cell_type": "markdown",
   "id": "93454500",
   "metadata": {},
   "source": [
    "Here we download an example 10x scRNA-Seq dataset, and add cell type annotation using marker gene expression as the ground truth for our classification task."
   ]
  },
  {
   "cell_type": "markdown",
   "id": "3240dc80-5ddf-4044-bc71-6e17f3f9c066",
   "metadata": {},
   "source": [
    "## 2.1. Define parameters of the SageMaker Processing Job"
   ]
  },
  {
   "cell_type": "code",
   "execution_count": null,
   "id": "c9a0c69f-1221-4411-a3df-607569526ccd",
   "metadata": {
    "tags": []
   },
   "outputs": [],
   "source": [
    "processing_job_name = \"sc-preprocess-hao2021\"\n",
    "print(\"Preparing and splitting scRNASeq dataset and saving adata\", processing_job_name)\n",
    "\n",
    "sklearn_processor = SKLearnProcessor(\n",
    "    framework_version=\"1.2-1\",\n",
    "    role=sagemaker_execution_role,\n",
    "    instance_type=\"ml.m5.4xlarge\",\n",
    "    volume_size_in_gb=20,\n",
    "    instance_count=1,\n",
    "    base_job_name=processing_job_name\n",
    ")\n",
    "\n",
    "# Run processor \n",
    "sklearn_processor.run(\n",
    "    inputs=[\n",
    "            ProcessingInput(\n",
    "                input_name=\"requirements\",\n",
    "                source=\"scripts/processing/processing_requirements.txt\",\n",
    "                destination=\"/opt/ml/processing/input/requirements/\",\n",
    "            )\n",
    "    ],\n",
    "    outputs=[\n",
    "        ProcessingOutput(\n",
    "            output_name=\"class_labels\",\n",
    "            source=\"/opt/ml/processing/h5ad_data/class_labels\",\n",
    "            destination=os.path.join(\n",
    "                    \"s3://{}\".format(S3_BUCKET),\n",
    "                    S3_PREFIX,\n",
    "                    processing_job_name,\n",
    "                    \"class_labels\",\n",
    "            ),\n",
    "        ),\n",
    "        ProcessingOutput(\n",
    "            output_name=\"train\",\n",
    "            source=\"/opt/ml/processing/h5ad_data/train\",\n",
    "            destination=os.path.join(\n",
    "                    \"s3://{}\".format(S3_BUCKET),\n",
    "                    S3_PREFIX,\n",
    "                    processing_job_name,\n",
    "                    \"train\",\n",
    "            ),\n",
    "        ),\n",
    "        ProcessingOutput(\n",
    "            output_name=\"validation\",\n",
    "            source=\"/opt/ml/processing/h5ad_data/val\",\n",
    "            destination=os.path.join(\n",
    "                    \"s3://{}\".format(S3_BUCKET),\n",
    "                    S3_PREFIX,\n",
    "                    processing_job_name,\n",
    "                    \"validation\",\n",
    "            ),\n",
    "        ),\n",
    "        ProcessingOutput(\n",
    "            output_name=\"test\",\n",
    "            source=\"/opt/ml/processing/h5ad_data/test\",\n",
    "            destination=os.path.join(\n",
    "                    \"s3://{}\".format(S3_BUCKET),\n",
    "                    S3_PREFIX,\n",
    "                    processing_job_name,\n",
    "                    \"test\",\n",
    "            ),\n",
    "        ),\n",
    "    ],\n",
    "    code=\"scripts/processing/process_10xpbmc3k.py\",\n",
    "    arguments=[\"--train_size\", \"0.8\", \"--split_by_group\"]\n",
    ")"
   ]
  },
  {
   "cell_type": "markdown",
   "id": "18ff6287-19d9-43d3-a542-31a992efa10f",
   "metadata": {},
   "source": [
    "# 3. ML training with SageMaker Training Jobs"
   ]
  },
  {
   "cell_type": "markdown",
   "id": "74dfa8ac-fba2-4b16-ae75-c4cc0cd0375c",
   "metadata": {},
   "source": [
    "## 3.1. Using MLflow to track model training experiments\n",
    "Create an MLflow tracking server in SageMaker Studio. Copy the tracking server ARN to the variable `tracking_server_arn` below.\n",
    "\n",
    "Update the SageMaker service role to have the following policy to enable ML flow tracking:\n",
    "\n",
    "```\n",
    "{\n",
    "    \"Version\": \"2012-10-17\",    \n",
    "    \"Statement\": [        \n",
    "        {            \n",
    "            \"Effect\": \"Allow\",            \n",
    "            \"Action\": [\n",
    "                \"sagemaker-mlflow:*\",\n",
    "                \"sagemaker:CreateMlflowTrackingServer\",\n",
    "                \"sagemaker:UpdateMlflowTrackingServer\",\n",
    "                \"sagemaker:DeleteMlflowTrackingServer\",\n",
    "                \"sagemaker:StartMlflowTrackingServer\",\n",
    "                \"sagemaker:StopMlflowTrackingServer\",\n",
    "                \"sagemaker:CreatePresignedMlflowTrackingServerUrl\"\n",
    "            ],            \n",
    "            \"Resource\": \"*\"        \n",
    "        }        \n",
    "    ]\n",
    "}\n",
    "```"
   ]
  },
  {
   "cell_type": "code",
   "execution_count": null,
   "id": "65987244-4411-4f30-8763-cab6a8bc46bd",
   "metadata": {
    "tags": []
   },
   "outputs": [],
   "source": [
    "tracking_server_arn = <YOUR TRACKING SERVER ARN>"
   ]
  },
  {
   "cell_type": "markdown",
   "id": "401f6487-ce5e-4252-a11d-bda20093fe8d",
   "metadata": {},
   "source": [
    "## 3.2. Train a Logistic Regression model using normalized counts as the Baseline "
   ]
  },
  {
   "cell_type": "markdown",
   "id": "d3d39760",
   "metadata": {},
   "source": [
    "For comparing model performance, it is always good to have a simple baseline. We will use a simple logistic regression model, taking as input the normalized expression counts to predict cell type as the baseline."
   ]
  },
  {
   "cell_type": "markdown",
   "id": "6ef2277e-0d91-4f3e-9bf3-d12c1c68ca47",
   "metadata": {},
   "source": [
    "### 3.2.1 Define and fit a SKLearn estimator, logging the run to an MLFlow experiment"
   ]
  },
  {
   "cell_type": "code",
   "execution_count": null,
   "id": "628db0e1-e452-4cf6-99a3-f4944ef1ea43",
   "metadata": {
    "tags": []
   },
   "outputs": [],
   "source": [
    "lr_job_name = f\"baseline-LR\"\n",
    "model_output_path = f\"s3://{S3_BUCKET}/{S3_PREFIX}/trained_models/\"\n",
    "experiment_name = \"scRNASeq-baseline\"\n",
    "# Uncomment for setting up MLflow exp\n",
    "mlflow.set_tracking_uri(tracking_server_arn)\n",
    "experiment = mlflow.set_experiment(experiment_name)\n",
    "\n",
    "dataset_name = \"pbmc3k\"\n",
    "processing_job_name = \"sc-preprocess-hao2021\"\n",
    "\n",
    "lr_estimator = SKLearn(\n",
    "    base_job_name=lr_job_name,\n",
    "    enable_sagemaker_metrics=True,\n",
    "    entry_point=\"baseline_lr_train_mlflow.py\",\n",
    "    framework_version=\"1.2-1\",\n",
    "    hyperparameters={\n",
    "        'penalty': 'l2',\n",
    "        'class_weight': 'balanced',\n",
    "        'max_iter': 1000,\n",
    "        'solver': 'saga', \n",
    "        'dataset_name': dataset_name\n",
    "    },\n",
    "    instance_count=1,\n",
    "    instance_type=\"ml.c5.4xlarge\",\n",
    "    output_path=model_output_path,\n",
    "    role=sagemaker_execution_role,\n",
    "    sagemaker_session=sagemaker_session,\n",
    "    source_dir=\"scripts/training/lr/\",\n",
    "    environment={\n",
    "        \"MLFLOW_TRACKING_URI\": tracking_server_arn,\n",
    "        \"MLFLOW_EXPERIMENT_NAME\": experiment.name\n",
    "    }\n",
    ")\n",
    "\n",
    "train_s3_url      = f\"s3://{S3_BUCKET}/{S3_PREFIX}/{processing_job_name}/train/{dataset_name}_train.h5ad\"\n",
    "validation_s3_url = f\"s3://{S3_BUCKET}/{S3_PREFIX}/{processing_job_name}/validation/{dataset_name}_val.h5ad\"\n",
    "test_s3_url       = f\"s3://{S3_BUCKET}/{S3_PREFIX}/{processing_job_name}/test/{dataset_name}_test.h5ad\"\n",
    "labels_s3_url     = f\"s3://{S3_BUCKET}/{S3_PREFIX}/{processing_job_name}/class_labels/{dataset_name}_celltype_labels.pkl\"\n",
    "\n",
    "print(f\"train s3 URL: {train_s3_url}\")\n",
    "print(f\"validation s3 URL: {validation_s3_url}\")\n",
    "print(f\"test s3 URL: {test_s3_url}\")\n",
    "print(f\"labels s3 URL: {labels_s3_url}\")\n",
    "\n",
    "lr_estimator.fit(\n",
    "    {'train': train_s3_url,\n",
    "     'validation': validation_s3_url,\n",
    "    'test': test_s3_url,\n",
    "    'labels': labels_s3_url},\n",
    ")"
   ]
  },
  {
   "cell_type": "markdown",
   "id": "72246c15-cc82-4ac3-99aa-c979a18585ca",
   "metadata": {},
   "source": [
    "## 3.3. Fine tune Geneformer scRNA-Seq FM"
   ]
  },
  {
   "cell_type": "markdown",
   "id": "8578b5ce",
   "metadata": {},
   "source": [
    "As mentioned in the Introduction, Geneformer is a foundational transformer model pretrained on a large-scale corpus of single cell transcriptomes to enable context-aware predictions in settings with limited data in network biology.\n",
    "The pretrained model outputs dense vector embeddings of cells. We can fine tune it with a labeled dataset to perform cell type classification."
   ]
  },
  {
   "cell_type": "markdown",
   "id": "5db79a32",
   "metadata": {},
   "source": [
    "### 3.3.1. Pre-requisite\n",
    "\n",
    "Build a docker image using the docker file in `scripts/Dockerfile` and push to your ECR repo. For example (if you are in the repo base directory) you could do something like:\n",
    "\n",
    "```\n",
    "cd geneformer/scripts\n",
    "docker build -t geneformerft .\n",
    "# These instructions are from the ECR repository web console:\n",
    "aws ecr get-login-password --region us-west-2 | docker login --username AWS --password-stdin <YOUR AWS ACCOUNT ID>\n",
    "docker tag geneformerft:latest <YOUR AWS ACCOUNT ID>/geneformerft:latest\n",
    "docker push <YOUR AWS ACCOUNT ID>/geneformerft:latest\n",
    "```\n",
    "\n",
    "Finally, copy the image uri below: "
   ]
  },
  {
   "cell_type": "code",
   "execution_count": null,
   "id": "236114de-9e1b-4470-bd29-30acd3a09397",
   "metadata": {
    "tags": []
   },
   "outputs": [],
   "source": [
    "training_img_uri = \"<YOUR AWS ACCOUNT ID>/geneformerft:latest\""
   ]
  },
  {
   "cell_type": "markdown",
   "id": "89bb9552-f315-4a62-933d-5e97b0130278",
   "metadata": {},
   "source": [
    "### 3.3.2 Define a Pytorch estimator with custom image, fit and track metrics"
   ]
  },
  {
   "cell_type": "code",
   "execution_count": null,
   "id": "25fdf217-3b69-40bb-a560-8ddda3d0fc60",
   "metadata": {
    "tags": []
   },
   "outputs": [],
   "source": [
    "processing_job_name = \"sc-preprocess\""
   ]
  },
  {
   "cell_type": "code",
   "execution_count": null,
   "id": "c216c238-3049-4449-a268-a4c074330305",
   "metadata": {
    "tags": []
   },
   "outputs": [],
   "source": [
    "if not processing_job_name.endswith(\"-hao2021\"):\n",
    "    processing_job_name = processing_job_name + \"-hao2021\""
   ]
  },
  {
   "cell_type": "code",
   "execution_count": null,
   "id": "2f892a06-e7eb-4de7-aa03-6b976725fb72",
   "metadata": {
    "tags": []
   },
   "outputs": [],
   "source": [
    "S3_BUCKET, S3_PREFIX, processing_job_name"
   ]
  },
  {
   "cell_type": "code",
   "execution_count": null,
   "id": "6b5fa355-c96a-4928-915a-dc15186d7410",
   "metadata": {
    "tags": []
   },
   "outputs": [],
   "source": [
    "model_output_path = f\"s3://{S3_BUCKET}/{S3_PREFIX}/trained_models/\"\n",
    "gf_training_job_name = 'geneformer-ft-testmlflow'\n",
    "# Additional training parameters\n",
    "hyperparameters = {\n",
    "    'model_name': 'gf-12L-30M-i2048',\n",
    "    'max_lr': 5e-05,\n",
    "    'freeze_layers': 6,\n",
    "    'num_gpus': 1,\n",
    "    'num_proc': 16,\n",
    "    'geneformer_batch_size': 20,\n",
    "    'lr_schedule_fn': 'linear',\n",
    "    'warmup_steps': 200,\n",
    "    'epochs': 10,\n",
    "    'optimizer': 'adamw'\n",
    "}\n",
    "\n",
    "# Set up MLflow tracking\n",
    "experiment_name = \"scRNASeq-fm\"\n",
    "mlflow.set_tracking_uri(tracking_server_arn)\n",
    "experiment = mlflow.set_experiment(experiment_name)\n",
    "\n",
    "# Create PyTorch estimator\n",
    "geneformer_estimator = PyTorch(\n",
    "    base_job_name=gf_training_job_name,\n",
    "    entry_point=\"ft_geneformer_mlflow.py\",\n",
    "    source_dir=\"scripts/training/geneformer\",\n",
    "    output_path=model_output_path,\n",
    "    instance_type=\"ml.g4dn.4xlarge\",\n",
    "    instance_count=1,\n",
    "    image_uri=training_img_uri,\n",
    "    role=sagemaker_execution_role,\n",
    "    hyperparameters=hyperparameters,\n",
    "    sagemaker_session=sagemaker_session,\n",
    "    tags=[{\"Key\": \"project\", \"Value\": \"scrnaseq-fm-finetune\"}],\n",
    "    environment={\n",
    "        \"MLFLOW_TRACKING_URI\": tracking_server_arn,\n",
    "        \"MLFLOW_EXPERIMENT_NAME\": experiment.name,\n",
    "    }\n",
    ")\n",
    "\n",
    "\n",
    "base_prefix = \"pbmc3k\"\n",
    "train_s3_url = f\"s3://{S3_BUCKET}/{S3_PREFIX}/{processing_job_name}/train/{base_prefix}_train.h5ad\"\n",
    "test_s3_url = f\"s3://{S3_BUCKET}/{S3_PREFIX}/{processing_job_name}/test/{base_prefix}_test.h5ad\"\n",
    "labels_s3_url = f\"s3://{S3_BUCKET}/{S3_PREFIX}/{processing_job_name}/class_labels/{base_prefix}_celltype_labels.pkl\"\n",
    "\n",
    "print(f\"train S3 URL:  {train_s3_url}\")\n",
    "print(f\"test S3 URL:   {test_s3_url}\")\n",
    "print(f\"labels S3 URL: {labels_s3_url}\")\n",
    "\n",
    "geneformer_estimator.fit({\n",
    "    'train': train_s3_url,\n",
    "    'test': test_s3_url,\n",
    "    'labels': labels_s3_url\n",
    "})"
   ]
  },
  {
   "cell_type": "markdown",
   "id": "3ce51cf5-bde6-4811-b78f-d9d7de466d59",
   "metadata": {
    "tags": []
   },
   "source": [
    "### 3.3.3. Display experiment and run metrics logged by mlflow"
   ]
  },
  {
   "cell_type": "code",
   "execution_count": null,
   "id": "7d54d22a-5467-41ef-b586-2b07174e863d",
   "metadata": {
    "tags": []
   },
   "outputs": [],
   "source": [
    "mlflow.set_tracking_uri(tracking_server_arn)\n",
    "runs = mlflow.search_runs(\n",
    "    experiment_names=[\"scRNASeq-baseline\", \"scRNASeq-fm\"],\n",
    "    filter_string=\"attributes.status='FINISHED' and tags.mlflow.user='root'\",\n",
    "    max_results=3, \n",
    ")\n",
    "display(runs)"
   ]
  },
  {
   "cell_type": "code",
   "execution_count": null,
   "id": "7c7d096b-d5ce-48c7-b984-48a5101ef5e9",
   "metadata": {
    "tags": []
   },
   "outputs": [],
   "source": [
    "runs[['run_id', 'experiment_id']+[c for c in runs.columns if 'metrics.eval' in c]].sort_values('experiment_id')"
   ]
  },
  {
   "cell_type": "markdown",
   "id": "6b889d7a",
   "metadata": {},
   "source": [
    "### 3.3.4. Compare baseline LR classifier and fine-tuned Geneformer"
   ]
  },
  {
   "cell_type": "code",
   "execution_count": null,
   "id": "dd945c02",
   "metadata": {
    "tags": []
   },
   "outputs": [],
   "source": [
    "display(HTML(\"<table><tr><td><img src='./images/Logistic regression classifier prediction on test set.png', width=400></td><td><img src='./images/Finetuned mdl prediction on test set.png', width=400></td></tr></table>\"))\n"
   ]
  },
  {
   "cell_type": "markdown",
   "id": "d7a94f19-cbc4-41c8-8dde-a99c9e3ad96b",
   "metadata": {},
   "source": [
    "### How to get better performance for FM on celltype classification\n",
    "\n",
    "- Hyperparameter optimization for fine tuning task \n",
    "- Use larger finetuning datasets\n",
    "- Benchmark baseline model and FM on complex datasets for OOD predictions (e.g. batch effects, different donors etc.)"
   ]
  },
  {
   "cell_type": "markdown",
   "id": "f7bb3a1e-92ff-4006-aefc-66d534019d94",
   "metadata": {},
   "source": [
    "### 3.3.4. Hyperparameter optimization for the fine tuning"
   ]
  },
  {
   "cell_type": "code",
   "execution_count": null,
   "id": "64ecbc0b-e5ea-40b4-9544-bdef4cf0f7e9",
   "metadata": {
    "tags": []
   },
   "outputs": [],
   "source": [
    "processing_job_name = \"sc-preprocess-hao2021\"\n",
    "experiment_name = \"scRNASeq-fm-hpo\"\n",
    "mlflow.set_tracking_uri(tracking_server_arn)\n",
    "experiment = mlflow.set_experiment(experiment_name)\n",
    "\n",
    "hyperparameters = {\n",
    "    'model_name': 'gf-12L-30M-i2048',\n",
    "    'max_lr': 5e-05,\n",
    "    'freeze_layers': 6,\n",
    "    'num_gpus': 1,\n",
    "    'num_proc': 16,\n",
    "    'geneformer_batch_size': 20,\n",
    "    'lr_schedule_fn': 'linear',\n",
    "    'warmup_steps': 200,\n",
    "    'epochs': 10,\n",
    "    'optimizer': 'adamw'\n",
    "}\n",
    "metric_definitions = [\n",
    "    {\"Name\": \"loss\", \"Regex\": \"'loss': ([0-9]+(.|e\\-)[0-9]+),?\"},\n",
    "    {\"Name\": \"learning_rate\", \"Regex\": \"'learning_rate': ([0-9]+(.|e\\-)[0-9]+),?\"},\n",
    "    {\"Name\": \"eval_loss\", \"Regex\": \"'eval_loss': ([0-9]+(.|e\\-)[0-9]+),?\"},\n",
    "    {\"Name\": \"eval_accuracy\", \"Regex\": \"'eval_accuracy': ([0-9]+(.|e\\-)[0-9]+),?\"},\n",
    "    {\"Name\": \"eval_f1\", \"Regex\": \"'eval_f1': ([0-9]+(.|e\\-)[0-9]+),?\"},\n",
    "    {\"Name\": \"eval_precision\", \"Regex\": \"'eval_precision': ([0-9]+(.|e\\-)[0-9]+),?\"},\n",
    "    {\"Name\": \"eval_recall\", \"Regex\": \"'eval_recall': ([0-9]+(.|e\\-)[0-9]+),?\"},\n",
    "    {\"Name\": \"eval_runtime\", \"Regex\": \"'eval_runtime': ([0-9]+(.|e\\-)[0-9]+),?\"},\n",
    "    {\n",
    "        \"Name\": \"eval_samples_per_second\",\n",
    "        \"Regex\": \"'eval_samples_per_second': ([0-9]+(.|e\\-)[0-9]+),?\",\n",
    "    },\n",
    "    {\"Name\": \"epoch\", \"Regex\": \"'epoch': ([0-9]+(.|e\\-)[0-9]+),?\"},\n",
    "]\n",
    "geneformer_estimator = PyTorch(\n",
    "    base_job_name=gf_training_job_name,\n",
    "    entry_point=\"ft_geneformer_mlflow.py\",\n",
    "    source_dir=\"scripts/training/geneformer\",\n",
    "    output_path=model_output_path,\n",
    "    instance_type=\"ml.g4dn.4xlarge\", \n",
    "    instance_count=1,\n",
    "    image_uri=training_img_uri,\n",
    "    role=sagemaker_execution_role,\n",
    "    hyperparameters=hyperparameters,\n",
    "    sagemaker_session=sagemaker_session,\n",
    "    tags=[{\"Key\": \"project\", \"Value\": \"scrnaseq-fm-finetune-hpo\"}],\n",
    "    environment={\n",
    "        \"MLFLOW_TRACKING_URI\": tracking_server_arn,\n",
    "        \"MLFLOW_EXPERIMENT_NAME\": experiment.name,\n",
    "    },\n",
    "    metric_definitions=metric_definitions\n",
    ")\n",
    "\n",
    "hyperparameter_ranges = {\n",
    "    \"max_lr\": ContinuousParameter(1e-05, 1e-3, 'Logarithmic'),\n",
    "    \"freeze_layers\": CategoricalParameter([2, 8, 12]),\n",
    "    \"epochs\": CategoricalParameter([10, 15])\n",
    "}\n",
    "\n",
    "objective_metric_name = \"loss\"\n",
    "objective_type = \"Minimize\"\n",
    "metric_definitions = [{\"Name\": \"loss\", \"Regex\": \"'loss': ([0-9]+(.|e\\-)[0-9]+),?\"}]\n",
    "hsc = HyperbandStrategyConfig(max_resource=30, min_resource=1)\n",
    "sc = StrategyConfig(hyperband_strategy_config=hsc)\n",
    "\n",
    "with mlflow.start_run(run_name=sagemaker.utils.name_from_base(\"HPO\")) as run:\n",
    "    tuner = HyperparameterTuner(\n",
    "        geneformer_estimator,\n",
    "        objective_metric_name,\n",
    "        hyperparameter_ranges,\n",
    "        metric_definitions,\n",
    "        max_jobs=36,\n",
    "        max_parallel_jobs=6,\n",
    "        objective_type=objective_type,\n",
    "        strategy='Hyperband',\n",
    "        strategy_config=sc,\n",
    "        early_stopping_type='Off' # set to 'Off' to use hyperband internal early stopping\n",
    "    )\n",
    "    tuner.fit({'train': f\"s3://{S3_BUCKET}/{S3_PREFIX}/{processing_job_name}/train/pbmc3k_train.h5ad\",\n",
    "               'test': f\"s3://{S3_BUCKET}/{S3_PREFIX}/{processing_job_name}/test/pbmc3k_test.h5ad\",\n",
    "               'labels': f\"s3://{S3_BUCKET}/{S3_PREFIX}/{processing_job_name}/class_labels/pbmc3k_celltype_labels.pkl\"})"
   ]
  },
  {
   "cell_type": "code",
   "execution_count": null,
   "id": "595be0d3-e8f9-4706-9555-c71105032e6c",
   "metadata": {
    "tags": []
   },
   "outputs": [],
   "source": [
    "tuning_job_name = \"geneformerft-241013-1800\" # copied from output of previous cell\n",
    "tuner_analytics = sagemaker.HyperparameterTuningJobAnalytics(tuning_job_name)\n",
    "\n",
    "full_df = tuner_analytics.dataframe()\n",
    "full_df.sort_values(by=[\"FinalObjectiveValue\"], ascending=True).head()"
   ]
  },
  {
   "cell_type": "markdown",
   "id": "f23d10ef-bdb4-4f50-b718-075d509f72f7",
   "metadata": {},
   "source": [
    "# 4. Deploy a trained model as an inference endpoint"
   ]
  },
  {
   "cell_type": "markdown",
   "id": "3b282acb-9254-400f-8d63-f9d5508ce73e",
   "metadata": {},
   "source": [
    "Deploy a the trained LR model using an inference script providing:\n",
    "1. custom preprocessing to read h5ad file from s3, subset the data on genes in the trained model, normalize and transform the counts\n",
    "2. use the trained logistic regression model to predict cell type"
   ]
  },
  {
   "cell_type": "code",
   "execution_count": null,
   "id": "5eaab842-72fa-4274-ac97-f57ee0eb4464",
   "metadata": {
    "tags": []
   },
   "outputs": [],
   "source": [
    "# model_id = \"baseline-LR-2024-09-27-20-38-47-755\"\n",
    "model_id = \"baseline-LR-2024-10-13-00-29-21-381\"\n",
    "model_data = f\"s3://{S3_BUCKET}/scrnaseq-fm-finetune/trained_models/{model_id}/output/model.tar.gz\"\n",
    "lr_model = SKLearnModel(model_data, \n",
    "            sagemaker_execution_role, \n",
    "            entry_point=\"scrna_inference.py\", \n",
    "            framework_version=\"1.2-1\",\n",
    "            py_version=\"py3\",\n",
    "            source_dir=\"scripts/inference\",\n",
    "            name=\"scRNASeq-celltype-lr-clf\"\n",
    "            )\n",
    "predictor = lr_model.deploy(instance_type=\"local\", #\"ml.m5.xlarge\", \n",
    "                            initial_instance_count=1,\n",
    "                            endpoint_name='scRNASeq-celltype-lr-clf')\n",
    "\n",
    "predictor.serializer = CSVSerializer()\n",
    "predictor.deserializer = CSVDeserializer()"
   ]
  },
  {
   "cell_type": "code",
   "execution_count": null,
   "id": "601f57c6-5d30-47bb-8248-ccfeb6b569cb",
   "metadata": {
    "tags": []
   },
   "outputs": [],
   "source": [
    "predicted_value = predictor.predict(\"s3://sagemaker-us-west-2-851725420776/scrnaseq-fm-finetune/sc-preprocess/test\")"
   ]
  },
  {
   "cell_type": "code",
   "execution_count": null,
   "id": "d05ff628-0023-4607-bd61-9c8de2635bcb",
   "metadata": {
    "tags": []
   },
   "outputs": [],
   "source": [
    "predicted_value"
   ]
  }
 ],
 "metadata": {
  "kernelspec": {
   "display_name": "conda_tensorflow2_p310",
   "language": "python",
   "name": "conda_tensorflow2_p310"
  },
  "language_info": {
   "codemirror_mode": {
    "name": "ipython",
    "version": 3
   },
   "file_extension": ".py",
   "mimetype": "text/x-python",
   "name": "python",
   "nbconvert_exporter": "python",
   "pygments_lexer": "ipython3",
   "version": "3.10.14"
  }
 },
 "nbformat": 4,
 "nbformat_minor": 5
}
