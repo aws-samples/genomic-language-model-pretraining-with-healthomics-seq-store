{
 "cells": [
  {
   "cell_type": "markdown",
   "id": "fd3d6494-8e30-432b-a173-99e0828867f4",
   "metadata": {
    "tags": []
   },
   "source": [
    "# Training a downstream task using the Evo model"
   ]
  },
  {
   "cell_type": "code",
   "execution_count": null,
   "id": "82308943-5300-4cc0-856c-879e1a6f24fe",
   "metadata": {
    "tags": []
   },
   "outputs": [],
   "source": [
    "%pip install -qU pip\n",
    "%pip install -qU sagemaker boto3 awscli ipywidgets"
   ]
  },
  {
   "cell_type": "code",
   "execution_count": null,
   "id": "f3e8d899-38ef-4e5b-b798-782d97c6144e",
   "metadata": {
    "tags": []
   },
   "outputs": [],
   "source": [
    "import json\n",
    "from pathlib import Path\n",
    "import os\n",
    "import sys\n",
    "from typing import List\n",
    "\n",
    "# if the following command fails you may need to modify\n",
    "# it to match the notebook's CWD:\n",
    "!cp utilities.py evo-model/scripts\n",
    "sys.path.append('../')\n",
    "from scripts.utilities import join\n",
    "\n",
    "import boto3\n",
    "import sagemaker\n",
    "from sagemaker.experiments.run import Run\n",
    "from sagemaker.inputs import TrainingInput\n",
    "from sagemaker.pytorch import PyTorch\n",
    "from sagemaker.debugger import TensorBoardOutputConfig"
   ]
  },
  {
   "cell_type": "code",
   "execution_count": null,
   "id": "46afa5b6-7d8e-4d4e-9be7-bedaf774694b",
   "metadata": {
    "tags": []
   },
   "outputs": [],
   "source": [
    "boto_session = boto3.session.Session()\n",
    "sagemaker_session = sagemaker.session.Session(boto_session)\n",
    "\n",
    "REGION_NAME = sagemaker_session.boto_region_name\n",
    "S3_BUCKET = \"sgh-misc\"  # change this to a bucket in your account\n",
    "EXPERIMENT_NAME = \"evo-downstream-task\"\n",
    "\n",
    "SAGEMAKER_EXECUTION_ROLE = sagemaker.session.get_execution_role(sagemaker_session)\n",
    "print(f\"Assumed SageMaker role is {SAGEMAKER_EXECUTION_ROLE}\")"
   ]
  },
  {
   "cell_type": "code",
   "execution_count": null,
   "id": "207ee04b-a852-4533-beff-544e38fe5952",
   "metadata": {
    "tags": []
   },
   "outputs": [],
   "source": [
    "S3_DATA_PREFIX_URI = \"s3://sgh-misc/evo-datasets/all/\"\n",
    "S3_DATA_URI = join(\"/\", S3_DATA_PREFIX_URI, \"examples.jsonl\")\n",
    "MODEL_ID = \"togethercomputer/evo-1-8k-base\"\n",
    "TRAINING_JOB_NAME = \"evo-downstream-task-training\"\n",
    "\n",
    "S3_DATA_URI"
   ]
  },
  {
   "cell_type": "markdown",
   "id": "c7a68d1b-edb1-49ee-acae-076bdecff096",
   "metadata": {},
   "source": [
    "#### Define the training container "
   ]
  },
  {
   "cell_type": "code",
   "execution_count": null,
   "id": "e7e3deae-0de2-499e-a60a-c76aaef138ec",
   "metadata": {
    "tags": []
   },
   "outputs": [],
   "source": [
    "pytorch_image_uri = f\"763104351884.dkr.ecr.{REGION_NAME}.amazonaws.com/pytorch-training:2.2.0-gpu-py310-cu121-ubuntu20.04-sagemaker\"\n",
    "pytorch_image_uri"
   ]
  },
  {
   "cell_type": "markdown",
   "id": "0fc9dd52-f7a9-45eb-ab18-4dc382705f9d",
   "metadata": {
    "tags": []
   },
   "source": [
    "## Pre-process the data\n",
    "\n",
    "Here we augment the data (to mitigate the effects of the category bias in the training examples)\n",
    "and compute Evo embeddings for each example. The augmented data and concomitant embeddings are \n",
    "stored in s3."
   ]
  },
  {
   "cell_type": "code",
   "execution_count": null,
   "id": "8d40a8c4-d02f-4bc5-9f32-ee203bc54ffa",
   "metadata": {
    "tags": []
   },
   "outputs": [],
   "source": [
    "# Note that p4 instances aren't available for ProcessingJobs so we\n",
    "# shoehorn our data-preprocessing into an Estimator\n",
    "\n",
    "# instance_type = \"ml.p3.2xlarge\" # useful for testing plumbing\n",
    "instance_type = \"ml.p4d.24xlarge\"\n",
    "\n",
    "data_processing_hyperparameters = {\n",
    "    \"model_checkpoint\": MODEL_ID,\n",
    "    \"batch_size\": 1,\n",
    "    \"augment_datasets\": 1,\n",
    "    \"log_level\" : \"INFO\",\n",
    "    \"output_s3_prefix_uri\": S3_DATA_PREFIX_URI\n",
    "}\n",
    "\n",
    "data_processor = PyTorch(\n",
    "    base_job_name=TRAINING_JOB_NAME,\n",
    "    entry_point=\"data-preprocessing.py\",\n",
    "    source_dir=\"evo-model/scripts/\",\n",
    "    instance_type=instance_type,\n",
    "    instance_count=1,\n",
    "    image_uri=pytorch_image_uri,\n",
    "    role=SAGEMAKER_EXECUTION_ROLE,\n",
    "    hyperparameters=data_processing_hyperparameters,\n",
    "    sagemaker_session=sagemaker_session,\n",
    "    tags=[{\"Key\": \"project\", \"Value\": \"evo-model-downstream-task-data-prep\"}],\n",
    "    keep_alive_period_in_seconds=1800)"
   ]
  },
  {
   "cell_type": "code",
   "execution_count": null,
   "id": "883df0e0-b211-461b-b05f-f1bf16c480ff",
   "metadata": {
    "tags": []
   },
   "outputs": [],
   "source": [
    "data_processor.fit({\n",
    "    \"data\": TrainingInput(s3_data=S3_DATA_URI, input_mode=\"File\")\n",
    "    },\n",
    "    wait=True)"
   ]
  },
  {
   "cell_type": "markdown",
   "id": "c52a3e14-2cab-472a-96d9-808c39c4f8c8",
   "metadata": {},
   "source": [
    "## Train the downstream task"
   ]
  },
  {
   "cell_type": "code",
   "execution_count": null,
   "id": "cfe0c7f6-0a53-483a-80ae-793ad58d7ee5",
   "metadata": {
    "tags": []
   },
   "outputs": [],
   "source": [
    "downstream_hyperparameters = {\n",
    "    \"epochs\": 500,\n",
    "    \"batch_size\": 128,\n",
    "    \"learning_rate\": 0.001, # default for Adam is 0.001\n",
    "    \"log_level\" : \"INFO\",\n",
    "    # \"model_revision\": \"1.1_fix\",\n",
    "    \"model_revision\": \"main\",\n",
    "    \"train_test_split\": 0.8\n",
    "}"
   ]
  },
  {
   "cell_type": "markdown",
   "id": "3178423a-828b-4101-b540-5efe22b5e223",
   "metadata": {},
   "source": [
    "#### Define Metrics to track\n",
    "\n",
    "You can view these metrics on the Training Job page in the Sagemaker console."
   ]
  },
  {
   "cell_type": "code",
   "execution_count": null,
   "id": "4ad98da5-1d11-4eb4-8718-2e4cb4834872",
   "metadata": {
    "tags": []
   },
   "outputs": [],
   "source": [
    "metric_definitions = [\n",
    "    {\"Name\": \"epoch\",           \"Regex\": \"Epoch #([0-9]+)\"},\n",
    "    {\"Name\": \"train_loss\",      \"Regex\": \"Train Loss: ([0-9.e-]+)\"},\n",
    "    {\"Name\": \"eval_loss\",       \"Regex\": \"Eval Loss: ([0-9.e-]+)\"},\n",
    "    {\"Name\": \"train_RMS_error\", \"Regex\": \"Train RMSerr: ([0-9.e-]+)\"},\n",
    "    {\"Name\": \"eval_RMS_error\",  \"Regex\": \"Eval RMSerr: ([0-9.e-]+)\"}   \n",
    "]"
   ]
  },
  {
   "cell_type": "markdown",
   "id": "82c9636d-1707-42ee-aa77-3f63c095285c",
   "metadata": {},
   "source": [
    "#### 2.4 Define the tensorboard configurations to track the training results"
   ]
  },
  {
   "cell_type": "code",
   "execution_count": null,
   "id": "d22067bf-c6b5-478d-b8ca-65a0bd487768",
   "metadata": {
    "tags": []
   },
   "outputs": [],
   "source": [
    "LOG_DIR = \"/opt/ml/output/tensorboard\"\n",
    "\n",
    "output_path = join(\"/\", f\"s3://{S3_BUCKET}\", \"sagemaker-output\", \"training\",\n",
    "                        TRAINING_JOB_NAME)\n",
    "s3_output_path = join(\"/\", output_path, \"tensorboard\")\n",
    "tensorboard_output_config = TensorBoardOutputConfig(\n",
    "    s3_output_path=s3_output_path,\n",
    "    container_local_output_path=LOG_DIR)\n",
    "print(s3_output_path)"
   ]
  },
  {
   "cell_type": "markdown",
   "id": "af18fb5e-e1cf-447b-84fa-eb80b347c9e1",
   "metadata": {},
   "source": [
    "### Define Estimator"
   ]
  },
  {
   "cell_type": "code",
   "execution_count": null,
   "id": "dcd8126d-605c-40c6-bce1-a68602f80e82",
   "metadata": {
    "tags": []
   },
   "outputs": [],
   "source": [
    "instance_type = \"ml.p3.2xlarge\" \n",
    "# instance_type = \"ml.p4d.24xlarge\"\n",
    "\n",
    "evo_estimator = PyTorch(\n",
    "    base_job_name=TRAINING_JOB_NAME,\n",
    "    entry_point=\"downstream_task.py\",\n",
    "    source_dir=\"evo-model/scripts/\",\n",
    "    instance_type=instance_type,\n",
    "    instance_count=1,\n",
    "    image_uri=pytorch_image_uri,\n",
    "    role=SAGEMAKER_EXECUTION_ROLE,\n",
    "    hyperparameters=downstream_hyperparameters,\n",
    "    metric_definitions=metric_definitions,\n",
    "    sagemaker_session=sagemaker_session,\n",
    "    tags=[{\"Key\": \"project\", \"Value\": \"evo-model-downstream-task\"}],\n",
    "    keep_alive_period_in_seconds=1800,\n",
    "    tensorboard_output_config=tensorboard_output_config)"
   ]
  },
  {
   "cell_type": "code",
   "execution_count": null,
   "id": "1e2f96be-8533-4920-a343-95d4625e8e86",
   "metadata": {
    "tags": []
   },
   "outputs": [],
   "source": [
    "print(f\"Training with data from {S3_DATA_PREFIX_URI}\")"
   ]
  },
  {
   "cell_type": "code",
   "execution_count": null,
   "id": "f2b5544d-cffb-4a1a-bbe5-5d260c31bf2d",
   "metadata": {
    "tags": []
   },
   "outputs": [],
   "source": [
    "with Run(\n",
    "    experiment_name=EXPERIMENT_NAME,\n",
    "    sagemaker_session=sagemaker_session,\n",
    ") as run:\n",
    "    evo_estimator.fit({\"data\": TrainingInput(s3_data=S3_DATA_PREFIX_URI,\n",
    "                                             input_mode=\"File\")},\n",
    "                      wait=True)"
   ]
  },
  {
   "cell_type": "code",
   "execution_count": null,
   "id": "5efe1b4b-f7d5-402c-93ed-0844a64fd581",
   "metadata": {},
   "outputs": [],
   "source": [
    "training_job_name = evo_estimator.latest_training_job.name\n",
    "training_job_name"
   ]
  },
  {
   "cell_type": "markdown",
   "id": "59941ec0-9bb4-44f6-994d-eaa77b2adb10",
   "metadata": {},
   "source": [
    "## Training Results "
   ]
  },
  {
   "cell_type": "markdown",
   "id": "9c6e66b6-92ce-4f8c-bc75-e884ee71b98a",
   "metadata": {},
   "source": [
    "The above training process has placed logging results in the s3 location `s3_output_path` where\n",
    "the SageMaker Tensorboard application can access it. You can use the Tensorboard app to see the training curves and other information about your runs above. For example, you might see something like this: ![training curves](resources/training-curves.png \"Training Curves\")"
   ]
  },
  {
   "cell_type": "code",
   "execution_count": null,
   "id": "9506ccb0-8e0a-463f-8d3c-22efc99e45ac",
   "metadata": {},
   "outputs": [],
   "source": []
  }
 ],
 "metadata": {
  "kernelspec": {
   "display_name": "conda_python3",
   "language": "python",
   "name": "conda_python3"
  },
  "language_info": {
   "codemirror_mode": {
    "name": "ipython",
    "version": 3
   },
   "file_extension": ".py",
   "mimetype": "text/x-python",
   "name": "python",
   "nbconvert_exporter": "python",
   "pygments_lexer": "ipython3",
   "version": "3.10.14"
  }
 },
 "nbformat": 4,
 "nbformat_minor": 5
}
