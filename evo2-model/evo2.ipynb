{
 "cells": [
  {
   "cell_type": "markdown",
   "id": "d70b8bd3-eee7-4e01-b524-79a208ddeff2",
   "metadata": {},
   "source": [
    "## Evo 2 [WORK IN PROGRESS, NOT TESTED]\n",
    "\n",
    "This notebook shows how to deploy Evo 2 as a `Predictor` using the Sagemaker API"
   ]
  },
  {
   "cell_type": "code",
   "execution_count": null,
   "id": "8392b6e9-8607-4475-87ef-fe5f240099b3",
   "metadata": {
    "tags": []
   },
   "outputs": [],
   "source": [
    "import boto3\n",
    "import json\n",
    "import sagemaker\n",
    "from sagemaker.model import Model\n",
    "from sagemaker import get_execution_role"
   ]
  },
  {
   "cell_type": "code",
   "execution_count": null,
   "id": "88e334d7-8bda-470b-b1ca-8ddec79b3f92",
   "metadata": {
    "tags": []
   },
   "outputs": [],
   "source": [
    "role = get_execution_role()  # Or you can specify the role ARN directly\n",
    "role"
   ]
  },
  {
   "cell_type": "markdown",
   "id": "9177aaa2-ef24-43b7-bca1-b03b2751712e",
   "metadata": {},
   "source": [
    "## Update IAM role\n",
    "In order to pull the Docker image, below, the notebook's IAM role may need to be updated. Using the value (shown above) of the `role` variable, use the IAM console to ensure that this role has the permission `AmazonEC2ContainerRegistryPullOnly`"
   ]
  },
  {
   "cell_type": "code",
   "execution_count": null,
   "id": "cfee18e3-2c78-41e1-95fa-4b80dcf45727",
   "metadata": {
    "tags": []
   },
   "outputs": [],
   "source": [
    "region = 'us-east-1'  # Change to your AWS region, must be same region as ECR image\n",
    "sagemaker_session = sagemaker.Session(boto3.session.Session(region_name=region))\n",
    "\n",
    "# ECR Image URI (URI of already registered image)\n",
    "ecr_image = \"111918798052.dkr.ecr.us-east-1.amazonaws.com/evo2\"  # Your ECR image URI\n",
    "\n",
    "# Create Model\n",
    "model_name = \"evo2-40b-model-p5e-sm-docker\"\n",
    "endpoint_name = \"evo2-40b-endpoint-p5e-sm-docker\"\n",
    "\n",
    "# Environment variables setup - Required for model loading inside the container\n",
    "environment = {\n",
    "    'DEFAULT_MODEL_NAME': 'evo2_40b',  # base model\n",
    "    'MODEL_PATH': '/opt/ml/model'     # SageMaker's default model path\n",
    "}\n",
    "\n",
    "# Create model object\n",
    "model = Model(\n",
    "    image_uri=ecr_image,\n",
    "    model_data=None,  # Set to None when model artifacts are included in the image\n",
    "    role=role,\n",
    "    name=model_name,\n",
    "    env=environment,\n",
    "    sagemaker_session=sagemaker_session\n",
    ")\n",
    "\n",
    "# Deploy endpoint\n",
    "predictor = model.deploy(\n",
    "    initial_instance_count=1,\n",
    "    instance_type='ml.p5e.48xlarge',  # Choose appropriate GPU instance type\n",
    "    endpoint_name=endpoint_name,\n",
    "    tags=[{'Key': 'Project', 'Value': 'evo2'}]\n",
    ")"
   ]
  },
  {
   "cell_type": "code",
   "execution_count": null,
   "id": "87a84e9b-333d-4666-a223-51179c8c4a6d",
   "metadata": {},
   "outputs": [],
   "source": [
    "# Create a wrapper to match the original API\n",
    "class Evo2Predictor:\n",
    "    def __init__(self, predictor):\n",
    "        self.predictor = predictor\n",
    "        self.predictor.serializer = sagemaker.serializers.JSONSerializer()\n",
    "        self.predictor.deserializer = sagemaker.deserializers.JSONDeserializer()\n",
    "    \n",
    "    def generate(self, input_seqs, n_tokens=500, temperature=1.0, model_name=None):\n",
    "        \"\"\"\n",
    "        Call the SageMaker endpoint with the same API as the local Evo2 model\n",
    "        \n",
    "        Args:\n",
    "            input_seqs (list): List of input sequences\n",
    "            n_tokens (int): Number of tokens to generate\n",
    "            temperature (float): Temperature for sampling\n",
    "            model_name (str, optional): The model name to use. If None, uses the default model.\n",
    "        \"\"\"\n",
    "        payload = {\n",
    "            'input_seqs': input_seqs,\n",
    "            'n_tokens': n_tokens,\n",
    "            'temperature': temperature\n",
    "        }\n",
    "        \n",
    "        # Add model_name to payload if specified\n",
    "        if model_name:\n",
    "            payload['model_name'] = model_name\n",
    "\n",
    "        response = self.predictor.predict(payload)\n",
    "        return response\n",
    "\n",
    "\n",
    "# Wrap the predictor with our adapter\n",
    "evo2_predictor = Evo2Predictor(predictor)\n",
    "\n",
    "# Test with example input\n",
    "input_seqs = [\n",
    "    \"GAATAGGAACAGCTCCGGTCTACAGCTCCCAGCGTGAGCGACGCAGAAGACGGTGATTTCTGCATTTCCATCTGAGGTACCGGGTTCATCTCACTAGGGAGTGCCAGACAGTGGGCGCAGGCCAGTGTGTGTGCGCACCGTGCGCGAGCCGAAGCAGGGCGAGGCATTGCCTCACCTGGGAAGCGCAAGGGGTCAGGGAGTTCCCTTTCCGAGTCAAAGAAAGGG\",\n",
    "]\n",
    "\n",
    "# Example of using the basic model:\n",
    "print(\"Using default model:\")\n",
    "generations = evo2_predictor.generate(\n",
    "    input_seqs,\n",
    "    n_tokens=500,\n",
    "    temperature=1.0\n",
    ")\n",
    "print(generations)"
   ]
  },
  {
   "cell_type": "code",
   "execution_count": null,
   "id": "2bcec329-fe71-45d1-a756-7b2017794ca7",
   "metadata": {},
   "outputs": [],
   "source": []
  }
 ],
 "metadata": {
  "kernelspec": {
   "display_name": "conda_python3",
   "language": "python",
   "name": "conda_python3"
  },
  "language_info": {
   "codemirror_mode": {
    "name": "ipython",
    "version": 3
   },
   "file_extension": ".py",
   "mimetype": "text/x-python",
   "name": "python",
   "nbconvert_exporter": "python",
   "pygments_lexer": "ipython3",
   "version": "3.10.16"
  }
 },
 "nbformat": 4,
 "nbformat_minor": 5
}
